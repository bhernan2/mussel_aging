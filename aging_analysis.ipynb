{
 "cells": [
  {
   "cell_type": "markdown",
   "metadata": {},
   "source": [
    "### Import dependencies"
   ]
  },
  {
   "cell_type": "code",
   "execution_count": 143,
   "metadata": {},
   "outputs": [],
   "source": [
    "import pandas as pd\n",
    "import numpy as np\n",
    "import seaborn as sns\n",
    "import matplotlib.pyplot as plt\n",
    "import pygsheets\n",
    "%matplotlib inline\n"
   ]
  },
  {
   "cell_type": "markdown",
   "metadata": {},
   "source": [
    "### Authorize connection between Jupyter notebook and google sheets "
   ]
  },
  {
   "cell_type": "code",
   "execution_count": 27,
   "metadata": {},
   "outputs": [],
   "source": [
    "gc = pygsheets.authorize() \n",
    "# Use customized credentials \n",
    "gc = pygsheets.authorize(client_secret='client_secret.json')\n",
    "# For the first time, it will may produce as a link to authorize"
   ]
  },
  {
   "cell_type": "markdown",
   "metadata": {},
   "source": [
    "### Open spreadsheet by name"
   ]
  },
  {
   "cell_type": "code",
   "execution_count": 28,
   "metadata": {},
   "outputs": [],
   "source": [
    "sh = gc.open('PythonCurrentFlow_Aging')"
   ]
  },
  {
   "cell_type": "markdown",
   "metadata": {},
   "source": [
    "### Open \"Data\" worksheet (can also use sh.sheet1)"
   ]
  },
  {
   "cell_type": "code",
   "execution_count": 123,
   "metadata": {},
   "outputs": [],
   "source": [
    "data = sh[0]"
   ]
  },
  {
   "cell_type": "markdown",
   "metadata": {},
   "source": [
    "### Get worksheet values as pandas dataframe"
   ]
  },
  {
   "cell_type": "code",
   "execution_count": 124,
   "metadata": {},
   "outputs": [],
   "source": [
    "aging_data = pd.DataFrame(data.get_all_records())"
   ]
  },
  {
   "cell_type": "code",
   "execution_count": 125,
   "metadata": {
    "scrolled": true
   },
   "outputs": [
    {
     "data": {
      "text/html": [
       "<div>\n",
       "<style scoped>\n",
       "    .dataframe tbody tr th:only-of-type {\n",
       "        vertical-align: middle;\n",
       "    }\n",
       "\n",
       "    .dataframe tbody tr th {\n",
       "        vertical-align: top;\n",
       "    }\n",
       "\n",
       "    .dataframe thead th {\n",
       "        text-align: right;\n",
       "    }\n",
       "</style>\n",
       "<table border=\"1\" class=\"dataframe\">\n",
       "  <thead>\n",
       "    <tr style=\"text-align: right;\">\n",
       "      <th></th>\n",
       "      <th>Genus</th>\n",
       "      <th>Species</th>\n",
       "      <th>Sample ID</th>\n",
       "      <th>Species Code</th>\n",
       "      <th>Site</th>\n",
       "      <th>River</th>\n",
       "      <th>Basin</th>\n",
       "      <th>Lat</th>\n",
       "      <th>Long</th>\n",
       "      <th>Date Collected</th>\n",
       "      <th>Length (mm)</th>\n",
       "      <th>Status Upon Collection</th>\n",
       "      <th>Final Age</th>\n",
       "      <th>Age dif</th>\n",
       "      <th>Z age</th>\n",
       "      <th>L age</th>\n",
       "      <th>B age</th>\n",
       "      <th>K&amp;M Age</th>\n",
       "      <th>K age</th>\n",
       "      <th>M age</th>\n",
       "      <th>Notes</th>\n",
       "    </tr>\n",
       "  </thead>\n",
       "  <tbody>\n",
       "    <tr>\n",
       "      <th>0</th>\n",
       "      <td>Amblema</td>\n",
       "      <td>plicata</td>\n",
       "      <td>1</td>\n",
       "      <td>D</td>\n",
       "      <td>Gonzales, TX</td>\n",
       "      <td>Guadalupe</td>\n",
       "      <td>Guadalupe</td>\n",
       "      <td>29.493646°</td>\n",
       "      <td>-97.431293°</td>\n",
       "      <td>9/24/19</td>\n",
       "      <td>74.0</td>\n",
       "      <td>Alive</td>\n",
       "      <td>15</td>\n",
       "      <td></td>\n",
       "      <td></td>\n",
       "      <td></td>\n",
       "      <td></td>\n",
       "      <td>15</td>\n",
       "      <td>15</td>\n",
       "      <td>14</td>\n",
       "      <td></td>\n",
       "    </tr>\n",
       "    <tr>\n",
       "      <th>1</th>\n",
       "      <td>Amblema</td>\n",
       "      <td>plicata</td>\n",
       "      <td>2</td>\n",
       "      <td>D</td>\n",
       "      <td>Gonzales, TX</td>\n",
       "      <td>Guadalupe</td>\n",
       "      <td>Guadalupe</td>\n",
       "      <td>29.493646°</td>\n",
       "      <td>-97.431293°</td>\n",
       "      <td>9/24/19</td>\n",
       "      <td>72.0</td>\n",
       "      <td>Alive</td>\n",
       "      <td>16</td>\n",
       "      <td></td>\n",
       "      <td></td>\n",
       "      <td></td>\n",
       "      <td></td>\n",
       "      <td>16</td>\n",
       "      <td>16</td>\n",
       "      <td>12</td>\n",
       "      <td></td>\n",
       "    </tr>\n",
       "    <tr>\n",
       "      <th>2</th>\n",
       "      <td>Amblema</td>\n",
       "      <td>plicata</td>\n",
       "      <td>3</td>\n",
       "      <td>D</td>\n",
       "      <td>Gonzales, TX</td>\n",
       "      <td>Guadalupe</td>\n",
       "      <td>Guadalupe</td>\n",
       "      <td>29.493646°</td>\n",
       "      <td>-97.431293°</td>\n",
       "      <td>9/24/19</td>\n",
       "      <td>76.0</td>\n",
       "      <td>Alive</td>\n",
       "      <td>17</td>\n",
       "      <td></td>\n",
       "      <td></td>\n",
       "      <td></td>\n",
       "      <td></td>\n",
       "      <td>17</td>\n",
       "      <td>17</td>\n",
       "      <td>9</td>\n",
       "      <td></td>\n",
       "    </tr>\n",
       "    <tr>\n",
       "      <th>3</th>\n",
       "      <td>Amblema</td>\n",
       "      <td>plicata</td>\n",
       "      <td>4</td>\n",
       "      <td>D</td>\n",
       "      <td>Gonzales, TX</td>\n",
       "      <td>Guadalupe</td>\n",
       "      <td>Guadalupe</td>\n",
       "      <td>29.493646°</td>\n",
       "      <td>-97.431293°</td>\n",
       "      <td>9/24/19</td>\n",
       "      <td>76.0</td>\n",
       "      <td>Alive</td>\n",
       "      <td>15</td>\n",
       "      <td></td>\n",
       "      <td></td>\n",
       "      <td></td>\n",
       "      <td></td>\n",
       "      <td>15</td>\n",
       "      <td>13</td>\n",
       "      <td>12</td>\n",
       "      <td></td>\n",
       "    </tr>\n",
       "    <tr>\n",
       "      <th>4</th>\n",
       "      <td>Amblema</td>\n",
       "      <td>plicata</td>\n",
       "      <td>5</td>\n",
       "      <td>D</td>\n",
       "      <td>Gonzales, TX</td>\n",
       "      <td>Guadalupe</td>\n",
       "      <td>Guadalupe</td>\n",
       "      <td>29.493646°</td>\n",
       "      <td>-97.431293°</td>\n",
       "      <td>9/24/19</td>\n",
       "      <td>77.0</td>\n",
       "      <td>Alive</td>\n",
       "      <td>14</td>\n",
       "      <td></td>\n",
       "      <td></td>\n",
       "      <td></td>\n",
       "      <td></td>\n",
       "      <td>14</td>\n",
       "      <td>14</td>\n",
       "      <td>12</td>\n",
       "      <td></td>\n",
       "    </tr>\n",
       "  </tbody>\n",
       "</table>\n",
       "</div>"
      ],
      "text/plain": [
       "     Genus  Species  Sample ID Species Code          Site      River  \\\n",
       "0  Amblema  plicata          1            D  Gonzales, TX  Guadalupe   \n",
       "1  Amblema  plicata          2            D  Gonzales, TX  Guadalupe   \n",
       "2  Amblema  plicata          3            D  Gonzales, TX  Guadalupe   \n",
       "3  Amblema  plicata          4            D  Gonzales, TX  Guadalupe   \n",
       "4  Amblema  plicata          5            D  Gonzales, TX  Guadalupe   \n",
       "\n",
       "       Basin         Lat         Long Date Collected  Length (mm)  \\\n",
       "0  Guadalupe  29.493646°  -97.431293°        9/24/19         74.0   \n",
       "1  Guadalupe  29.493646°  -97.431293°        9/24/19         72.0   \n",
       "2  Guadalupe  29.493646°  -97.431293°        9/24/19         76.0   \n",
       "3  Guadalupe  29.493646°  -97.431293°        9/24/19         76.0   \n",
       "4  Guadalupe  29.493646°  -97.431293°        9/24/19         77.0   \n",
       "\n",
       "  Status Upon Collection Final Age Age dif Z age L age B age K&M Age K age  \\\n",
       "0                  Alive        15                                15    15   \n",
       "1                  Alive        16                                16    16   \n",
       "2                  Alive        17                                17    17   \n",
       "3                  Alive        15                                15    13   \n",
       "4                  Alive        14                                14    14   \n",
       "\n",
       "  M age Notes  \n",
       "0    14        \n",
       "1    12        \n",
       "2     9        \n",
       "3    12        \n",
       "4    12        "
      ]
     },
     "execution_count": 125,
     "metadata": {},
     "output_type": "execute_result"
    }
   ],
   "source": [
    "aging_data.head()"
   ]
  },
  {
   "cell_type": "markdown",
   "metadata": {},
   "source": [
    "### Clean data"
   ]
  },
  {
   "cell_type": "markdown",
   "metadata": {},
   "source": [
    "#### Rename columns "
   ]
  },
  {
   "cell_type": "code",
   "execution_count": 132,
   "metadata": {},
   "outputs": [],
   "source": [
    "df_rename=aging_data.rename(columns={\"Sample ID\": \"id\", \"Genus\":\"genus\", \"Species\":\"species\", \"Species Code\": \"code\", \"Site\":\"site\", \"River\":\"river\", \"Basin\":\"basin\", \"Lat\":\"lat\", \"Long\":\"long\", \"Date Collected\":\"date\", \"Status Upon Collection\":\"status\", \"Ager\":\"ager\", \"Age\":\"age\"})\n"
   ]
  },
  {
   "cell_type": "markdown",
   "metadata": {},
   "source": [
    "#### Drop some columns"
   ]
  },
  {
   "cell_type": "code",
   "execution_count": 133,
   "metadata": {},
   "outputs": [
    {
     "data": {
      "text/html": [
       "<div>\n",
       "<style scoped>\n",
       "    .dataframe tbody tr th:only-of-type {\n",
       "        vertical-align: middle;\n",
       "    }\n",
       "\n",
       "    .dataframe tbody tr th {\n",
       "        vertical-align: top;\n",
       "    }\n",
       "\n",
       "    .dataframe thead th {\n",
       "        text-align: right;\n",
       "    }\n",
       "</style>\n",
       "<table border=\"1\" class=\"dataframe\">\n",
       "  <thead>\n",
       "    <tr style=\"text-align: right;\">\n",
       "      <th></th>\n",
       "      <th>genus</th>\n",
       "      <th>species</th>\n",
       "      <th>id</th>\n",
       "      <th>code</th>\n",
       "      <th>site</th>\n",
       "      <th>river</th>\n",
       "      <th>basin</th>\n",
       "      <th>lat</th>\n",
       "      <th>long</th>\n",
       "      <th>date</th>\n",
       "      <th>Length (mm)</th>\n",
       "      <th>status</th>\n",
       "      <th>Z age</th>\n",
       "      <th>L age</th>\n",
       "      <th>B age</th>\n",
       "    </tr>\n",
       "  </thead>\n",
       "  <tbody>\n",
       "    <tr>\n",
       "      <th>0</th>\n",
       "      <td>Amblema</td>\n",
       "      <td>plicata</td>\n",
       "      <td>1</td>\n",
       "      <td>D</td>\n",
       "      <td>Gonzales, TX</td>\n",
       "      <td>Guadalupe</td>\n",
       "      <td>Guadalupe</td>\n",
       "      <td>29.493646°</td>\n",
       "      <td>-97.431293°</td>\n",
       "      <td>9/24/19</td>\n",
       "      <td>74.0</td>\n",
       "      <td>Alive</td>\n",
       "      <td></td>\n",
       "      <td></td>\n",
       "      <td></td>\n",
       "    </tr>\n",
       "    <tr>\n",
       "      <th>1</th>\n",
       "      <td>Amblema</td>\n",
       "      <td>plicata</td>\n",
       "      <td>2</td>\n",
       "      <td>D</td>\n",
       "      <td>Gonzales, TX</td>\n",
       "      <td>Guadalupe</td>\n",
       "      <td>Guadalupe</td>\n",
       "      <td>29.493646°</td>\n",
       "      <td>-97.431293°</td>\n",
       "      <td>9/24/19</td>\n",
       "      <td>72.0</td>\n",
       "      <td>Alive</td>\n",
       "      <td></td>\n",
       "      <td></td>\n",
       "      <td></td>\n",
       "    </tr>\n",
       "    <tr>\n",
       "      <th>2</th>\n",
       "      <td>Amblema</td>\n",
       "      <td>plicata</td>\n",
       "      <td>3</td>\n",
       "      <td>D</td>\n",
       "      <td>Gonzales, TX</td>\n",
       "      <td>Guadalupe</td>\n",
       "      <td>Guadalupe</td>\n",
       "      <td>29.493646°</td>\n",
       "      <td>-97.431293°</td>\n",
       "      <td>9/24/19</td>\n",
       "      <td>76.0</td>\n",
       "      <td>Alive</td>\n",
       "      <td></td>\n",
       "      <td></td>\n",
       "      <td></td>\n",
       "    </tr>\n",
       "    <tr>\n",
       "      <th>3</th>\n",
       "      <td>Amblema</td>\n",
       "      <td>plicata</td>\n",
       "      <td>4</td>\n",
       "      <td>D</td>\n",
       "      <td>Gonzales, TX</td>\n",
       "      <td>Guadalupe</td>\n",
       "      <td>Guadalupe</td>\n",
       "      <td>29.493646°</td>\n",
       "      <td>-97.431293°</td>\n",
       "      <td>9/24/19</td>\n",
       "      <td>76.0</td>\n",
       "      <td>Alive</td>\n",
       "      <td></td>\n",
       "      <td></td>\n",
       "      <td></td>\n",
       "    </tr>\n",
       "    <tr>\n",
       "      <th>4</th>\n",
       "      <td>Amblema</td>\n",
       "      <td>plicata</td>\n",
       "      <td>5</td>\n",
       "      <td>D</td>\n",
       "      <td>Gonzales, TX</td>\n",
       "      <td>Guadalupe</td>\n",
       "      <td>Guadalupe</td>\n",
       "      <td>29.493646°</td>\n",
       "      <td>-97.431293°</td>\n",
       "      <td>9/24/19</td>\n",
       "      <td>77.0</td>\n",
       "      <td>Alive</td>\n",
       "      <td></td>\n",
       "      <td></td>\n",
       "      <td></td>\n",
       "    </tr>\n",
       "  </tbody>\n",
       "</table>\n",
       "</div>"
      ],
      "text/plain": [
       "     genus  species  id code          site      river      basin         lat  \\\n",
       "0  Amblema  plicata   1    D  Gonzales, TX  Guadalupe  Guadalupe  29.493646°   \n",
       "1  Amblema  plicata   2    D  Gonzales, TX  Guadalupe  Guadalupe  29.493646°   \n",
       "2  Amblema  plicata   3    D  Gonzales, TX  Guadalupe  Guadalupe  29.493646°   \n",
       "3  Amblema  plicata   4    D  Gonzales, TX  Guadalupe  Guadalupe  29.493646°   \n",
       "4  Amblema  plicata   5    D  Gonzales, TX  Guadalupe  Guadalupe  29.493646°   \n",
       "\n",
       "          long     date  Length (mm) status Z age L age B age  \n",
       "0  -97.431293°  9/24/19         74.0  Alive                    \n",
       "1  -97.431293°  9/24/19         72.0  Alive                    \n",
       "2  -97.431293°  9/24/19         76.0  Alive                    \n",
       "3  -97.431293°  9/24/19         76.0  Alive                    \n",
       "4  -97.431293°  9/24/19         77.0  Alive                    "
      ]
     },
     "execution_count": 133,
     "metadata": {},
     "output_type": "execute_result"
    }
   ],
   "source": [
    "drop_df=df_rename.drop(columns=['Final Age', 'Age dif', 'K&M Age', 'K age', 'M age', 'Notes'])\n",
    "drop_df.head()"
   ]
  },
  {
   "cell_type": "markdown",
   "metadata": {},
   "source": [
    "#### Select teres data (b/c X, L and B have aged)"
   ]
  },
  {
   "cell_type": "code",
   "execution_count": 134,
   "metadata": {
    "scrolled": true
   },
   "outputs": [],
   "source": [
    "teres_df = drop_df.loc[drop_df[\"species\"] == \"teres\"]"
   ]
  },
  {
   "cell_type": "markdown",
   "metadata": {},
   "source": [
    "#### Drop NaNs"
   ]
  },
  {
   "cell_type": "code",
   "execution_count": 135,
   "metadata": {},
   "outputs": [],
   "source": [
    "nan_value=float(\"NaN\")\n",
    "teres_df.replace(\"\", nan_value, inplace=True)\n",
    "clean_teres=teres_df.dropna()\n"
   ]
  },
  {
   "cell_type": "code",
   "execution_count": 138,
   "metadata": {
    "scrolled": true
   },
   "outputs": [
    {
     "data": {
      "text/html": [
       "<div>\n",
       "<style scoped>\n",
       "    .dataframe tbody tr th:only-of-type {\n",
       "        vertical-align: middle;\n",
       "    }\n",
       "\n",
       "    .dataframe tbody tr th {\n",
       "        vertical-align: top;\n",
       "    }\n",
       "\n",
       "    .dataframe thead th {\n",
       "        text-align: right;\n",
       "    }\n",
       "</style>\n",
       "<table border=\"1\" class=\"dataframe\">\n",
       "  <thead>\n",
       "    <tr style=\"text-align: right;\">\n",
       "      <th></th>\n",
       "      <th>genus</th>\n",
       "      <th>species</th>\n",
       "      <th>id</th>\n",
       "      <th>code</th>\n",
       "      <th>site</th>\n",
       "      <th>river</th>\n",
       "      <th>basin</th>\n",
       "      <th>lat</th>\n",
       "      <th>long</th>\n",
       "      <th>date</th>\n",
       "      <th>Length (mm)</th>\n",
       "      <th>status</th>\n",
       "      <th>Z age</th>\n",
       "      <th>L age</th>\n",
       "      <th>B age</th>\n",
       "    </tr>\n",
       "  </thead>\n",
       "  <tbody>\n",
       "    <tr>\n",
       "      <th>334</th>\n",
       "      <td>Lampsilis</td>\n",
       "      <td>teres</td>\n",
       "      <td>336</td>\n",
       "      <td>E</td>\n",
       "      <td>Bay City, TX</td>\n",
       "      <td>Colorado</td>\n",
       "      <td>Colorado</td>\n",
       "      <td>29.126034°</td>\n",
       "      <td>-96.044864°</td>\n",
       "      <td>5/5/20</td>\n",
       "      <td>139.0</td>\n",
       "      <td>Alive</td>\n",
       "      <td>5.0</td>\n",
       "      <td>5.0</td>\n",
       "      <td>5</td>\n",
       "    </tr>\n",
       "    <tr>\n",
       "      <th>335</th>\n",
       "      <td>Lampsilis</td>\n",
       "      <td>teres</td>\n",
       "      <td>337</td>\n",
       "      <td>E</td>\n",
       "      <td>Bay City, TX</td>\n",
       "      <td>Colorado</td>\n",
       "      <td>Colorado</td>\n",
       "      <td>29.126034°</td>\n",
       "      <td>-96.044864°</td>\n",
       "      <td>5/5/20</td>\n",
       "      <td>121.0</td>\n",
       "      <td>Alive</td>\n",
       "      <td>6.0</td>\n",
       "      <td>11.0</td>\n",
       "      <td>6</td>\n",
       "    </tr>\n",
       "    <tr>\n",
       "      <th>337</th>\n",
       "      <td>Lampsilis</td>\n",
       "      <td>teres</td>\n",
       "      <td>339</td>\n",
       "      <td>E</td>\n",
       "      <td>Bay City, TX</td>\n",
       "      <td>Colorado</td>\n",
       "      <td>Colorado</td>\n",
       "      <td>29.126034°</td>\n",
       "      <td>-96.044864°</td>\n",
       "      <td>5/5/20</td>\n",
       "      <td>107.0</td>\n",
       "      <td>Alive</td>\n",
       "      <td>4.0</td>\n",
       "      <td>5.0</td>\n",
       "      <td>4</td>\n",
       "    </tr>\n",
       "    <tr>\n",
       "      <th>339</th>\n",
       "      <td>Lampsilis</td>\n",
       "      <td>teres</td>\n",
       "      <td>341</td>\n",
       "      <td>E</td>\n",
       "      <td>Bay City, TX</td>\n",
       "      <td>Colorado</td>\n",
       "      <td>Colorado</td>\n",
       "      <td>29.126034°</td>\n",
       "      <td>-96.044864°</td>\n",
       "      <td>5/5/20</td>\n",
       "      <td>114.0</td>\n",
       "      <td>Alive</td>\n",
       "      <td>4.0</td>\n",
       "      <td>4.0</td>\n",
       "      <td>5</td>\n",
       "    </tr>\n",
       "    <tr>\n",
       "      <th>340</th>\n",
       "      <td>Lampsilis</td>\n",
       "      <td>teres</td>\n",
       "      <td>342</td>\n",
       "      <td>E</td>\n",
       "      <td>Bay City, TX</td>\n",
       "      <td>Colorado</td>\n",
       "      <td>Colorado</td>\n",
       "      <td>29.126034°</td>\n",
       "      <td>-96.044864°</td>\n",
       "      <td>5/5/20</td>\n",
       "      <td>74.0</td>\n",
       "      <td>Alive</td>\n",
       "      <td>1.0</td>\n",
       "      <td>2.0</td>\n",
       "      <td>2</td>\n",
       "    </tr>\n",
       "  </tbody>\n",
       "</table>\n",
       "</div>"
      ],
      "text/plain": [
       "         genus species   id code          site     river     basin  \\\n",
       "334  Lampsilis   teres  336    E  Bay City, TX  Colorado  Colorado   \n",
       "335  Lampsilis   teres  337    E  Bay City, TX  Colorado  Colorado   \n",
       "337  Lampsilis   teres  339    E  Bay City, TX  Colorado  Colorado   \n",
       "339  Lampsilis   teres  341    E  Bay City, TX  Colorado  Colorado   \n",
       "340  Lampsilis   teres  342    E  Bay City, TX  Colorado  Colorado   \n",
       "\n",
       "            lat         long    date  Length (mm) status  Z age  L age B age  \n",
       "334  29.126034°  -96.044864°  5/5/20        139.0  Alive    5.0    5.0     5  \n",
       "335  29.126034°  -96.044864°  5/5/20        121.0  Alive    6.0   11.0     6  \n",
       "337  29.126034°  -96.044864°  5/5/20        107.0  Alive    4.0    5.0     4  \n",
       "339  29.126034°  -96.044864°  5/5/20        114.0  Alive    4.0    4.0     5  \n",
       "340  29.126034°  -96.044864°  5/5/20         74.0  Alive    1.0    2.0     2  "
      ]
     },
     "execution_count": 138,
     "metadata": {},
     "output_type": "execute_result"
    }
   ],
   "source": [
    "clean_teres.head()"
   ]
  },
  {
   "cell_type": "markdown",
   "metadata": {},
   "source": [
    "#### Check datatypes "
   ]
  },
  {
   "cell_type": "code",
   "execution_count": 136,
   "metadata": {},
   "outputs": [
    {
     "data": {
      "text/plain": [
       "genus           object\n",
       "species         object\n",
       "id               int64\n",
       "code            object\n",
       "site            object\n",
       "river           object\n",
       "basin           object\n",
       "lat             object\n",
       "long            object\n",
       "date            object\n",
       "Length (mm)    float64\n",
       "status          object\n",
       "Z age          float64\n",
       "L age          float64\n",
       "B age           object\n",
       "dtype: object"
      ]
     },
     "execution_count": 136,
     "metadata": {},
     "output_type": "execute_result"
    }
   ],
   "source": [
    "clean_teres.dtypes"
   ]
  },
  {
   "cell_type": "markdown",
   "metadata": {},
   "source": [
    "#### Run cell when opened (will transform datatype from object to float64)"
   ]
  },
  {
   "cell_type": "code",
   "execution_count": 141,
   "metadata": {},
   "outputs": [],
   "source": [
    "# clean_teres.drop(index=[435, 442], inplace=True)\n",
    "# clean_teres['B age'] = pd.to_numeric(clean_teres['B age'])\n",
    "# print (clean_teres.dtypes)"
   ]
  },
  {
   "cell_type": "markdown",
   "metadata": {},
   "source": [
    "#### Get description of data"
   ]
  },
  {
   "cell_type": "code",
   "execution_count": 122,
   "metadata": {
    "scrolled": true
   },
   "outputs": [
    {
     "data": {
      "text/html": [
       "<div>\n",
       "<style scoped>\n",
       "    .dataframe tbody tr th:only-of-type {\n",
       "        vertical-align: middle;\n",
       "    }\n",
       "\n",
       "    .dataframe tbody tr th {\n",
       "        vertical-align: top;\n",
       "    }\n",
       "\n",
       "    .dataframe thead th {\n",
       "        text-align: right;\n",
       "    }\n",
       "</style>\n",
       "<table border=\"1\" class=\"dataframe\">\n",
       "  <thead>\n",
       "    <tr style=\"text-align: right;\">\n",
       "      <th></th>\n",
       "      <th>id</th>\n",
       "      <th>Length (mm)</th>\n",
       "      <th>Z age</th>\n",
       "      <th>L age</th>\n",
       "      <th>B age</th>\n",
       "    </tr>\n",
       "  </thead>\n",
       "  <tbody>\n",
       "    <tr>\n",
       "      <th>count</th>\n",
       "      <td>123.000000</td>\n",
       "      <td>123.000000</td>\n",
       "      <td>123.000000</td>\n",
       "      <td>123.000000</td>\n",
       "      <td>123.000000</td>\n",
       "    </tr>\n",
       "    <tr>\n",
       "      <th>mean</th>\n",
       "      <td>405.439024</td>\n",
       "      <td>100.804878</td>\n",
       "      <td>4.069106</td>\n",
       "      <td>4.768293</td>\n",
       "      <td>4.235772</td>\n",
       "    </tr>\n",
       "    <tr>\n",
       "      <th>std</th>\n",
       "      <td>40.130350</td>\n",
       "      <td>25.732278</td>\n",
       "      <td>2.076730</td>\n",
       "      <td>2.076698</td>\n",
       "      <td>1.890794</td>\n",
       "    </tr>\n",
       "    <tr>\n",
       "      <th>min</th>\n",
       "      <td>336.000000</td>\n",
       "      <td>19.000000</td>\n",
       "      <td>0.500000</td>\n",
       "      <td>0.500000</td>\n",
       "      <td>1.000000</td>\n",
       "    </tr>\n",
       "    <tr>\n",
       "      <th>25%</th>\n",
       "      <td>371.500000</td>\n",
       "      <td>85.500000</td>\n",
       "      <td>3.000000</td>\n",
       "      <td>3.000000</td>\n",
       "      <td>3.000000</td>\n",
       "    </tr>\n",
       "    <tr>\n",
       "      <th>50%</th>\n",
       "      <td>406.000000</td>\n",
       "      <td>105.000000</td>\n",
       "      <td>4.000000</td>\n",
       "      <td>5.000000</td>\n",
       "      <td>4.000000</td>\n",
       "    </tr>\n",
       "    <tr>\n",
       "      <th>75%</th>\n",
       "      <td>437.000000</td>\n",
       "      <td>117.500000</td>\n",
       "      <td>5.000000</td>\n",
       "      <td>6.000000</td>\n",
       "      <td>5.000000</td>\n",
       "    </tr>\n",
       "    <tr>\n",
       "      <th>max</th>\n",
       "      <td>475.000000</td>\n",
       "      <td>142.000000</td>\n",
       "      <td>9.000000</td>\n",
       "      <td>11.000000</td>\n",
       "      <td>9.000000</td>\n",
       "    </tr>\n",
       "  </tbody>\n",
       "</table>\n",
       "</div>"
      ],
      "text/plain": [
       "               id  Length (mm)       Z age       L age       B age\n",
       "count  123.000000   123.000000  123.000000  123.000000  123.000000\n",
       "mean   405.439024   100.804878    4.069106    4.768293    4.235772\n",
       "std     40.130350    25.732278    2.076730    2.076698    1.890794\n",
       "min    336.000000    19.000000    0.500000    0.500000    1.000000\n",
       "25%    371.500000    85.500000    3.000000    3.000000    3.000000\n",
       "50%    406.000000   105.000000    4.000000    5.000000    4.000000\n",
       "75%    437.000000   117.500000    5.000000    6.000000    5.000000\n",
       "max    475.000000   142.000000    9.000000   11.000000    9.000000"
      ]
     },
     "execution_count": 122,
     "metadata": {},
     "output_type": "execute_result"
    }
   ],
   "source": [
    "clean_teres.describe()"
   ]
  },
  {
   "cell_type": "markdown",
   "metadata": {},
   "source": [
    "### Pairwise comparison between agers (*L. teres*)\n",
    "#### Rename agers"
   ]
  },
  {
   "cell_type": "code",
   "execution_count": 110,
   "metadata": {
    "scrolled": true
   },
   "outputs": [
    {
     "data": {
      "text/html": [
       "<div>\n",
       "<style scoped>\n",
       "    .dataframe tbody tr th:only-of-type {\n",
       "        vertical-align: middle;\n",
       "    }\n",
       "\n",
       "    .dataframe tbody tr th {\n",
       "        vertical-align: top;\n",
       "    }\n",
       "\n",
       "    .dataframe thead th {\n",
       "        text-align: right;\n",
       "    }\n",
       "</style>\n",
       "<table border=\"1\" class=\"dataframe\">\n",
       "  <thead>\n",
       "    <tr style=\"text-align: right;\">\n",
       "      <th></th>\n",
       "      <th>genus</th>\n",
       "      <th>species</th>\n",
       "      <th>id</th>\n",
       "      <th>code</th>\n",
       "      <th>site</th>\n",
       "      <th>river</th>\n",
       "      <th>basin</th>\n",
       "      <th>lat</th>\n",
       "      <th>long</th>\n",
       "      <th>date</th>\n",
       "      <th>Length (mm)</th>\n",
       "      <th>status</th>\n",
       "      <th>Z</th>\n",
       "      <th>L</th>\n",
       "      <th>B</th>\n",
       "    </tr>\n",
       "  </thead>\n",
       "  <tbody>\n",
       "    <tr>\n",
       "      <th>334</th>\n",
       "      <td>Lampsilis</td>\n",
       "      <td>teres</td>\n",
       "      <td>336</td>\n",
       "      <td>E</td>\n",
       "      <td>Bay City, TX</td>\n",
       "      <td>Colorado</td>\n",
       "      <td>Colorado</td>\n",
       "      <td>29.126034°</td>\n",
       "      <td>-96.044864°</td>\n",
       "      <td>5/5/20</td>\n",
       "      <td>139.0</td>\n",
       "      <td>Alive</td>\n",
       "      <td>5.0</td>\n",
       "      <td>5.0</td>\n",
       "      <td>5</td>\n",
       "    </tr>\n",
       "    <tr>\n",
       "      <th>335</th>\n",
       "      <td>Lampsilis</td>\n",
       "      <td>teres</td>\n",
       "      <td>337</td>\n",
       "      <td>E</td>\n",
       "      <td>Bay City, TX</td>\n",
       "      <td>Colorado</td>\n",
       "      <td>Colorado</td>\n",
       "      <td>29.126034°</td>\n",
       "      <td>-96.044864°</td>\n",
       "      <td>5/5/20</td>\n",
       "      <td>121.0</td>\n",
       "      <td>Alive</td>\n",
       "      <td>6.0</td>\n",
       "      <td>11.0</td>\n",
       "      <td>6</td>\n",
       "    </tr>\n",
       "    <tr>\n",
       "      <th>337</th>\n",
       "      <td>Lampsilis</td>\n",
       "      <td>teres</td>\n",
       "      <td>339</td>\n",
       "      <td>E</td>\n",
       "      <td>Bay City, TX</td>\n",
       "      <td>Colorado</td>\n",
       "      <td>Colorado</td>\n",
       "      <td>29.126034°</td>\n",
       "      <td>-96.044864°</td>\n",
       "      <td>5/5/20</td>\n",
       "      <td>107.0</td>\n",
       "      <td>Alive</td>\n",
       "      <td>4.0</td>\n",
       "      <td>5.0</td>\n",
       "      <td>4</td>\n",
       "    </tr>\n",
       "    <tr>\n",
       "      <th>339</th>\n",
       "      <td>Lampsilis</td>\n",
       "      <td>teres</td>\n",
       "      <td>341</td>\n",
       "      <td>E</td>\n",
       "      <td>Bay City, TX</td>\n",
       "      <td>Colorado</td>\n",
       "      <td>Colorado</td>\n",
       "      <td>29.126034°</td>\n",
       "      <td>-96.044864°</td>\n",
       "      <td>5/5/20</td>\n",
       "      <td>114.0</td>\n",
       "      <td>Alive</td>\n",
       "      <td>4.0</td>\n",
       "      <td>4.0</td>\n",
       "      <td>5</td>\n",
       "    </tr>\n",
       "    <tr>\n",
       "      <th>340</th>\n",
       "      <td>Lampsilis</td>\n",
       "      <td>teres</td>\n",
       "      <td>342</td>\n",
       "      <td>E</td>\n",
       "      <td>Bay City, TX</td>\n",
       "      <td>Colorado</td>\n",
       "      <td>Colorado</td>\n",
       "      <td>29.126034°</td>\n",
       "      <td>-96.044864°</td>\n",
       "      <td>5/5/20</td>\n",
       "      <td>74.0</td>\n",
       "      <td>Alive</td>\n",
       "      <td>1.0</td>\n",
       "      <td>2.0</td>\n",
       "      <td>2</td>\n",
       "    </tr>\n",
       "  </tbody>\n",
       "</table>\n",
       "</div>"
      ],
      "text/plain": [
       "         genus species   id code          site     river     basin  \\\n",
       "334  Lampsilis   teres  336    E  Bay City, TX  Colorado  Colorado   \n",
       "335  Lampsilis   teres  337    E  Bay City, TX  Colorado  Colorado   \n",
       "337  Lampsilis   teres  339    E  Bay City, TX  Colorado  Colorado   \n",
       "339  Lampsilis   teres  341    E  Bay City, TX  Colorado  Colorado   \n",
       "340  Lampsilis   teres  342    E  Bay City, TX  Colorado  Colorado   \n",
       "\n",
       "            lat         long    date  Length (mm) status    Z     L  B  \n",
       "334  29.126034°  -96.044864°  5/5/20        139.0  Alive  5.0   5.0  5  \n",
       "335  29.126034°  -96.044864°  5/5/20        121.0  Alive  6.0  11.0  6  \n",
       "337  29.126034°  -96.044864°  5/5/20        107.0  Alive  4.0   5.0  4  \n",
       "339  29.126034°  -96.044864°  5/5/20        114.0  Alive  4.0   4.0  5  \n",
       "340  29.126034°  -96.044864°  5/5/20         74.0  Alive  1.0   2.0  2  "
      ]
     },
     "execution_count": 110,
     "metadata": {},
     "output_type": "execute_result"
    }
   ],
   "source": [
    "rename=clean_teres.rename(columns={'Z age':'Z', 'L age':'L', 'B age':'B'})\n",
    "rename.head()"
   ]
  },
  {
   "cell_type": "code",
   "execution_count": 142,
   "metadata": {
    "scrolled": true
   },
   "outputs": [],
   "source": [
    "# rename.dtypes"
   ]
  },
  {
   "cell_type": "markdown",
   "metadata": {},
   "source": [
    "#### Reshape dataframe so it's suitable for statsmodels package (pivot agers vertically)"
   ]
  },
  {
   "cell_type": "code",
   "execution_count": 117,
   "metadata": {},
   "outputs": [],
   "source": [
    "rename_melt = pd.melt(rename.reset_index(), id_vars=['index'], value_vars=['Z', 'L', 'B'])"
   ]
  },
  {
   "cell_type": "markdown",
   "metadata": {},
   "source": [
    "#### Generate a boxplot to see the data distribution by agers. "
   ]
  },
  {
   "cell_type": "code",
   "execution_count": 59,
   "metadata": {
    "scrolled": true
   },
   "outputs": [
    {
     "name": "stderr",
     "output_type": "stream",
     "text": [
      "/Users/biancahernandez/opt/anaconda2/envs/mussel_aging/lib/python3.8/site-packages/seaborn/categorical.py:1296: UserWarning:\n",
      "\n",
      "15.2% of the points cannot be placed; you may want to decrease the size of the markers or use stripplot.\n",
      "\n",
      "/Users/biancahernandez/opt/anaconda2/envs/mussel_aging/lib/python3.8/site-packages/seaborn/categorical.py:1296: UserWarning:\n",
      "\n",
      "19.2% of the points cannot be placed; you may want to decrease the size of the markers or use stripplot.\n",
      "\n",
      "/Users/biancahernandez/opt/anaconda2/envs/mussel_aging/lib/python3.8/site-packages/seaborn/categorical.py:1296: UserWarning:\n",
      "\n",
      "17.9% of the points cannot be placed; you may want to decrease the size of the markers or use stripplot.\n",
      "\n"
     ]
    },
    {
     "data": {
      "image/png": "[encoded data removed]",
      "text/plain": [
       "<Figure size 432x288 with 1 Axes>"
      ]
     },
     "metadata": {
      "needs_background": "light"
     },
     "output_type": "display_data"
    }
   ],
   "source": [
    "\n",
    "import matplotlib.pyplot as plt\n",
    "import seaborn as sns\n",
    "ax = sns.boxplot(x='variable', y='value', data=rename_melt, color='#99c2a2')\n",
    "ax = sns.swarmplot(x=\"variable\", y=\"value\", data=rename_melt, color='#7d0013')\n",
    "plt.show()"
   ]
  },
  {
   "cell_type": "markdown",
   "metadata": {},
   "source": [
    "#### Import dependencies"
   ]
  },
  {
   "cell_type": "code",
   "execution_count": 146,
   "metadata": {
    "scrolled": true
   },
   "outputs": [],
   "source": [
    "import scipy.stats as stats"
   ]
  },
  {
   "cell_type": "markdown",
   "metadata": {},
   "source": [
    "#### Stats f_oneway functions takes the groups as input and returns ANOVA F and p value"
   ]
  },
  {
   "cell_type": "code",
   "execution_count": 147,
   "metadata": {},
   "outputs": [
    {
     "name": "stdout",
     "output_type": "stream",
     "text": [
      "4.033692553063654 0.01850193789744621\n"
     ]
    }
   ],
   "source": [
    "fvalue, pvalue = stats.f_oneway(rename['Z'], rename['L'], rename['B'])\n",
    "print(fvalue, pvalue)\n",
    "#4.033692553063654 0.01850193789744621"
   ]
  },
  {
   "cell_type": "markdown",
   "metadata": {},
   "source": [
    "#### Get ANOVA table as R like output"
   ]
  },
  {
   "cell_type": "code",
   "execution_count": 148,
   "metadata": {},
   "outputs": [],
   "source": [
    "import statsmodels.api as sm\n",
    "from statsmodels.formula.api import ols"
   ]
  },
  {
   "cell_type": "markdown",
   "metadata": {},
   "source": [
    "#### Ordinary Least Squares (OLS) model"
   ]
  },
  {
   "cell_type": "code",
   "execution_count": 149,
   "metadata": {
    "scrolled": true
   },
   "outputs": [
    {
     "data": {
      "text/html": [
       "<div>\n",
       "<style scoped>\n",
       "    .dataframe tbody tr th:only-of-type {\n",
       "        vertical-align: middle;\n",
       "    }\n",
       "\n",
       "    .dataframe tbody tr th {\n",
       "        vertical-align: top;\n",
       "    }\n",
       "\n",
       "    .dataframe thead th {\n",
       "        text-align: right;\n",
       "    }\n",
       "</style>\n",
       "<table border=\"1\" class=\"dataframe\">\n",
       "  <thead>\n",
       "    <tr style=\"text-align: right;\">\n",
       "      <th></th>\n",
       "      <th>sum_sq</th>\n",
       "      <th>df</th>\n",
       "      <th>F</th>\n",
       "      <th>PR(&gt;F)</th>\n",
       "    </tr>\n",
       "  </thead>\n",
       "  <tbody>\n",
       "    <tr>\n",
       "      <th>C(variable)</th>\n",
       "      <td>32.808943</td>\n",
       "      <td>2.0</td>\n",
       "      <td>4.033693</td>\n",
       "      <td>0.018502</td>\n",
       "    </tr>\n",
       "    <tr>\n",
       "      <th>Residual</th>\n",
       "      <td>1488.471545</td>\n",
       "      <td>366.0</td>\n",
       "      <td>NaN</td>\n",
       "      <td>NaN</td>\n",
       "    </tr>\n",
       "  </tbody>\n",
       "</table>\n",
       "</div>"
      ],
      "text/plain": [
       "                  sum_sq     df         F    PR(>F)\n",
       "C(variable)    32.808943    2.0  4.033693  0.018502\n",
       "Residual     1488.471545  366.0       NaN       NaN"
      ]
     },
     "execution_count": 149,
     "metadata": {},
     "output_type": "execute_result"
    }
   ],
   "source": [
    "model = ols('value ~ C(variable)', data=rename_melt).fit()\n",
    "anova_table = sm.stats.anova_lm(model, typ=2)\n",
    "anova_table"
   ]
  },
  {
   "cell_type": "markdown",
   "metadata": {},
   "source": [
    "#### Import dependencies for Tukey HSD"
   ]
  },
  {
   "cell_type": "code",
   "execution_count": 65,
   "metadata": {},
   "outputs": [],
   "source": [
    "from bioinfokit.analys import stat"
   ]
  },
  {
   "cell_type": "markdown",
   "metadata": {},
   "source": [
    "#### ANOVA w/ mean_sq"
   ]
  },
  {
   "cell_type": "code",
   "execution_count": 67,
   "metadata": {},
   "outputs": [
    {
     "data": {
      "text/html": [
       "<div>\n",
       "<style scoped>\n",
       "    .dataframe tbody tr th:only-of-type {\n",
       "        vertical-align: middle;\n",
       "    }\n",
       "\n",
       "    .dataframe tbody tr th {\n",
       "        vertical-align: top;\n",
       "    }\n",
       "\n",
       "    .dataframe thead th {\n",
       "        text-align: right;\n",
       "    }\n",
       "</style>\n",
       "<table border=\"1\" class=\"dataframe\">\n",
       "  <thead>\n",
       "    <tr style=\"text-align: right;\">\n",
       "      <th></th>\n",
       "      <th>df</th>\n",
       "      <th>sum_sq</th>\n",
       "      <th>mean_sq</th>\n",
       "      <th>F</th>\n",
       "      <th>PR(&gt;F)</th>\n",
       "    </tr>\n",
       "  </thead>\n",
       "  <tbody>\n",
       "    <tr>\n",
       "      <th>C(variable)</th>\n",
       "      <td>2.0</td>\n",
       "      <td>32.721355</td>\n",
       "      <td>16.360678</td>\n",
       "      <td>4.060619</td>\n",
       "      <td>0.018012</td>\n",
       "    </tr>\n",
       "    <tr>\n",
       "      <th>Residual</th>\n",
       "      <td>370.0</td>\n",
       "      <td>1490.770602</td>\n",
       "      <td>4.029110</td>\n",
       "      <td>NaN</td>\n",
       "      <td>NaN</td>\n",
       "    </tr>\n",
       "  </tbody>\n",
       "</table>\n",
       "</div>"
      ],
      "text/plain": [
       "                df       sum_sq    mean_sq         F    PR(>F)\n",
       "C(variable)    2.0    32.721355  16.360678  4.060619  0.018012\n",
       "Residual     370.0  1490.770602   4.029110       NaN       NaN"
      ]
     },
     "execution_count": 67,
     "metadata": {},
     "output_type": "execute_result"
    }
   ],
   "source": [
    "res = stat()\n",
    "res.anova_stat(df=rename_melt, res_var='value', anova_model='value ~ C(variable)')\n",
    "res.anova_summary"
   ]
  },
  {
   "cell_type": "markdown",
   "metadata": {},
   "source": [
    "#### Multiple pairwise comparison (Tukey's HSD)"
   ]
  },
  {
   "cell_type": "code",
   "execution_count": 68,
   "metadata": {},
   "outputs": [
    {
     "data": {
      "text/html": [
       "<div>\n",
       "<style scoped>\n",
       "    .dataframe tbody tr th:only-of-type {\n",
       "        vertical-align: middle;\n",
       "    }\n",
       "\n",
       "    .dataframe tbody tr th {\n",
       "        vertical-align: top;\n",
       "    }\n",
       "\n",
       "    .dataframe thead th {\n",
       "        text-align: right;\n",
       "    }\n",
       "</style>\n",
       "<table border=\"1\" class=\"dataframe\">\n",
       "  <thead>\n",
       "    <tr style=\"text-align: right;\">\n",
       "      <th></th>\n",
       "      <th>group1</th>\n",
       "      <th>group2</th>\n",
       "      <th>Diff</th>\n",
       "      <th>Lower</th>\n",
       "      <th>Upper</th>\n",
       "      <th>q-value</th>\n",
       "      <th>p-value</th>\n",
       "    </tr>\n",
       "  </thead>\n",
       "  <tbody>\n",
       "    <tr>\n",
       "      <th>0</th>\n",
       "      <td>Z</td>\n",
       "      <td>L</td>\n",
       "      <td>0.696000</td>\n",
       "      <td>0.098497</td>\n",
       "      <td>1.293503</td>\n",
       "      <td>3.876678</td>\n",
       "      <td>0.017599</td>\n",
       "    </tr>\n",
       "    <tr>\n",
       "      <th>1</th>\n",
       "      <td>Z</td>\n",
       "      <td>B</td>\n",
       "      <td>0.175772</td>\n",
       "      <td>-0.424154</td>\n",
       "      <td>0.775699</td>\n",
       "      <td>0.975086</td>\n",
       "      <td>0.749648</td>\n",
       "    </tr>\n",
       "    <tr>\n",
       "      <th>2</th>\n",
       "      <td>L</td>\n",
       "      <td>B</td>\n",
       "      <td>0.520228</td>\n",
       "      <td>-0.079699</td>\n",
       "      <td>1.120154</td>\n",
       "      <td>2.885929</td>\n",
       "      <td>0.104078</td>\n",
       "    </tr>\n",
       "  </tbody>\n",
       "</table>\n",
       "</div>"
      ],
      "text/plain": [
       "  group1 group2      Diff     Lower     Upper   q-value   p-value\n",
       "0      Z      L  0.696000  0.098497  1.293503  3.876678  0.017599\n",
       "1      Z      B  0.175772 -0.424154  0.775699  0.975086  0.749648\n",
       "2      L      B  0.520228 -0.079699  1.120154  2.885929  0.104078"
      ]
     },
     "execution_count": 68,
     "metadata": {},
     "output_type": "execute_result"
    }
   ],
   "source": [
    "#  FOR unequal sample size data, tukey_hsd uses Tukey-Kramer test\n",
    "res = stat()\n",
    "res.tukey_hsd(df=rename_melt, res_var='value', xfac_var='variable', anova_model='value ~ C(variable)')\n",
    "res.tukey_summary"
   ]
  },
  {
   "cell_type": "markdown",
   "metadata": {},
   "source": [
    "### Test assumptions"
   ]
  },
  {
   "cell_type": "markdown",
   "metadata": {},
   "source": [
    "#### 1) QQ-plot"
   ]
  },
  {
   "cell_type": "code",
   "execution_count": 69,
   "metadata": {
    "scrolled": true
   },
   "outputs": [
    {
     "data": {
      "image/png": "[encoded data removed]",
      "text/plain": [
       "<Figure size 432x288 with 1 Axes>"
      ]
     },
     "metadata": {
      "needs_background": "light"
     },
     "output_type": "display_data"
    },
    {
     "data": {
      "image/png": "[encoded data removed]",
      "text/plain": [
       "<Figure size 432x288 with 1 Axes>"
      ]
     },
     "metadata": {
      "needs_background": "light"
     },
     "output_type": "display_data"
    }
   ],
   "source": [
    "# QQ-plot to detect outliers\n",
    "import statsmodels.api as sm\n",
    "import matplotlib.pyplot as plt\n",
    "# res.anova_std_residuals are standardized residuals obtained from ANOVA (check above)\n",
    "sm.qqplot(res.anova_std_residuals, line='45')\n",
    "plt.xlabel(\"Theoretical Quantiles\")\n",
    "plt.ylabel(\"Standardized Residuals\")\n",
    "plt.show()\n",
    "\n",
    "# histogram\n",
    "plt.hist(res.anova_model_out.resid, bins='auto', histtype='bar', ec='k') \n",
    "plt.xlabel(\"Residuals\")\n",
    "plt.ylabel('Frequency')\n",
    "plt.show()"
   ]
  },
  {
   "cell_type": "markdown",
   "metadata": {},
   "source": [
    "#### 2) Use Shapiro-Wilk test to check normal distribution of residuals \n",
    "#### Null hypothesis: data is drawn from normal distribution."
   ]
  },
  {
   "cell_type": "code",
   "execution_count": 156,
   "metadata": {},
   "outputs": [
    {
     "name": "stdout",
     "output_type": "stream",
     "text": [
      "0.9848870635032654 0.0006670355796813965\n"
     ]
    }
   ],
   "source": [
    "w, pvalue = stats.shapiro(model.resid)\n",
    "print(w, pvalue)"
   ]
  },
  {
   "cell_type": "markdown",
   "metadata": {},
   "source": [
    "#### 3) Bartlett’s test to check the Homogeneity of variances.\n",
    "#### Null hypothesis: samples from populations have equal variances."
   ]
  },
  {
   "cell_type": "code",
   "execution_count": 157,
   "metadata": {},
   "outputs": [
    {
     "data": {
      "text/html": [
       "<div>\n",
       "<style scoped>\n",
       "    .dataframe tbody tr th:only-of-type {\n",
       "        vertical-align: middle;\n",
       "    }\n",
       "\n",
       "    .dataframe tbody tr th {\n",
       "        vertical-align: top;\n",
       "    }\n",
       "\n",
       "    .dataframe thead th {\n",
       "        text-align: right;\n",
       "    }\n",
       "</style>\n",
       "<table border=\"1\" class=\"dataframe\">\n",
       "  <thead>\n",
       "    <tr style=\"text-align: right;\">\n",
       "      <th></th>\n",
       "      <th>Parameter</th>\n",
       "      <th>Value</th>\n",
       "    </tr>\n",
       "  </thead>\n",
       "  <tbody>\n",
       "    <tr>\n",
       "      <th>0</th>\n",
       "      <td>Test statistics (T)</td>\n",
       "      <td>1.3947</td>\n",
       "    </tr>\n",
       "    <tr>\n",
       "      <th>1</th>\n",
       "      <td>Degrees of freedom (Df)</td>\n",
       "      <td>2.0000</td>\n",
       "    </tr>\n",
       "    <tr>\n",
       "      <th>2</th>\n",
       "      <td>p value</td>\n",
       "      <td>0.4979</td>\n",
       "    </tr>\n",
       "  </tbody>\n",
       "</table>\n",
       "</div>"
      ],
      "text/plain": [
       "                 Parameter   Value\n",
       "0      Test statistics (T)  1.3947\n",
       "1  Degrees of freedom (Df)  2.0000\n",
       "2                  p value  0.4979"
      ]
     },
     "execution_count": 157,
     "metadata": {},
     "output_type": "execute_result"
    }
   ],
   "source": [
    "res = stat()\n",
    "res.bartlett(df=rename_melt, res_var='value', xfac_var='variable')\n",
    "res.bartlett_summary"
   ]
  },
  {
   "cell_type": "markdown",
   "metadata": {},
   "source": [
    "#### P value is not significant, fail to reject null hypothesis and conclude that agers have equal variances."
   ]
  },
  {
   "cell_type": "markdown",
   "metadata": {},
   "source": [
    "### Interactive figures"
   ]
  },
  {
   "cell_type": "code",
   "execution_count": 150,
   "metadata": {},
   "outputs": [],
   "source": [
    "import plotly.graph_objects as go\n",
    "import plotly.express as px\n",
    "import seaborn as sns\n",
    "import matplotlib.pyplot as plt\n",
    "import plotly.figure_factory as ff"
   ]
  },
  {
   "cell_type": "markdown",
   "metadata": {},
   "source": [
    "#### Histogram agers "
   ]
  },
  {
   "cell_type": "code",
   "execution_count": 120,
   "metadata": {},
   "outputs": [
    {
     "data": {
      "application/vnd.plotly.v1+json": {
       "config": {
        "plotlyServerURL": "https://plot.ly"
       },
       "data": [
        {
         "name": "Z",
         "opacity": 0.75,
         "type": "histogram",
         "x": [
          5,
          6,
          4,
          4,
          1,
          5,
          8,
          8,
          3,
          5,
          5,
          3,
          9,
          4,
          3,
          7,
          5,
          5,
          6,
          7,
          5,
          3,
          5,
          8,
          5,
          4,
          8,
          9,
          3,
          6,
          2,
          3,
          8,
          6,
          7,
          3,
          1,
          1,
          1,
          0.5,
          7,
          3,
          5,
          3,
          4,
          2,
          5,
          7,
          3,
          1,
          8,
          5,
          6,
          8,
          6,
          5,
          4,
          3,
          2,
          3,
          3,
          3,
          4,
          3,
          3,
          1,
          3,
          3,
          4,
          7,
          2,
          3,
          6,
          4,
          2,
          7,
          7,
          4,
          4,
          2,
          2,
          3,
          6,
          5,
          3,
          6,
          6,
          3,
          5,
          4,
          2,
          4,
          5,
          3,
          3,
          2,
          3,
          2,
          4,
          4,
          2,
          3,
          3,
          4,
          3,
          3,
          4,
          4,
          7,
          4,
          3,
          3,
          5,
          6,
          4,
          6,
          0.5,
          0.5,
          0.5,
          0.5,
          0.5,
          0.5,
          2
         ]
        },
        {
         "name": "L",
         "opacity": 0.75,
         "type": "histogram",
         "x": [
          5,
          11,
          5,
          4,
          2,
          5,
          8,
          8,
          8,
          5,
          6,
          3,
          9,
          5,
          6,
          7,
          5,
          5,
          5,
          8,
          5,
          5,
          4,
          7,
          5,
          4,
          5,
          5,
          5,
          10,
          3,
          5,
          8,
          7,
          10,
          4,
          3,
          3,
          2,
          0.5,
          4,
          5,
          4,
          4,
          6,
          3,
          6,
          6,
          4,
          2,
          5,
          5,
          5,
          8,
          7,
          4,
          5,
          5,
          3,
          3,
          3,
          4,
          6,
          3,
          5,
          2,
          5,
          8,
          8,
          7,
          3,
          3,
          6,
          7,
          4,
          7,
          8,
          4,
          5,
          4,
          3,
          4,
          5,
          5,
          6,
          6,
          8,
          3,
          4,
          4,
          2,
          3,
          6,
          3,
          6,
          2,
          5,
          3,
          6,
          4,
          3,
          5,
          3,
          4,
          5,
          3,
          5,
          6,
          7,
          4,
          5,
          4,
          5,
          6,
          4,
          4,
          0.5,
          0.5,
          0.5,
          0.5,
          0.5,
          0.5,
          6
         ]
        },
        {
         "name": "B",
         "opacity": 0.75,
         "type": "histogram",
         "x": [
          5,
          6,
          4,
          5,
          2,
          5,
          8,
          8,
          4,
          5,
          5,
          3,
          9,
          4,
          5,
          6,
          4,
          5,
          4,
          7,
          6,
          2,
          5,
          8,
          5,
          4,
          7,
          9,
          3,
          8,
          2,
          2,
          7,
          5,
          7,
          3,
          1,
          2,
          1,
          1,
          4,
          3,
          5,
          3,
          4,
          3,
          6,
          6,
          3,
          2,
          7,
          5,
          5,
          8,
          7,
          4,
          4,
          3,
          3,
          3,
          3,
          3,
          5,
          3,
          5,
          2,
          5,
          4,
          7,
          6,
          4,
          3,
          6,
          3,
          2,
          7,
          7,
          4,
          4,
          2,
          3,
          3,
          6,
          5,
          4,
          6,
          6,
          3,
          5,
          4,
          2,
          5,
          5,
          3,
          5,
          2,
          4,
          3,
          4,
          3,
          3,
          4,
          3,
          4,
          4,
          3,
          4,
          3,
          7,
          4,
          4,
          4,
          4,
          6,
          4,
          6,
          1,
          1,
          1,
          1,
          1,
          1,
          2
         ]
        }
       ],
       "layout": {
        "bargap": 0,
        "bargroupgap": 0,
        "barmode": "group",
        "height": 500,
        "template": {
         "data": {
          "bar": [
           {
            "error_x": {
             "color": "rgb(36,36,36)"
            },
            "error_y": {
             "color": "rgb(36,36,36)"
            },
            "marker": {
             "line": {
              "color": "white",
              "width": 0.5
             }
            },
            "type": "bar"
           }
          ],
          "barpolar": [
           {
            "marker": {
             "line": {
              "color": "white",
              "width": 0.5
             }
            },
            "type": "barpolar"
           }
          ],
          "carpet": [
           {
            "aaxis": {
             "endlinecolor": "rgb(36,36,36)",
             "gridcolor": "white",
             "linecolor": "white",
             "minorgridcolor": "white",
             "startlinecolor": "rgb(36,36,36)"
            },
            "baxis": {
             "endlinecolor": "rgb(36,36,36)",
             "gridcolor": "white",
             "linecolor": "white",
             "minorgridcolor": "white",
             "startlinecolor": "rgb(36,36,36)"
            },
            "type": "carpet"
           }
          ],
          "choropleth": [
           {
            "colorbar": {
             "outlinewidth": 1,
             "tickcolor": "rgb(36,36,36)",
             "ticks": "outside"
            },
            "type": "choropleth"
           }
          ],
          "contour": [
           {
            "colorbar": {
             "outlinewidth": 1,
             "tickcolor": "rgb(36,36,36)",
             "ticks": "outside"
            },
            "colorscale": [
             [
              0,
              "#440154"
             ],
             [
              0.1111111111111111,
              "#482878"
             ],
             [
              0.2222222222222222,
              "#3e4989"
             ],
             [
              0.3333333333333333,
              "#31688e"
             ],
             [
              0.4444444444444444,
              "#26828e"
             ],
             [
              0.5555555555555556,
              "#1f9e89"
             ],
             [
              0.6666666666666666,
              "#35b779"
             ],
             [
              0.7777777777777778,
              "#6ece58"
             ],
             [
              0.8888888888888888,
              "#b5de2b"
             ],
             [
              1,
              "#fde725"
             ]
            ],
            "type": "contour"
           }
          ],
          "contourcarpet": [
           {
            "colorbar": {
             "outlinewidth": 1,
             "tickcolor": "rgb(36,36,36)",
             "ticks": "outside"
            },
            "type": "contourcarpet"
           }
          ],
          "heatmap": [
           {
            "colorbar": {
             "outlinewidth": 1,
             "tickcolor": "rgb(36,36,36)",
             "ticks": "outside"
            },
            "colorscale": [
             [
              0,
              "#440154"
             ],
             [
              0.1111111111111111,
              "#482878"
             ],
             [
              0.2222222222222222,
              "#3e4989"
             ],
             [
              0.3333333333333333,
              "#31688e"
             ],
             [
              0.4444444444444444,
              "#26828e"
             ],
             [
              0.5555555555555556,
              "#1f9e89"
             ],
             [
              0.6666666666666666,
              "#35b779"
             ],
             [
              0.7777777777777778,
              "#6ece58"
             ],
             [
              0.8888888888888888,
              "#b5de2b"
             ],
             [
              1,
              "#fde725"
             ]
            ],
            "type": "heatmap"
           }
          ],
          "heatmapgl": [
           {
            "colorbar": {
             "outlinewidth": 1,
             "tickcolor": "rgb(36,36,36)",
             "ticks": "outside"
            },
            "colorscale": [
             [
              0,
              "#440154"
             ],
             [
              0.1111111111111111,
              "#482878"
             ],
             [
              0.2222222222222222,
              "#3e4989"
             ],
             [
              0.3333333333333333,
              "#31688e"
             ],
             [
              0.4444444444444444,
              "#26828e"
             ],
             [
              0.5555555555555556,
              "#1f9e89"
             ],
             [
              0.6666666666666666,
              "#35b779"
             ],
             [
              0.7777777777777778,
              "#6ece58"
             ],
             [
              0.8888888888888888,
              "#b5de2b"
             ],
             [
              1,
              "#fde725"
             ]
            ],
            "type": "heatmapgl"
           }
          ],
          "histogram": [
           {
            "marker": {
             "line": {
              "color": "white",
              "width": 0.6
             }
            },
            "type": "histogram"
           }
          ],
          "histogram2d": [
           {
            "colorbar": {
             "outlinewidth": 1,
             "tickcolor": "rgb(36,36,36)",
             "ticks": "outside"
            },
            "colorscale": [
             [
              0,
              "#440154"
             ],
             [
              0.1111111111111111,
              "#482878"
             ],
             [
              0.2222222222222222,
              "#3e4989"
             ],
             [
              0.3333333333333333,
              "#31688e"
             ],
             [
              0.4444444444444444,
              "#26828e"
             ],
             [
              0.5555555555555556,
              "#1f9e89"
             ],
             [
              0.6666666666666666,
              "#35b779"
             ],
             [
              0.7777777777777778,
              "#6ece58"
             ],
             [
              0.8888888888888888,
              "#b5de2b"
             ],
             [
              1,
              "#fde725"
             ]
            ],
            "type": "histogram2d"
           }
          ],
          "histogram2dcontour": [
           {
            "colorbar": {
             "outlinewidth": 1,
             "tickcolor": "rgb(36,36,36)",
             "ticks": "outside"
            },
            "colorscale": [
             [
              0,
              "#440154"
             ],
             [
              0.1111111111111111,
              "#482878"
             ],
             [
              0.2222222222222222,
              "#3e4989"
             ],
             [
              0.3333333333333333,
              "#31688e"
             ],
             [
              0.4444444444444444,
              "#26828e"
             ],
             [
              0.5555555555555556,
              "#1f9e89"
             ],
             [
              0.6666666666666666,
              "#35b779"
             ],
             [
              0.7777777777777778,
              "#6ece58"
             ],
             [
              0.8888888888888888,
              "#b5de2b"
             ],
             [
              1,
              "#fde725"
             ]
            ],
            "type": "histogram2dcontour"
           }
          ],
          "mesh3d": [
           {
            "colorbar": {
             "outlinewidth": 1,
             "tickcolor": "rgb(36,36,36)",
             "ticks": "outside"
            },
            "type": "mesh3d"
           }
          ],
          "parcoords": [
           {
            "line": {
             "colorbar": {
              "outlinewidth": 1,
              "tickcolor": "rgb(36,36,36)",
              "ticks": "outside"
             }
            },
            "type": "parcoords"
           }
          ],
          "pie": [
           {
            "automargin": true,
            "type": "pie"
           }
          ],
          "scatter": [
           {
            "marker": {
             "colorbar": {
              "outlinewidth": 1,
              "tickcolor": "rgb(36,36,36)",
              "ticks": "outside"
             }
            },
            "type": "scatter"
           }
          ],
          "scatter3d": [
           {
            "line": {
             "colorbar": {
              "outlinewidth": 1,
              "tickcolor": "rgb(36,36,36)",
              "ticks": "outside"
             }
            },
            "marker": {
             "colorbar": {
              "outlinewidth": 1,
              "tickcolor": "rgb(36,36,36)",
              "ticks": "outside"
             }
            },
            "type": "scatter3d"
           }
          ],
          "scattercarpet": [
           {
            "marker": {
             "colorbar": {
              "outlinewidth": 1,
              "tickcolor": "rgb(36,36,36)",
              "ticks": "outside"
             }
            },
            "type": "scattercarpet"
           }
          ],
          "scattergeo": [
           {
            "marker": {
             "colorbar": {
              "outlinewidth": 1,
              "tickcolor": "rgb(36,36,36)",
              "ticks": "outside"
             }
            },
            "type": "scattergeo"
           }
          ],
          "scattergl": [
           {
            "marker": {
             "colorbar": {
              "outlinewidth": 1,
              "tickcolor": "rgb(36,36,36)",
              "ticks": "outside"
             }
            },
            "type": "scattergl"
           }
          ],
          "scattermapbox": [
           {
            "marker": {
             "colorbar": {
              "outlinewidth": 1,
              "tickcolor": "rgb(36,36,36)",
              "ticks": "outside"
             }
            },
            "type": "scattermapbox"
           }
          ],
          "scatterpolar": [
           {
            "marker": {
             "colorbar": {
              "outlinewidth": 1,
              "tickcolor": "rgb(36,36,36)",
              "ticks": "outside"
             }
            },
            "type": "scatterpolar"
           }
          ],
          "scatterpolargl": [
           {
            "marker": {
             "colorbar": {
              "outlinewidth": 1,
              "tickcolor": "rgb(36,36,36)",
              "ticks": "outside"
             }
            },
            "type": "scatterpolargl"
           }
          ],
          "scatterternary": [
           {
            "marker": {
             "colorbar": {
              "outlinewidth": 1,
              "tickcolor": "rgb(36,36,36)",
              "ticks": "outside"
             }
            },
            "type": "scatterternary"
           }
          ],
          "surface": [
           {
            "colorbar": {
             "outlinewidth": 1,
             "tickcolor": "rgb(36,36,36)",
             "ticks": "outside"
            },
            "colorscale": [
             [
              0,
              "#440154"
             ],
             [
              0.1111111111111111,
              "#482878"
             ],
             [
              0.2222222222222222,
              "#3e4989"
             ],
             [
              0.3333333333333333,
              "#31688e"
             ],
             [
              0.4444444444444444,
              "#26828e"
             ],
             [
              0.5555555555555556,
              "#1f9e89"
             ],
             [
              0.6666666666666666,
              "#35b779"
             ],
             [
              0.7777777777777778,
              "#6ece58"
             ],
             [
              0.8888888888888888,
              "#b5de2b"
             ],
             [
              1,
              "#fde725"
             ]
            ],
            "type": "surface"
           }
          ],
          "table": [
           {
            "cells": {
             "fill": {
              "color": "rgb(237,237,237)"
             },
             "line": {
              "color": "white"
             }
            },
            "header": {
             "fill": {
              "color": "rgb(217,217,217)"
             },
             "line": {
              "color": "white"
             }
            },
            "type": "table"
           }
          ]
         },
         "layout": {
          "annotationdefaults": {
           "arrowhead": 0,
           "arrowwidth": 1
          },
          "coloraxis": {
           "colorbar": {
            "outlinewidth": 1,
            "tickcolor": "rgb(36,36,36)",
            "ticks": "outside"
           }
          },
          "colorscale": {
           "diverging": [
            [
             0,
             "rgb(103,0,31)"
            ],
            [
             0.1,
             "rgb(178,24,43)"
            ],
            [
             0.2,
             "rgb(214,96,77)"
            ],
            [
             0.3,
             "rgb(244,165,130)"
            ],
            [
             0.4,
             "rgb(253,219,199)"
            ],
            [
             0.5,
             "rgb(247,247,247)"
            ],
            [
             0.6,
             "rgb(209,229,240)"
            ],
            [
             0.7,
             "rgb(146,197,222)"
            ],
            [
             0.8,
             "rgb(67,147,195)"
            ],
            [
             0.9,
             "rgb(33,102,172)"
            ],
            [
             1,
             "rgb(5,48,97)"
            ]
           ],
           "sequential": [
            [
             0,
             "#440154"
            ],
            [
             0.1111111111111111,
             "#482878"
            ],
            [
             0.2222222222222222,
             "#3e4989"
            ],
            [
             0.3333333333333333,
             "#31688e"
            ],
            [
             0.4444444444444444,
             "#26828e"
            ],
            [
             0.5555555555555556,
             "#1f9e89"
            ],
            [
             0.6666666666666666,
             "#35b779"
            ],
            [
             0.7777777777777778,
             "#6ece58"
            ],
            [
             0.8888888888888888,
             "#b5de2b"
            ],
            [
             1,
             "#fde725"
            ]
           ],
           "sequentialminus": [
            [
             0,
             "#440154"
            ],
            [
             0.1111111111111111,
             "#482878"
            ],
            [
             0.2222222222222222,
             "#3e4989"
            ],
            [
             0.3333333333333333,
             "#31688e"
            ],
            [
             0.4444444444444444,
             "#26828e"
            ],
            [
             0.5555555555555556,
             "#1f9e89"
            ],
            [
             0.6666666666666666,
             "#35b779"
            ],
            [
             0.7777777777777778,
             "#6ece58"
            ],
            [
             0.8888888888888888,
             "#b5de2b"
            ],
            [
             1,
             "#fde725"
            ]
           ]
          },
          "colorway": [
           "#1F77B4",
           "#FF7F0E",
           "#2CA02C",
           "#D62728",
           "#9467BD",
           "#8C564B",
           "#E377C2",
           "#7F7F7F",
           "#BCBD22",
           "#17BECF"
          ],
          "font": {
           "color": "rgb(36,36,36)"
          },
          "geo": {
           "bgcolor": "white",
           "lakecolor": "white",
           "landcolor": "white",
           "showlakes": true,
           "showland": true,
           "subunitcolor": "white"
          },
          "hoverlabel": {
           "align": "left"
          },
          "hovermode": "closest",
          "mapbox": {
           "style": "light"
          },
          "paper_bgcolor": "white",
          "plot_bgcolor": "white",
          "polar": {
           "angularaxis": {
            "gridcolor": "rgb(232,232,232)",
            "linecolor": "rgb(36,36,36)",
            "showgrid": false,
            "showline": true,
            "ticks": "outside"
           },
           "bgcolor": "white",
           "radialaxis": {
            "gridcolor": "rgb(232,232,232)",
            "linecolor": "rgb(36,36,36)",
            "showgrid": false,
            "showline": true,
            "ticks": "outside"
           }
          },
          "scene": {
           "xaxis": {
            "backgroundcolor": "white",
            "gridcolor": "rgb(232,232,232)",
            "gridwidth": 2,
            "linecolor": "rgb(36,36,36)",
            "showbackground": true,
            "showgrid": false,
            "showline": true,
            "ticks": "outside",
            "zeroline": false,
            "zerolinecolor": "rgb(36,36,36)"
           },
           "yaxis": {
            "backgroundcolor": "white",
            "gridcolor": "rgb(232,232,232)",
            "gridwidth": 2,
            "linecolor": "rgb(36,36,36)",
            "showbackground": true,
            "showgrid": false,
            "showline": true,
            "ticks": "outside",
            "zeroline": false,
            "zerolinecolor": "rgb(36,36,36)"
           },
           "zaxis": {
            "backgroundcolor": "white",
            "gridcolor": "rgb(232,232,232)",
            "gridwidth": 2,
            "linecolor": "rgb(36,36,36)",
            "showbackground": true,
            "showgrid": false,
            "showline": true,
            "ticks": "outside",
            "zeroline": false,
            "zerolinecolor": "rgb(36,36,36)"
           }
          },
          "shapedefaults": {
           "fillcolor": "black",
           "line": {
            "width": 0
           },
           "opacity": 0.3
          },
          "ternary": {
           "aaxis": {
            "gridcolor": "rgb(232,232,232)",
            "linecolor": "rgb(36,36,36)",
            "showgrid": false,
            "showline": true,
            "ticks": "outside"
           },
           "baxis": {
            "gridcolor": "rgb(232,232,232)",
            "linecolor": "rgb(36,36,36)",
            "showgrid": false,
            "showline": true,
            "ticks": "outside"
           },
           "bgcolor": "white",
           "caxis": {
            "gridcolor": "rgb(232,232,232)",
            "linecolor": "rgb(36,36,36)",
            "showgrid": false,
            "showline": true,
            "ticks": "outside"
           }
          },
          "title": {
           "x": 0.05
          },
          "xaxis": {
           "automargin": true,
           "gridcolor": "rgb(232,232,232)",
           "linecolor": "rgb(36,36,36)",
           "showgrid": false,
           "showline": true,
           "ticks": "outside",
           "title": {
            "standoff": 15
           },
           "zeroline": false,
           "zerolinecolor": "rgb(36,36,36)"
          },
          "yaxis": {
           "automargin": true,
           "gridcolor": "rgb(232,232,232)",
           "linecolor": "rgb(36,36,36)",
           "showgrid": false,
           "showline": true,
           "ticks": "outside",
           "title": {
            "standoff": 15
           },
           "zeroline": false,
           "zerolinecolor": "rgb(36,36,36)"
          }
         }
        },
        "title": {
         "font": {
          "color": "#000000",
          "size": 16
         },
         "text": "L. teres age counts (Z, L & B)",
         "x": 0.5,
         "xanchor": "center",
         "y": 0.95,
         "yanchor": "top"
        },
        "width": 900,
        "xaxis": {
         "showgrid": false,
         "title": {
          "text": "age"
         },
         "zeroline": false
        },
        "yaxis": {
         "showgrid": false,
         "title": {
          "text": "count"
         },
         "zeroline": false
        }
       }
      },
      "text/html": [
       "<div>                            <div id=\"f27638cc-aa53-4408-8261-ba4e8b15eb10\" class=\"plotly-graph-div\" style=\"height:500px; width:900px;\"></div>            <script type=\"text/javascript\">                require([\"plotly\"], function(Plotly) {                    window.PLOTLYENV=window.PLOTLYENV || {};                                    if (document.getElementById(\"f27638cc-aa53-4408-8261-ba4e8b15eb10\")) {                    Plotly.newPlot(                        \"f27638cc-aa53-4408-8261-ba4e8b15eb10\",                        [{\"name\": \"Z\", \"opacity\": 0.75, \"type\": \"histogram\", \"x\": [5.0, 6.0, 4.0, 4.0, 1.0, 5.0, 8.0, 8.0, 3.0, 5.0, 5.0, 3.0, 9.0, 4.0, 3.0, 7.0, 5.0, 5.0, 6.0, 7.0, 5.0, 3.0, 5.0, 8.0, 5.0, 4.0, 8.0, 9.0, 3.0, 6.0, 2.0, 3.0, 8.0, 6.0, 7.0, 3.0, 1.0, 1.0, 1.0, 0.5, 7.0, 3.0, 5.0, 3.0, 4.0, 2.0, 5.0, 7.0, 3.0, 1.0, 8.0, 5.0, 6.0, 8.0, 6.0, 5.0, 4.0, 3.0, 2.0, 3.0, 3.0, 3.0, 4.0, 3.0, 3.0, 1.0, 3.0, 3.0, 4.0, 7.0, 2.0, 3.0, 6.0, 4.0, 2.0, 7.0, 7.0, 4.0, 4.0, 2.0, 2.0, 3.0, 6.0, 5.0, 3.0, 6.0, 6.0, 3.0, 5.0, 4.0, 2.0, 4.0, 5.0, 3.0, 3.0, 2.0, 3.0, 2.0, 4.0, 4.0, 2.0, 3.0, 3.0, 4.0, 3.0, 3.0, 4.0, 4.0, 7.0, 4.0, 3.0, 3.0, 5.0, 6.0, 4.0, 6.0, 0.5, 0.5, 0.5, 0.5, 0.5, 0.5, 2.0]}, {\"name\": \"L\", \"opacity\": 0.75, \"type\": \"histogram\", \"x\": [5.0, 11.0, 5.0, 4.0, 2.0, 5.0, 8.0, 8.0, 8.0, 5.0, 6.0, 3.0, 9.0, 5.0, 6.0, 7.0, 5.0, 5.0, 5.0, 8.0, 5.0, 5.0, 4.0, 7.0, 5.0, 4.0, 5.0, 5.0, 5.0, 10.0, 3.0, 5.0, 8.0, 7.0, 10.0, 4.0, 3.0, 3.0, 2.0, 0.5, 4.0, 5.0, 4.0, 4.0, 6.0, 3.0, 6.0, 6.0, 4.0, 2.0, 5.0, 5.0, 5.0, 8.0, 7.0, 4.0, 5.0, 5.0, 3.0, 3.0, 3.0, 4.0, 6.0, 3.0, 5.0, 2.0, 5.0, 8.0, 8.0, 7.0, 3.0, 3.0, 6.0, 7.0, 4.0, 7.0, 8.0, 4.0, 5.0, 4.0, 3.0, 4.0, 5.0, 5.0, 6.0, 6.0, 8.0, 3.0, 4.0, 4.0, 2.0, 3.0, 6.0, 3.0, 6.0, 2.0, 5.0, 3.0, 6.0, 4.0, 3.0, 5.0, 3.0, 4.0, 5.0, 3.0, 5.0, 6.0, 7.0, 4.0, 5.0, 4.0, 5.0, 6.0, 4.0, 4.0, 0.5, 0.5, 0.5, 0.5, 0.5, 0.5, 6.0]}, {\"name\": \"B\", \"opacity\": 0.75, \"type\": \"histogram\", \"x\": [5, 6, 4, 5, 2, 5, 8, 8, 4, 5, 5, 3, 9, 4, 5, 6, 4, 5, 4, 7, 6, 2, 5, 8, 5, 4, 7, 9, 3, 8, 2, 2, 7, 5, 7, 3, 1, 2, 1, 1, 4, 3, 5, 3, 4, 3, 6, 6, 3, 2, 7, 5, 5, 8, 7, 4, 4, 3, 3, 3, 3, 3, 5, 3, 5, 2, 5, 4, 7, 6, 4, 3, 6, 3, 2, 7, 7, 4, 4, 2, 3, 3, 6, 5, 4, 6, 6, 3, 5, 4, 2, 5, 5, 3, 5, 2, 4, 3, 4, 3, 3, 4, 3, 4, 4, 3, 4, 3, 7, 4, 4, 4, 4, 6, 4, 6, 1, 1, 1, 1, 1, 1, 2]}],                        {\"bargap\": 0, \"bargroupgap\": 0, \"barmode\": \"group\", \"height\": 500, \"template\": {\"data\": {\"bar\": [{\"error_x\": {\"color\": \"rgb(36,36,36)\"}, \"error_y\": {\"color\": \"rgb(36,36,36)\"}, \"marker\": {\"line\": {\"color\": \"white\", \"width\": 0.5}}, \"type\": \"bar\"}], \"barpolar\": [{\"marker\": {\"line\": {\"color\": \"white\", \"width\": 0.5}}, \"type\": \"barpolar\"}], \"carpet\": [{\"aaxis\": {\"endlinecolor\": \"rgb(36,36,36)\", \"gridcolor\": \"white\", \"linecolor\": \"white\", \"minorgridcolor\": \"white\", \"startlinecolor\": \"rgb(36,36,36)\"}, \"baxis\": {\"endlinecolor\": \"rgb(36,36,36)\", \"gridcolor\": \"white\", \"linecolor\": \"white\", \"minorgridcolor\": \"white\", \"startlinecolor\": \"rgb(36,36,36)\"}, \"type\": \"carpet\"}], \"choropleth\": [{\"colorbar\": {\"outlinewidth\": 1, \"tickcolor\": \"rgb(36,36,36)\", \"ticks\": \"outside\"}, \"type\": \"choropleth\"}], \"contour\": [{\"colorbar\": {\"outlinewidth\": 1, \"tickcolor\": \"rgb(36,36,36)\", \"ticks\": \"outside\"}, \"colorscale\": [[0.0, \"#440154\"], [0.1111111111111111, \"#482878\"], [0.2222222222222222, \"#3e4989\"], [0.3333333333333333, \"#31688e\"], [0.4444444444444444, \"#26828e\"], [0.5555555555555556, \"#1f9e89\"], [0.6666666666666666, \"#35b779\"], [0.7777777777777778, \"#6ece58\"], [0.8888888888888888, \"#b5de2b\"], [1.0, \"#fde725\"]], \"type\": \"contour\"}], \"contourcarpet\": [{\"colorbar\": {\"outlinewidth\": 1, \"tickcolor\": \"rgb(36,36,36)\", \"ticks\": \"outside\"}, \"type\": \"contourcarpet\"}], \"heatmap\": [{\"colorbar\": {\"outlinewidth\": 1, \"tickcolor\": \"rgb(36,36,36)\", \"ticks\": \"outside\"}, \"colorscale\": [[0.0, \"#440154\"], [0.1111111111111111, \"#482878\"], [0.2222222222222222, \"#3e4989\"], [0.3333333333333333, \"#31688e\"], [0.4444444444444444, \"#26828e\"], [0.5555555555555556, \"#1f9e89\"], [0.6666666666666666, \"#35b779\"], [0.7777777777777778, \"#6ece58\"], [0.8888888888888888, \"#b5de2b\"], [1.0, \"#fde725\"]], \"type\": \"heatmap\"}], \"heatmapgl\": [{\"colorbar\": {\"outlinewidth\": 1, \"tickcolor\": \"rgb(36,36,36)\", \"ticks\": \"outside\"}, \"colorscale\": [[0.0, \"#440154\"], [0.1111111111111111, \"#482878\"], [0.2222222222222222, \"#3e4989\"], [0.3333333333333333, \"#31688e\"], [0.4444444444444444, \"#26828e\"], [0.5555555555555556, \"#1f9e89\"], [0.6666666666666666, \"#35b779\"], [0.7777777777777778, \"#6ece58\"], [0.8888888888888888, \"#b5de2b\"], [1.0, \"#fde725\"]], \"type\": \"heatmapgl\"}], \"histogram\": [{\"marker\": {\"line\": {\"color\": \"white\", \"width\": 0.6}}, \"type\": \"histogram\"}], \"histogram2d\": [{\"colorbar\": {\"outlinewidth\": 1, \"tickcolor\": \"rgb(36,36,36)\", \"ticks\": \"outside\"}, \"colorscale\": [[0.0, \"#440154\"], [0.1111111111111111, \"#482878\"], [0.2222222222222222, \"#3e4989\"], [0.3333333333333333, \"#31688e\"], [0.4444444444444444, \"#26828e\"], [0.5555555555555556, \"#1f9e89\"], [0.6666666666666666, \"#35b779\"], [0.7777777777777778, \"#6ece58\"], [0.8888888888888888, \"#b5de2b\"], [1.0, \"#fde725\"]], \"type\": \"histogram2d\"}], \"histogram2dcontour\": [{\"colorbar\": {\"outlinewidth\": 1, \"tickcolor\": \"rgb(36,36,36)\", \"ticks\": \"outside\"}, \"colorscale\": [[0.0, \"#440154\"], [0.1111111111111111, \"#482878\"], [0.2222222222222222, \"#3e4989\"], [0.3333333333333333, \"#31688e\"], [0.4444444444444444, \"#26828e\"], [0.5555555555555556, \"#1f9e89\"], [0.6666666666666666, \"#35b779\"], [0.7777777777777778, \"#6ece58\"], [0.8888888888888888, \"#b5de2b\"], [1.0, \"#fde725\"]], \"type\": \"histogram2dcontour\"}], \"mesh3d\": [{\"colorbar\": {\"outlinewidth\": 1, \"tickcolor\": \"rgb(36,36,36)\", \"ticks\": \"outside\"}, \"type\": \"mesh3d\"}], \"parcoords\": [{\"line\": {\"colorbar\": {\"outlinewidth\": 1, \"tickcolor\": \"rgb(36,36,36)\", \"ticks\": \"outside\"}}, \"type\": \"parcoords\"}], \"pie\": [{\"automargin\": true, \"type\": \"pie\"}], \"scatter\": [{\"marker\": {\"colorbar\": {\"outlinewidth\": 1, \"tickcolor\": \"rgb(36,36,36)\", \"ticks\": \"outside\"}}, \"type\": \"scatter\"}], \"scatter3d\": [{\"line\": {\"colorbar\": {\"outlinewidth\": 1, \"tickcolor\": \"rgb(36,36,36)\", \"ticks\": \"outside\"}}, \"marker\": {\"colorbar\": {\"outlinewidth\": 1, \"tickcolor\": \"rgb(36,36,36)\", \"ticks\": \"outside\"}}, \"type\": \"scatter3d\"}], \"scattercarpet\": [{\"marker\": {\"colorbar\": {\"outlinewidth\": 1, \"tickcolor\": \"rgb(36,36,36)\", \"ticks\": \"outside\"}}, \"type\": \"scattercarpet\"}], \"scattergeo\": [{\"marker\": {\"colorbar\": {\"outlinewidth\": 1, \"tickcolor\": \"rgb(36,36,36)\", \"ticks\": \"outside\"}}, \"type\": \"scattergeo\"}], \"scattergl\": [{\"marker\": {\"colorbar\": {\"outlinewidth\": 1, \"tickcolor\": \"rgb(36,36,36)\", \"ticks\": \"outside\"}}, \"type\": \"scattergl\"}], \"scattermapbox\": [{\"marker\": {\"colorbar\": {\"outlinewidth\": 1, \"tickcolor\": \"rgb(36,36,36)\", \"ticks\": \"outside\"}}, \"type\": \"scattermapbox\"}], \"scatterpolar\": [{\"marker\": {\"colorbar\": {\"outlinewidth\": 1, \"tickcolor\": \"rgb(36,36,36)\", \"ticks\": \"outside\"}}, \"type\": \"scatterpolar\"}], \"scatterpolargl\": [{\"marker\": {\"colorbar\": {\"outlinewidth\": 1, \"tickcolor\": \"rgb(36,36,36)\", \"ticks\": \"outside\"}}, \"type\": \"scatterpolargl\"}], \"scatterternary\": [{\"marker\": {\"colorbar\": {\"outlinewidth\": 1, \"tickcolor\": \"rgb(36,36,36)\", \"ticks\": \"outside\"}}, \"type\": \"scatterternary\"}], \"surface\": [{\"colorbar\": {\"outlinewidth\": 1, \"tickcolor\": \"rgb(36,36,36)\", \"ticks\": \"outside\"}, \"colorscale\": [[0.0, \"#440154\"], [0.1111111111111111, \"#482878\"], [0.2222222222222222, \"#3e4989\"], [0.3333333333333333, \"#31688e\"], [0.4444444444444444, \"#26828e\"], [0.5555555555555556, \"#1f9e89\"], [0.6666666666666666, \"#35b779\"], [0.7777777777777778, \"#6ece58\"], [0.8888888888888888, \"#b5de2b\"], [1.0, \"#fde725\"]], \"type\": \"surface\"}], \"table\": [{\"cells\": {\"fill\": {\"color\": \"rgb(237,237,237)\"}, \"line\": {\"color\": \"white\"}}, \"header\": {\"fill\": {\"color\": \"rgb(217,217,217)\"}, \"line\": {\"color\": \"white\"}}, \"type\": \"table\"}]}, \"layout\": {\"annotationdefaults\": {\"arrowhead\": 0, \"arrowwidth\": 1}, \"coloraxis\": {\"colorbar\": {\"outlinewidth\": 1, \"tickcolor\": \"rgb(36,36,36)\", \"ticks\": \"outside\"}}, \"colorscale\": {\"diverging\": [[0.0, \"rgb(103,0,31)\"], [0.1, \"rgb(178,24,43)\"], [0.2, \"rgb(214,96,77)\"], [0.3, \"rgb(244,165,130)\"], [0.4, \"rgb(253,219,199)\"], [0.5, \"rgb(247,247,247)\"], [0.6, \"rgb(209,229,240)\"], [0.7, \"rgb(146,197,222)\"], [0.8, \"rgb(67,147,195)\"], [0.9, \"rgb(33,102,172)\"], [1.0, \"rgb(5,48,97)\"]], \"sequential\": [[0.0, \"#440154\"], [0.1111111111111111, \"#482878\"], [0.2222222222222222, \"#3e4989\"], [0.3333333333333333, \"#31688e\"], [0.4444444444444444, \"#26828e\"], [0.5555555555555556, \"#1f9e89\"], [0.6666666666666666, \"#35b779\"], [0.7777777777777778, \"#6ece58\"], [0.8888888888888888, \"#b5de2b\"], [1.0, \"#fde725\"]], \"sequentialminus\": [[0.0, \"#440154\"], [0.1111111111111111, \"#482878\"], [0.2222222222222222, \"#3e4989\"], [0.3333333333333333, \"#31688e\"], [0.4444444444444444, \"#26828e\"], [0.5555555555555556, \"#1f9e89\"], [0.6666666666666666, \"#35b779\"], [0.7777777777777778, \"#6ece58\"], [0.8888888888888888, \"#b5de2b\"], [1.0, \"#fde725\"]]}, \"colorway\": [\"#1F77B4\", \"#FF7F0E\", \"#2CA02C\", \"#D62728\", \"#9467BD\", \"#8C564B\", \"#E377C2\", \"#7F7F7F\", \"#BCBD22\", \"#17BECF\"], \"font\": {\"color\": \"rgb(36,36,36)\"}, \"geo\": {\"bgcolor\": \"white\", \"lakecolor\": \"white\", \"landcolor\": \"white\", \"showlakes\": true, \"showland\": true, \"subunitcolor\": \"white\"}, \"hoverlabel\": {\"align\": \"left\"}, \"hovermode\": \"closest\", \"mapbox\": {\"style\": \"light\"}, \"paper_bgcolor\": \"white\", \"plot_bgcolor\": \"white\", \"polar\": {\"angularaxis\": {\"gridcolor\": \"rgb(232,232,232)\", \"linecolor\": \"rgb(36,36,36)\", \"showgrid\": false, \"showline\": true, \"ticks\": \"outside\"}, \"bgcolor\": \"white\", \"radialaxis\": {\"gridcolor\": \"rgb(232,232,232)\", \"linecolor\": \"rgb(36,36,36)\", \"showgrid\": false, \"showline\": true, \"ticks\": \"outside\"}}, \"scene\": {\"xaxis\": {\"backgroundcolor\": \"white\", \"gridcolor\": \"rgb(232,232,232)\", \"gridwidth\": 2, \"linecolor\": \"rgb(36,36,36)\", \"showbackground\": true, \"showgrid\": false, \"showline\": true, \"ticks\": \"outside\", \"zeroline\": false, \"zerolinecolor\": \"rgb(36,36,36)\"}, \"yaxis\": {\"backgroundcolor\": \"white\", \"gridcolor\": \"rgb(232,232,232)\", \"gridwidth\": 2, \"linecolor\": \"rgb(36,36,36)\", \"showbackground\": true, \"showgrid\": false, \"showline\": true, \"ticks\": \"outside\", \"zeroline\": false, \"zerolinecolor\": \"rgb(36,36,36)\"}, \"zaxis\": {\"backgroundcolor\": \"white\", \"gridcolor\": \"rgb(232,232,232)\", \"gridwidth\": 2, \"linecolor\": \"rgb(36,36,36)\", \"showbackground\": true, \"showgrid\": false, \"showline\": true, \"ticks\": \"outside\", \"zeroline\": false, \"zerolinecolor\": \"rgb(36,36,36)\"}}, \"shapedefaults\": {\"fillcolor\": \"black\", \"line\": {\"width\": 0}, \"opacity\": 0.3}, \"ternary\": {\"aaxis\": {\"gridcolor\": \"rgb(232,232,232)\", \"linecolor\": \"rgb(36,36,36)\", \"showgrid\": false, \"showline\": true, \"ticks\": \"outside\"}, \"baxis\": {\"gridcolor\": \"rgb(232,232,232)\", \"linecolor\": \"rgb(36,36,36)\", \"showgrid\": false, \"showline\": true, \"ticks\": \"outside\"}, \"bgcolor\": \"white\", \"caxis\": {\"gridcolor\": \"rgb(232,232,232)\", \"linecolor\": \"rgb(36,36,36)\", \"showgrid\": false, \"showline\": true, \"ticks\": \"outside\"}}, \"title\": {\"x\": 0.05}, \"xaxis\": {\"automargin\": true, \"gridcolor\": \"rgb(232,232,232)\", \"linecolor\": \"rgb(36,36,36)\", \"showgrid\": false, \"showline\": true, \"ticks\": \"outside\", \"title\": {\"standoff\": 15}, \"zeroline\": false, \"zerolinecolor\": \"rgb(36,36,36)\"}, \"yaxis\": {\"automargin\": true, \"gridcolor\": \"rgb(232,232,232)\", \"linecolor\": \"rgb(36,36,36)\", \"showgrid\": false, \"showline\": true, \"ticks\": \"outside\", \"title\": {\"standoff\": 15}, \"zeroline\": false, \"zerolinecolor\": \"rgb(36,36,36)\"}}}, \"title\": {\"font\": {\"color\": \"#000000\", \"size\": 16}, \"text\": \"L. teres age counts (Z, L & B)\", \"x\": 0.5, \"xanchor\": \"center\", \"y\": 0.95, \"yanchor\": \"top\"}, \"width\": 900, \"xaxis\": {\"showgrid\": false, \"title\": {\"text\": \"age\"}, \"zeroline\": false}, \"yaxis\": {\"showgrid\": false, \"title\": {\"text\": \"count\"}, \"zeroline\": false}},                        {\"responsive\": true}                    ).then(function(){\n",
       "                            \n",
       "var gd = document.getElementById('f27638cc-aa53-4408-8261-ba4e8b15eb10');\n",
       "var x = new MutationObserver(function (mutations, observer) {{\n",
       "        var display = window.getComputedStyle(gd).display;\n",
       "        if (!display || display === 'none') {{\n",
       "            console.log([gd, 'removed!']);\n",
       "            Plotly.purge(gd);\n",
       "            observer.disconnect();\n",
       "        }}\n",
       "}});\n",
       "\n",
       "// Listen for the removal of the full notebook cells\n",
       "var notebookContainer = gd.closest('#notebook-container');\n",
       "if (notebookContainer) {{\n",
       "    x.observe(notebookContainer, {childList: true});\n",
       "}}\n",
       "\n",
       "// Listen for the clearing of the current output cell\n",
       "var outputEl = gd.closest('.output');\n",
       "if (outputEl) {{\n",
       "    x.observe(outputEl, {childList: true});\n",
       "}}\n",
       "\n",
       "                        })                };                });            </script>        </div>"
      ]
     },
     "metadata": {},
     "output_type": "display_data"
    }
   ],
   "source": [
    "fig = go.Figure()\n",
    "fig.add_trace(go.Histogram(x=clean_teres[\"Z age\"], name='Z'))\n",
    "fig.add_trace(go.Histogram(x=clean_teres[\"L age\"], name='L'))\n",
    "fig.add_trace(go.Histogram(x=clean_teres[\"B age\"], name='B'))\n",
    "\n",
    "\n",
    "# Overlay both histograms\n",
    "fig.update_layout(\n",
    "    \n",
    "    title=dict(\n",
    "        text='L. teres age counts (Z, L & B)',\n",
    "        x=0.5,\n",
    "        y=0.95,\n",
    "        xanchor='center',\n",
    "        yanchor= 'top',\n",
    "        font=dict(\n",
    "            size=16,\n",
    "            color='#000000'\n",
    "                )),\n",
    "    barmode='group',\n",
    "    bargap=0,\n",
    "    template='simple_white',\n",
    "#     paper_bgcolor='#FFFFFF',\n",
    "#     plot_bgcolor='#FFFFFF',\n",
    "    width=900, \n",
    "    height=500,\n",
    "    bargroupgap=0\n",
    "    )\n",
    "# Reduce opacity to see both histograms\n",
    "fig.update_traces(opacity=0.75)\n",
    "fig.update_xaxes(\n",
    "        showgrid=False, \n",
    "        zeroline=False,\n",
    "        title_text = \"age\"\n",
    "        )\n",
    "fig.update_yaxes(\n",
    "        showgrid=False, \n",
    "        zeroline=False,\n",
    "        title_text = \"count\",\n",
    "        )\n",
    "\n",
    "fig.show()"
   ]
  }
 ],
 "metadata": {
  "kernelspec": {
   "display_name": "Python 3",
   "language": "python",
   "name": "python3"
  },
  "language_info": {
   "codemirror_mode": {
    "name": "ipython",
    "version": 3
   },
   "file_extension": ".py",
   "mimetype": "text/x-python",
   "name": "python",
   "nbconvert_exporter": "python",
   "pygments_lexer": "ipython3",
   "version": "3.8.5"
  }
 },
 "nbformat": 4,
 "nbformat_minor": 4
}
