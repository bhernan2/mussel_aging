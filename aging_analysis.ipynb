{
 "cells": [
  {
   "cell_type": "markdown",
   "metadata": {},
   "source": [
    "### Import dependencies"
   ]
  },
  {
   "cell_type": "code",
   "execution_count": 1,
   "metadata": {},
   "outputs": [
    {
     "data": {
      "text/html": [
       "        <script type=\"text/javascript\">\n",
       "        window.PlotlyConfig = {MathJaxConfig: 'local'};\n",
       "        if (window.MathJax) {MathJax.Hub.Config({SVG: {font: \"STIX-Web\"}});}\n",
       "        if (typeof require !== 'undefined') {\n",
       "        require.undef(\"plotly\");\n",
       "        requirejs.config({\n",
       "            paths: {\n",
       "                'plotly': ['https://cdn.plot.ly/plotly-latest.min']\n",
       "            }\n",
       "        });\n",
       "        require(['plotly'], function(Plotly) {\n",
       "            window._Plotly = Plotly;\n",
       "        });\n",
       "        }\n",
       "        </script>\n",
       "        "
      ]
     },
     "metadata": {},
     "output_type": "display_data"
    }
   ],
   "source": [
    "import pandas as pd\n",
    "import numpy as np\n",
    "import plotly.graph_objects as go\n",
    "import plotly.express as px\n",
    "import seaborn as sns\n",
    "import matplotlib.pyplot as plt\n",
    "#!pip install squarify\n",
    "#plt.style.use('fivethirtyeight')\n",
    "import plotly.offline as py\n",
    "py.init_notebook_mode(connected=True)\n",
    "import plotly.tools as tls\n",
    "import pygsheets\n",
    "%matplotlib inline\n"
   ]
  },
  {
   "cell_type": "markdown",
   "metadata": {},
   "source": [
    "### Authorize connection between Jupyter notebook (python working environment; like R studio) and google sheets so we can run analyses as the sheet is updated"
   ]
  },
  {
   "cell_type": "code",
   "execution_count": 2,
   "metadata": {},
   "outputs": [],
   "source": [
    "gc = pygsheets.authorize() \n",
    "# Use customized credentials \n",
    "gc = pygsheets.authorize(client_secret='client_secret.json')\n",
    "# For the first time, it will may produce as a link to authorize"
   ]
  },
  {
   "cell_type": "markdown",
   "metadata": {},
   "source": [
    "### Open spreadsheet by name"
   ]
  },
  {
   "cell_type": "code",
   "execution_count": 3,
   "metadata": {},
   "outputs": [],
   "source": [
    "sh = gc.open('PythonCurrentFlow_Aging')"
   ]
  },
  {
   "cell_type": "markdown",
   "metadata": {},
   "source": [
    "### Open \"Data\" worksheet (can also use sh.sheet1)"
   ]
  },
  {
   "cell_type": "code",
   "execution_count": 4,
   "metadata": {},
   "outputs": [],
   "source": [
    "data = sh[0]"
   ]
  },
  {
   "cell_type": "markdown",
   "metadata": {},
   "source": [
    "### Get worksheet values as pandas dataframe"
   ]
  },
  {
   "cell_type": "code",
   "execution_count": 5,
   "metadata": {},
   "outputs": [],
   "source": [
    "aging_data = pd.DataFrame(data.get_all_records())"
   ]
  },
  {
   "cell_type": "code",
   "execution_count": 6,
   "metadata": {
    "scrolled": true
   },
   "outputs": [
    {
     "data": {
      "text/html": [
       "<div>\n",
       "<style scoped>\n",
       "    .dataframe tbody tr th:only-of-type {\n",
       "        vertical-align: middle;\n",
       "    }\n",
       "\n",
       "    .dataframe tbody tr th {\n",
       "        vertical-align: top;\n",
       "    }\n",
       "\n",
       "    .dataframe thead th {\n",
       "        text-align: right;\n",
       "    }\n",
       "</style>\n",
       "<table border=\"1\" class=\"dataframe\">\n",
       "  <thead>\n",
       "    <tr style=\"text-align: right;\">\n",
       "      <th></th>\n",
       "      <th>Genus</th>\n",
       "      <th>Species</th>\n",
       "      <th>Sample ID</th>\n",
       "      <th>Species Code</th>\n",
       "      <th>Site</th>\n",
       "      <th>River</th>\n",
       "      <th>Basin</th>\n",
       "      <th>Lat</th>\n",
       "      <th>Long</th>\n",
       "      <th>Date Collected</th>\n",
       "      <th>...</th>\n",
       "      <th>Status Upon Collection</th>\n",
       "      <th>Final Age</th>\n",
       "      <th>Age dif</th>\n",
       "      <th>Z age</th>\n",
       "      <th>L age</th>\n",
       "      <th>B age</th>\n",
       "      <th>K&amp;M Age</th>\n",
       "      <th>K age</th>\n",
       "      <th>M age</th>\n",
       "      <th>Notes</th>\n",
       "    </tr>\n",
       "  </thead>\n",
       "  <tbody>\n",
       "    <tr>\n",
       "      <th>0</th>\n",
       "      <td>Amblema</td>\n",
       "      <td>plicata</td>\n",
       "      <td>1</td>\n",
       "      <td>D</td>\n",
       "      <td>Gonzales, TX</td>\n",
       "      <td>Guadalupe</td>\n",
       "      <td>Guadalupe</td>\n",
       "      <td>29.493646°</td>\n",
       "      <td>-97.431293°</td>\n",
       "      <td>9/24/19</td>\n",
       "      <td>...</td>\n",
       "      <td>Alive</td>\n",
       "      <td>15</td>\n",
       "      <td></td>\n",
       "      <td></td>\n",
       "      <td></td>\n",
       "      <td></td>\n",
       "      <td>15</td>\n",
       "      <td>15</td>\n",
       "      <td>14</td>\n",
       "      <td></td>\n",
       "    </tr>\n",
       "    <tr>\n",
       "      <th>1</th>\n",
       "      <td>Amblema</td>\n",
       "      <td>plicata</td>\n",
       "      <td>2</td>\n",
       "      <td>D</td>\n",
       "      <td>Gonzales, TX</td>\n",
       "      <td>Guadalupe</td>\n",
       "      <td>Guadalupe</td>\n",
       "      <td>29.493646°</td>\n",
       "      <td>-97.431293°</td>\n",
       "      <td>9/24/19</td>\n",
       "      <td>...</td>\n",
       "      <td>Alive</td>\n",
       "      <td>16</td>\n",
       "      <td></td>\n",
       "      <td></td>\n",
       "      <td></td>\n",
       "      <td></td>\n",
       "      <td>16</td>\n",
       "      <td>16</td>\n",
       "      <td>12</td>\n",
       "      <td></td>\n",
       "    </tr>\n",
       "    <tr>\n",
       "      <th>2</th>\n",
       "      <td>Amblema</td>\n",
       "      <td>plicata</td>\n",
       "      <td>3</td>\n",
       "      <td>D</td>\n",
       "      <td>Gonzales, TX</td>\n",
       "      <td>Guadalupe</td>\n",
       "      <td>Guadalupe</td>\n",
       "      <td>29.493646°</td>\n",
       "      <td>-97.431293°</td>\n",
       "      <td>9/24/19</td>\n",
       "      <td>...</td>\n",
       "      <td>Alive</td>\n",
       "      <td>17</td>\n",
       "      <td></td>\n",
       "      <td></td>\n",
       "      <td></td>\n",
       "      <td></td>\n",
       "      <td>17</td>\n",
       "      <td>17</td>\n",
       "      <td>9</td>\n",
       "      <td></td>\n",
       "    </tr>\n",
       "    <tr>\n",
       "      <th>3</th>\n",
       "      <td>Amblema</td>\n",
       "      <td>plicata</td>\n",
       "      <td>4</td>\n",
       "      <td>D</td>\n",
       "      <td>Gonzales, TX</td>\n",
       "      <td>Guadalupe</td>\n",
       "      <td>Guadalupe</td>\n",
       "      <td>29.493646°</td>\n",
       "      <td>-97.431293°</td>\n",
       "      <td>9/24/19</td>\n",
       "      <td>...</td>\n",
       "      <td>Alive</td>\n",
       "      <td>15</td>\n",
       "      <td></td>\n",
       "      <td></td>\n",
       "      <td></td>\n",
       "      <td></td>\n",
       "      <td>15</td>\n",
       "      <td>13</td>\n",
       "      <td>12</td>\n",
       "      <td></td>\n",
       "    </tr>\n",
       "    <tr>\n",
       "      <th>4</th>\n",
       "      <td>Amblema</td>\n",
       "      <td>plicata</td>\n",
       "      <td>5</td>\n",
       "      <td>D</td>\n",
       "      <td>Gonzales, TX</td>\n",
       "      <td>Guadalupe</td>\n",
       "      <td>Guadalupe</td>\n",
       "      <td>29.493646°</td>\n",
       "      <td>-97.431293°</td>\n",
       "      <td>9/24/19</td>\n",
       "      <td>...</td>\n",
       "      <td>Alive</td>\n",
       "      <td>14</td>\n",
       "      <td></td>\n",
       "      <td></td>\n",
       "      <td></td>\n",
       "      <td></td>\n",
       "      <td>14</td>\n",
       "      <td>14</td>\n",
       "      <td>12</td>\n",
       "      <td></td>\n",
       "    </tr>\n",
       "    <tr>\n",
       "      <th>...</th>\n",
       "      <td>...</td>\n",
       "      <td>...</td>\n",
       "      <td>...</td>\n",
       "      <td>...</td>\n",
       "      <td>...</td>\n",
       "      <td>...</td>\n",
       "      <td>...</td>\n",
       "      <td>...</td>\n",
       "      <td>...</td>\n",
       "      <td>...</td>\n",
       "      <td>...</td>\n",
       "      <td>...</td>\n",
       "      <td>...</td>\n",
       "      <td>...</td>\n",
       "      <td>...</td>\n",
       "      <td>...</td>\n",
       "      <td>...</td>\n",
       "      <td>...</td>\n",
       "      <td>...</td>\n",
       "      <td>...</td>\n",
       "      <td>...</td>\n",
       "    </tr>\n",
       "    <tr>\n",
       "      <th>469</th>\n",
       "      <td>Lampsilis</td>\n",
       "      <td>teres</td>\n",
       "      <td>471</td>\n",
       "      <td>E</td>\n",
       "      <td>Bellville, TX</td>\n",
       "      <td>Brazos</td>\n",
       "      <td>Brazos</td>\n",
       "      <td>29.939875°</td>\n",
       "      <td>-96.129332°</td>\n",
       "      <td>8/28/20</td>\n",
       "      <td>...</td>\n",
       "      <td>Alive</td>\n",
       "      <td>0.5</td>\n",
       "      <td>0</td>\n",
       "      <td>0.5</td>\n",
       "      <td>0.5</td>\n",
       "      <td>1</td>\n",
       "      <td></td>\n",
       "      <td></td>\n",
       "      <td></td>\n",
       "      <td></td>\n",
       "    </tr>\n",
       "    <tr>\n",
       "      <th>470</th>\n",
       "      <td>Lampsilis</td>\n",
       "      <td>teres</td>\n",
       "      <td>472</td>\n",
       "      <td>E</td>\n",
       "      <td>Bellville, TX</td>\n",
       "      <td>Brazos</td>\n",
       "      <td>Brazos</td>\n",
       "      <td>29.939875°</td>\n",
       "      <td>-96.129332°</td>\n",
       "      <td>8/28/20</td>\n",
       "      <td>...</td>\n",
       "      <td>Alive</td>\n",
       "      <td>0.5</td>\n",
       "      <td>0</td>\n",
       "      <td>0.5</td>\n",
       "      <td>0.5</td>\n",
       "      <td>1</td>\n",
       "      <td></td>\n",
       "      <td></td>\n",
       "      <td></td>\n",
       "      <td></td>\n",
       "    </tr>\n",
       "    <tr>\n",
       "      <th>471</th>\n",
       "      <td>Lampsilis</td>\n",
       "      <td>teres</td>\n",
       "      <td>473</td>\n",
       "      <td>E</td>\n",
       "      <td>Bellville, TX</td>\n",
       "      <td>Brazos</td>\n",
       "      <td>Brazos</td>\n",
       "      <td>29.939875°</td>\n",
       "      <td>-96.129332°</td>\n",
       "      <td>8/28/20</td>\n",
       "      <td>...</td>\n",
       "      <td>Alive</td>\n",
       "      <td>0.5</td>\n",
       "      <td>0</td>\n",
       "      <td>0.5</td>\n",
       "      <td>0.5</td>\n",
       "      <td>1</td>\n",
       "      <td></td>\n",
       "      <td></td>\n",
       "      <td></td>\n",
       "      <td></td>\n",
       "    </tr>\n",
       "    <tr>\n",
       "      <th>472</th>\n",
       "      <td>Lampsilis</td>\n",
       "      <td>teres</td>\n",
       "      <td>474</td>\n",
       "      <td>E</td>\n",
       "      <td>Bellville, TX</td>\n",
       "      <td>Brazos</td>\n",
       "      <td>Brazos</td>\n",
       "      <td>29.939875°</td>\n",
       "      <td>-96.129332°</td>\n",
       "      <td>8/28/20</td>\n",
       "      <td>...</td>\n",
       "      <td>Alive</td>\n",
       "      <td>0.5</td>\n",
       "      <td>0</td>\n",
       "      <td>0.5</td>\n",
       "      <td>0.5</td>\n",
       "      <td>1</td>\n",
       "      <td></td>\n",
       "      <td></td>\n",
       "      <td></td>\n",
       "      <td>B: how could you tell difference b/w 0.5 &amp; 1?</td>\n",
       "    </tr>\n",
       "    <tr>\n",
       "      <th>473</th>\n",
       "      <td>Lampsilis</td>\n",
       "      <td>teres</td>\n",
       "      <td>475</td>\n",
       "      <td>E</td>\n",
       "      <td>Bay City, TX</td>\n",
       "      <td>Colorado</td>\n",
       "      <td>Colorado</td>\n",
       "      <td>29.126034°</td>\n",
       "      <td>-96.044864°</td>\n",
       "      <td>5/5/20</td>\n",
       "      <td>...</td>\n",
       "      <td>Alive</td>\n",
       "      <td>4</td>\n",
       "      <td>4</td>\n",
       "      <td>2</td>\n",
       "      <td>6</td>\n",
       "      <td>2</td>\n",
       "      <td></td>\n",
       "      <td></td>\n",
       "      <td></td>\n",
       "      <td></td>\n",
       "    </tr>\n",
       "  </tbody>\n",
       "</table>\n",
       "<p>474 rows × 21 columns</p>\n",
       "</div>"
      ],
      "text/plain": [
       "         Genus  Species  Sample ID Species Code           Site      River  \\\n",
       "0      Amblema  plicata          1            D   Gonzales, TX  Guadalupe   \n",
       "1      Amblema  plicata          2            D   Gonzales, TX  Guadalupe   \n",
       "2      Amblema  plicata          3            D   Gonzales, TX  Guadalupe   \n",
       "3      Amblema  plicata          4            D   Gonzales, TX  Guadalupe   \n",
       "4      Amblema  plicata          5            D   Gonzales, TX  Guadalupe   \n",
       "..         ...      ...        ...          ...            ...        ...   \n",
       "469  Lampsilis    teres        471            E  Bellville, TX     Brazos   \n",
       "470  Lampsilis    teres        472            E  Bellville, TX     Brazos   \n",
       "471  Lampsilis    teres        473            E  Bellville, TX     Brazos   \n",
       "472  Lampsilis    teres        474            E  Bellville, TX     Brazos   \n",
       "473  Lampsilis    teres        475            E   Bay City, TX   Colorado   \n",
       "\n",
       "         Basin         Lat         Long Date Collected  ...  \\\n",
       "0    Guadalupe  29.493646°  -97.431293°        9/24/19  ...   \n",
       "1    Guadalupe  29.493646°  -97.431293°        9/24/19  ...   \n",
       "2    Guadalupe  29.493646°  -97.431293°        9/24/19  ...   \n",
       "3    Guadalupe  29.493646°  -97.431293°        9/24/19  ...   \n",
       "4    Guadalupe  29.493646°  -97.431293°        9/24/19  ...   \n",
       "..         ...         ...          ...            ...  ...   \n",
       "469     Brazos  29.939875°  -96.129332°        8/28/20  ...   \n",
       "470     Brazos  29.939875°  -96.129332°        8/28/20  ...   \n",
       "471     Brazos  29.939875°  -96.129332°        8/28/20  ...   \n",
       "472     Brazos  29.939875°  -96.129332°        8/28/20  ...   \n",
       "473   Colorado  29.126034°  -96.044864°         5/5/20  ...   \n",
       "\n",
       "     Status Upon Collection Final Age Age dif Z age L age B age K&M Age K age  \\\n",
       "0                     Alive        15                                15    15   \n",
       "1                     Alive        16                                16    16   \n",
       "2                     Alive        17                                17    17   \n",
       "3                     Alive        15                                15    13   \n",
       "4                     Alive        14                                14    14   \n",
       "..                      ...       ...     ...   ...   ...   ...     ...   ...   \n",
       "469                   Alive       0.5       0   0.5   0.5     1                 \n",
       "470                   Alive       0.5       0   0.5   0.5     1                 \n",
       "471                   Alive       0.5       0   0.5   0.5     1                 \n",
       "472                   Alive       0.5       0   0.5   0.5     1                 \n",
       "473                   Alive         4       4     2     6     2                 \n",
       "\n",
       "    M age                                          Notes  \n",
       "0      14                                                 \n",
       "1      12                                                 \n",
       "2       9                                                 \n",
       "3      12                                                 \n",
       "4      12                                                 \n",
       "..    ...                                            ...  \n",
       "469                                                       \n",
       "470                                                       \n",
       "471                                                       \n",
       "472        B: how could you tell difference b/w 0.5 & 1?  \n",
       "473                                                       \n",
       "\n",
       "[474 rows x 21 columns]"
      ]
     },
     "execution_count": 6,
     "metadata": {},
     "output_type": "execute_result"
    }
   ],
   "source": [
    "aging_data"
   ]
  },
  {
   "cell_type": "markdown",
   "metadata": {},
   "source": [
    "#### Rename columns "
   ]
  },
  {
   "cell_type": "code",
   "execution_count": 7,
   "metadata": {},
   "outputs": [
    {
     "data": {
      "text/html": [
       "<div>\n",
       "<style scoped>\n",
       "    .dataframe tbody tr th:only-of-type {\n",
       "        vertical-align: middle;\n",
       "    }\n",
       "\n",
       "    .dataframe tbody tr th {\n",
       "        vertical-align: top;\n",
       "    }\n",
       "\n",
       "    .dataframe thead th {\n",
       "        text-align: right;\n",
       "    }\n",
       "</style>\n",
       "<table border=\"1\" class=\"dataframe\">\n",
       "  <thead>\n",
       "    <tr style=\"text-align: right;\">\n",
       "      <th></th>\n",
       "      <th>genus</th>\n",
       "      <th>species</th>\n",
       "      <th>id</th>\n",
       "      <th>code</th>\n",
       "      <th>site</th>\n",
       "      <th>river</th>\n",
       "      <th>basin</th>\n",
       "      <th>lat</th>\n",
       "      <th>long</th>\n",
       "      <th>date</th>\n",
       "      <th>...</th>\n",
       "      <th>status</th>\n",
       "      <th>Final Age</th>\n",
       "      <th>Age dif</th>\n",
       "      <th>Z age</th>\n",
       "      <th>L age</th>\n",
       "      <th>B age</th>\n",
       "      <th>K&amp;M Age</th>\n",
       "      <th>K age</th>\n",
       "      <th>M age</th>\n",
       "      <th>Notes</th>\n",
       "    </tr>\n",
       "  </thead>\n",
       "  <tbody>\n",
       "    <tr>\n",
       "      <th>0</th>\n",
       "      <td>Amblema</td>\n",
       "      <td>plicata</td>\n",
       "      <td>1</td>\n",
       "      <td>D</td>\n",
       "      <td>Gonzales, TX</td>\n",
       "      <td>Guadalupe</td>\n",
       "      <td>Guadalupe</td>\n",
       "      <td>29.493646°</td>\n",
       "      <td>-97.431293°</td>\n",
       "      <td>9/24/19</td>\n",
       "      <td>...</td>\n",
       "      <td>Alive</td>\n",
       "      <td>15</td>\n",
       "      <td></td>\n",
       "      <td></td>\n",
       "      <td></td>\n",
       "      <td></td>\n",
       "      <td>15</td>\n",
       "      <td>15</td>\n",
       "      <td>14</td>\n",
       "      <td></td>\n",
       "    </tr>\n",
       "    <tr>\n",
       "      <th>1</th>\n",
       "      <td>Amblema</td>\n",
       "      <td>plicata</td>\n",
       "      <td>2</td>\n",
       "      <td>D</td>\n",
       "      <td>Gonzales, TX</td>\n",
       "      <td>Guadalupe</td>\n",
       "      <td>Guadalupe</td>\n",
       "      <td>29.493646°</td>\n",
       "      <td>-97.431293°</td>\n",
       "      <td>9/24/19</td>\n",
       "      <td>...</td>\n",
       "      <td>Alive</td>\n",
       "      <td>16</td>\n",
       "      <td></td>\n",
       "      <td></td>\n",
       "      <td></td>\n",
       "      <td></td>\n",
       "      <td>16</td>\n",
       "      <td>16</td>\n",
       "      <td>12</td>\n",
       "      <td></td>\n",
       "    </tr>\n",
       "    <tr>\n",
       "      <th>2</th>\n",
       "      <td>Amblema</td>\n",
       "      <td>plicata</td>\n",
       "      <td>3</td>\n",
       "      <td>D</td>\n",
       "      <td>Gonzales, TX</td>\n",
       "      <td>Guadalupe</td>\n",
       "      <td>Guadalupe</td>\n",
       "      <td>29.493646°</td>\n",
       "      <td>-97.431293°</td>\n",
       "      <td>9/24/19</td>\n",
       "      <td>...</td>\n",
       "      <td>Alive</td>\n",
       "      <td>17</td>\n",
       "      <td></td>\n",
       "      <td></td>\n",
       "      <td></td>\n",
       "      <td></td>\n",
       "      <td>17</td>\n",
       "      <td>17</td>\n",
       "      <td>9</td>\n",
       "      <td></td>\n",
       "    </tr>\n",
       "    <tr>\n",
       "      <th>3</th>\n",
       "      <td>Amblema</td>\n",
       "      <td>plicata</td>\n",
       "      <td>4</td>\n",
       "      <td>D</td>\n",
       "      <td>Gonzales, TX</td>\n",
       "      <td>Guadalupe</td>\n",
       "      <td>Guadalupe</td>\n",
       "      <td>29.493646°</td>\n",
       "      <td>-97.431293°</td>\n",
       "      <td>9/24/19</td>\n",
       "      <td>...</td>\n",
       "      <td>Alive</td>\n",
       "      <td>15</td>\n",
       "      <td></td>\n",
       "      <td></td>\n",
       "      <td></td>\n",
       "      <td></td>\n",
       "      <td>15</td>\n",
       "      <td>13</td>\n",
       "      <td>12</td>\n",
       "      <td></td>\n",
       "    </tr>\n",
       "    <tr>\n",
       "      <th>4</th>\n",
       "      <td>Amblema</td>\n",
       "      <td>plicata</td>\n",
       "      <td>5</td>\n",
       "      <td>D</td>\n",
       "      <td>Gonzales, TX</td>\n",
       "      <td>Guadalupe</td>\n",
       "      <td>Guadalupe</td>\n",
       "      <td>29.493646°</td>\n",
       "      <td>-97.431293°</td>\n",
       "      <td>9/24/19</td>\n",
       "      <td>...</td>\n",
       "      <td>Alive</td>\n",
       "      <td>14</td>\n",
       "      <td></td>\n",
       "      <td></td>\n",
       "      <td></td>\n",
       "      <td></td>\n",
       "      <td>14</td>\n",
       "      <td>14</td>\n",
       "      <td>12</td>\n",
       "      <td></td>\n",
       "    </tr>\n",
       "    <tr>\n",
       "      <th>...</th>\n",
       "      <td>...</td>\n",
       "      <td>...</td>\n",
       "      <td>...</td>\n",
       "      <td>...</td>\n",
       "      <td>...</td>\n",
       "      <td>...</td>\n",
       "      <td>...</td>\n",
       "      <td>...</td>\n",
       "      <td>...</td>\n",
       "      <td>...</td>\n",
       "      <td>...</td>\n",
       "      <td>...</td>\n",
       "      <td>...</td>\n",
       "      <td>...</td>\n",
       "      <td>...</td>\n",
       "      <td>...</td>\n",
       "      <td>...</td>\n",
       "      <td>...</td>\n",
       "      <td>...</td>\n",
       "      <td>...</td>\n",
       "      <td>...</td>\n",
       "    </tr>\n",
       "    <tr>\n",
       "      <th>469</th>\n",
       "      <td>Lampsilis</td>\n",
       "      <td>teres</td>\n",
       "      <td>471</td>\n",
       "      <td>E</td>\n",
       "      <td>Bellville, TX</td>\n",
       "      <td>Brazos</td>\n",
       "      <td>Brazos</td>\n",
       "      <td>29.939875°</td>\n",
       "      <td>-96.129332°</td>\n",
       "      <td>8/28/20</td>\n",
       "      <td>...</td>\n",
       "      <td>Alive</td>\n",
       "      <td>0.5</td>\n",
       "      <td>0</td>\n",
       "      <td>0.5</td>\n",
       "      <td>0.5</td>\n",
       "      <td>1</td>\n",
       "      <td></td>\n",
       "      <td></td>\n",
       "      <td></td>\n",
       "      <td></td>\n",
       "    </tr>\n",
       "    <tr>\n",
       "      <th>470</th>\n",
       "      <td>Lampsilis</td>\n",
       "      <td>teres</td>\n",
       "      <td>472</td>\n",
       "      <td>E</td>\n",
       "      <td>Bellville, TX</td>\n",
       "      <td>Brazos</td>\n",
       "      <td>Brazos</td>\n",
       "      <td>29.939875°</td>\n",
       "      <td>-96.129332°</td>\n",
       "      <td>8/28/20</td>\n",
       "      <td>...</td>\n",
       "      <td>Alive</td>\n",
       "      <td>0.5</td>\n",
       "      <td>0</td>\n",
       "      <td>0.5</td>\n",
       "      <td>0.5</td>\n",
       "      <td>1</td>\n",
       "      <td></td>\n",
       "      <td></td>\n",
       "      <td></td>\n",
       "      <td></td>\n",
       "    </tr>\n",
       "    <tr>\n",
       "      <th>471</th>\n",
       "      <td>Lampsilis</td>\n",
       "      <td>teres</td>\n",
       "      <td>473</td>\n",
       "      <td>E</td>\n",
       "      <td>Bellville, TX</td>\n",
       "      <td>Brazos</td>\n",
       "      <td>Brazos</td>\n",
       "      <td>29.939875°</td>\n",
       "      <td>-96.129332°</td>\n",
       "      <td>8/28/20</td>\n",
       "      <td>...</td>\n",
       "      <td>Alive</td>\n",
       "      <td>0.5</td>\n",
       "      <td>0</td>\n",
       "      <td>0.5</td>\n",
       "      <td>0.5</td>\n",
       "      <td>1</td>\n",
       "      <td></td>\n",
       "      <td></td>\n",
       "      <td></td>\n",
       "      <td></td>\n",
       "    </tr>\n",
       "    <tr>\n",
       "      <th>472</th>\n",
       "      <td>Lampsilis</td>\n",
       "      <td>teres</td>\n",
       "      <td>474</td>\n",
       "      <td>E</td>\n",
       "      <td>Bellville, TX</td>\n",
       "      <td>Brazos</td>\n",
       "      <td>Brazos</td>\n",
       "      <td>29.939875°</td>\n",
       "      <td>-96.129332°</td>\n",
       "      <td>8/28/20</td>\n",
       "      <td>...</td>\n",
       "      <td>Alive</td>\n",
       "      <td>0.5</td>\n",
       "      <td>0</td>\n",
       "      <td>0.5</td>\n",
       "      <td>0.5</td>\n",
       "      <td>1</td>\n",
       "      <td></td>\n",
       "      <td></td>\n",
       "      <td></td>\n",
       "      <td>B: how could you tell difference b/w 0.5 &amp; 1?</td>\n",
       "    </tr>\n",
       "    <tr>\n",
       "      <th>473</th>\n",
       "      <td>Lampsilis</td>\n",
       "      <td>teres</td>\n",
       "      <td>475</td>\n",
       "      <td>E</td>\n",
       "      <td>Bay City, TX</td>\n",
       "      <td>Colorado</td>\n",
       "      <td>Colorado</td>\n",
       "      <td>29.126034°</td>\n",
       "      <td>-96.044864°</td>\n",
       "      <td>5/5/20</td>\n",
       "      <td>...</td>\n",
       "      <td>Alive</td>\n",
       "      <td>4</td>\n",
       "      <td>4</td>\n",
       "      <td>2</td>\n",
       "      <td>6</td>\n",
       "      <td>2</td>\n",
       "      <td></td>\n",
       "      <td></td>\n",
       "      <td></td>\n",
       "      <td></td>\n",
       "    </tr>\n",
       "  </tbody>\n",
       "</table>\n",
       "<p>474 rows × 21 columns</p>\n",
       "</div>"
      ],
      "text/plain": [
       "         genus  species   id code           site      river      basin  \\\n",
       "0      Amblema  plicata    1    D   Gonzales, TX  Guadalupe  Guadalupe   \n",
       "1      Amblema  plicata    2    D   Gonzales, TX  Guadalupe  Guadalupe   \n",
       "2      Amblema  plicata    3    D   Gonzales, TX  Guadalupe  Guadalupe   \n",
       "3      Amblema  plicata    4    D   Gonzales, TX  Guadalupe  Guadalupe   \n",
       "4      Amblema  plicata    5    D   Gonzales, TX  Guadalupe  Guadalupe   \n",
       "..         ...      ...  ...  ...            ...        ...        ...   \n",
       "469  Lampsilis    teres  471    E  Bellville, TX     Brazos     Brazos   \n",
       "470  Lampsilis    teres  472    E  Bellville, TX     Brazos     Brazos   \n",
       "471  Lampsilis    teres  473    E  Bellville, TX     Brazos     Brazos   \n",
       "472  Lampsilis    teres  474    E  Bellville, TX     Brazos     Brazos   \n",
       "473  Lampsilis    teres  475    E   Bay City, TX   Colorado   Colorado   \n",
       "\n",
       "            lat         long     date  ...  status Final Age Age dif Z age  \\\n",
       "0    29.493646°  -97.431293°  9/24/19  ...   Alive        15                 \n",
       "1    29.493646°  -97.431293°  9/24/19  ...   Alive        16                 \n",
       "2    29.493646°  -97.431293°  9/24/19  ...   Alive        17                 \n",
       "3    29.493646°  -97.431293°  9/24/19  ...   Alive        15                 \n",
       "4    29.493646°  -97.431293°  9/24/19  ...   Alive        14                 \n",
       "..          ...          ...      ...  ...     ...       ...     ...   ...   \n",
       "469  29.939875°  -96.129332°  8/28/20  ...   Alive       0.5       0   0.5   \n",
       "470  29.939875°  -96.129332°  8/28/20  ...   Alive       0.5       0   0.5   \n",
       "471  29.939875°  -96.129332°  8/28/20  ...   Alive       0.5       0   0.5   \n",
       "472  29.939875°  -96.129332°  8/28/20  ...   Alive       0.5       0   0.5   \n",
       "473  29.126034°  -96.044864°   5/5/20  ...   Alive         4       4     2   \n",
       "\n",
       "    L age B age K&M Age K age M age  \\\n",
       "0                    15    15    14   \n",
       "1                    16    16    12   \n",
       "2                    17    17     9   \n",
       "3                    15    13    12   \n",
       "4                    14    14    12   \n",
       "..    ...   ...     ...   ...   ...   \n",
       "469   0.5     1                       \n",
       "470   0.5     1                       \n",
       "471   0.5     1                       \n",
       "472   0.5     1                       \n",
       "473     6     2                       \n",
       "\n",
       "                                             Notes  \n",
       "0                                                   \n",
       "1                                                   \n",
       "2                                                   \n",
       "3                                                   \n",
       "4                                                   \n",
       "..                                             ...  \n",
       "469                                                 \n",
       "470                                                 \n",
       "471                                                 \n",
       "472  B: how could you tell difference b/w 0.5 & 1?  \n",
       "473                                                 \n",
       "\n",
       "[474 rows x 21 columns]"
      ]
     },
     "execution_count": 7,
     "metadata": {},
     "output_type": "execute_result"
    }
   ],
   "source": [
    "df_rename=aging_data.rename(columns={\"Sample ID\": \"id\", \"Genus\":\"genus\", \"Species\":\"species\", \"Species Code\": \"code\", \"Site\":\"site\", \"River\":\"river\", \"Basin\":\"basin\", \"Lat\":\"lat\", \"Long\":\"long\", \"Date Collected\":\"date\", \"Status Upon Collection\":\"status\", \"Ager\":\"ager\", \"Age\":\"age\"})\n",
    "df_rename"
   ]
  },
  {
   "cell_type": "markdown",
   "metadata": {},
   "source": [
    "### What do age measurements for L. teres look like across Z, L & B?\n",
    "#### Compare value counts "
   ]
  },
  {
   "cell_type": "code",
   "execution_count": 8,
   "metadata": {},
   "outputs": [
    {
     "data": {
      "text/html": [
       "<div>\n",
       "<style scoped>\n",
       "    .dataframe tbody tr th:only-of-type {\n",
       "        vertical-align: middle;\n",
       "    }\n",
       "\n",
       "    .dataframe tbody tr th {\n",
       "        vertical-align: top;\n",
       "    }\n",
       "\n",
       "    .dataframe thead th {\n",
       "        text-align: right;\n",
       "    }\n",
       "</style>\n",
       "<table border=\"1\" class=\"dataframe\">\n",
       "  <thead>\n",
       "    <tr style=\"text-align: right;\">\n",
       "      <th>Z age</th>\n",
       "      <th>0.5</th>\n",
       "      <th>1.0</th>\n",
       "      <th>2.0</th>\n",
       "      <th>3.0</th>\n",
       "      <th>4.0</th>\n",
       "      <th>5.0</th>\n",
       "      <th>6.0</th>\n",
       "      <th>7.0</th>\n",
       "      <th>8.0</th>\n",
       "      <th>9.0</th>\n",
       "      <th>12</th>\n",
       "      <th>13</th>\n",
       "      <th></th>\n",
       "    </tr>\n",
       "    <tr>\n",
       "      <th>Species</th>\n",
       "      <th></th>\n",
       "      <th></th>\n",
       "      <th></th>\n",
       "      <th></th>\n",
       "      <th></th>\n",
       "      <th></th>\n",
       "      <th></th>\n",
       "      <th></th>\n",
       "      <th></th>\n",
       "      <th></th>\n",
       "      <th></th>\n",
       "      <th></th>\n",
       "      <th></th>\n",
       "    </tr>\n",
       "  </thead>\n",
       "  <tbody>\n",
       "    <tr>\n",
       "      <th>False</th>\n",
       "      <td>0</td>\n",
       "      <td>1</td>\n",
       "      <td>1</td>\n",
       "      <td>0</td>\n",
       "      <td>0</td>\n",
       "      <td>0</td>\n",
       "      <td>0</td>\n",
       "      <td>0</td>\n",
       "      <td>1</td>\n",
       "      <td>0</td>\n",
       "      <td>1</td>\n",
       "      <td>1</td>\n",
       "      <td>320</td>\n",
       "    </tr>\n",
       "    <tr>\n",
       "      <th>True</th>\n",
       "      <td>7</td>\n",
       "      <td>6</td>\n",
       "      <td>12</td>\n",
       "      <td>33</td>\n",
       "      <td>22</td>\n",
       "      <td>18</td>\n",
       "      <td>14</td>\n",
       "      <td>10</td>\n",
       "      <td>7</td>\n",
       "      <td>2</td>\n",
       "      <td>0</td>\n",
       "      <td>0</td>\n",
       "      <td>16</td>\n",
       "    </tr>\n",
       "  </tbody>\n",
       "</table>\n",
       "</div>"
      ],
      "text/plain": [
       "Z age    0.5  1.0  2.0  3.0  4.0  5.0  6.0  7.0  8.0  9.0  12  13     \n",
       "Species                                                               \n",
       "False      0    1    1    0    0    0    0    0    1    0   1   1  320\n",
       "True       7    6   12   33   22   18   14   10    7    2   0   0   16"
      ]
     },
     "execution_count": 8,
     "metadata": {},
     "output_type": "execute_result"
    }
   ],
   "source": [
    "pd.crosstab(index=aging_data['Species']=='teres', columns=aging_data['Z age'])"
   ]
  },
  {
   "cell_type": "markdown",
   "metadata": {},
   "source": [
    "##### L. teres\n",
    "#### Ager Z: aged most mussels at 3 yrs old"
   ]
  },
  {
   "cell_type": "code",
   "execution_count": 9,
   "metadata": {},
   "outputs": [
    {
     "data": {
      "text/html": [
       "<div>\n",
       "<style scoped>\n",
       "    .dataframe tbody tr th:only-of-type {\n",
       "        vertical-align: middle;\n",
       "    }\n",
       "\n",
       "    .dataframe tbody tr th {\n",
       "        vertical-align: top;\n",
       "    }\n",
       "\n",
       "    .dataframe thead th {\n",
       "        text-align: right;\n",
       "    }\n",
       "</style>\n",
       "<table border=\"1\" class=\"dataframe\">\n",
       "  <thead>\n",
       "    <tr style=\"text-align: right;\">\n",
       "      <th>L age</th>\n",
       "      <th>0.5</th>\n",
       "      <th>1</th>\n",
       "      <th>2.0</th>\n",
       "      <th>3.0</th>\n",
       "      <th>4.0</th>\n",
       "      <th>5.0</th>\n",
       "      <th>6.0</th>\n",
       "      <th>7.0</th>\n",
       "      <th>8.0</th>\n",
       "      <th>9.0</th>\n",
       "      <th>10.0</th>\n",
       "      <th>11.0</th>\n",
       "      <th>13</th>\n",
       "      <th></th>\n",
       "    </tr>\n",
       "    <tr>\n",
       "      <th>Species</th>\n",
       "      <th></th>\n",
       "      <th></th>\n",
       "      <th></th>\n",
       "      <th></th>\n",
       "      <th></th>\n",
       "      <th></th>\n",
       "      <th></th>\n",
       "      <th></th>\n",
       "      <th></th>\n",
       "      <th></th>\n",
       "      <th></th>\n",
       "      <th></th>\n",
       "      <th></th>\n",
       "      <th></th>\n",
       "    </tr>\n",
       "  </thead>\n",
       "  <tbody>\n",
       "    <tr>\n",
       "      <th>False</th>\n",
       "      <td>0</td>\n",
       "      <td>1</td>\n",
       "      <td>1</td>\n",
       "      <td>0</td>\n",
       "      <td>0</td>\n",
       "      <td>0</td>\n",
       "      <td>0</td>\n",
       "      <td>0</td>\n",
       "      <td>0</td>\n",
       "      <td>1</td>\n",
       "      <td>1</td>\n",
       "      <td>0</td>\n",
       "      <td>1</td>\n",
       "      <td>320</td>\n",
       "    </tr>\n",
       "    <tr>\n",
       "      <th>True</th>\n",
       "      <td>7</td>\n",
       "      <td>0</td>\n",
       "      <td>6</td>\n",
       "      <td>19</td>\n",
       "      <td>26</td>\n",
       "      <td>34</td>\n",
       "      <td>17</td>\n",
       "      <td>8</td>\n",
       "      <td>10</td>\n",
       "      <td>1</td>\n",
       "      <td>2</td>\n",
       "      <td>1</td>\n",
       "      <td>0</td>\n",
       "      <td>18</td>\n",
       "    </tr>\n",
       "  </tbody>\n",
       "</table>\n",
       "</div>"
      ],
      "text/plain": [
       "L age    0.5  1  2.0  3.0  4.0  5.0  6.0  7.0  8.0  9.0  10.0  11.0  13     \n",
       "Species                                                                     \n",
       "False      0  1    1    0    0    0    0    0    0    1     1     0   1  320\n",
       "True       7  0    6   19   26   34   17    8   10    1     2     1   0   18"
      ]
     },
     "execution_count": 9,
     "metadata": {},
     "output_type": "execute_result"
    }
   ],
   "source": [
    "pd.crosstab(index=aging_data['Species']=='teres', columns=aging_data['L age'])"
   ]
  },
  {
   "cell_type": "markdown",
   "metadata": {},
   "source": [
    "##### L. teres\n",
    "#### Ager L: aged most mussels at 5 yrs old"
   ]
  },
  {
   "cell_type": "code",
   "execution_count": 10,
   "metadata": {},
   "outputs": [
    {
     "data": {
      "text/html": [
       "<div>\n",
       "<style scoped>\n",
       "    .dataframe tbody tr th:only-of-type {\n",
       "        vertical-align: middle;\n",
       "    }\n",
       "\n",
       "    .dataframe tbody tr th {\n",
       "        vertical-align: top;\n",
       "    }\n",
       "\n",
       "    .dataframe thead th {\n",
       "        text-align: right;\n",
       "    }\n",
       "</style>\n",
       "<table border=\"1\" class=\"dataframe\">\n",
       "  <thead>\n",
       "    <tr style=\"text-align: right;\">\n",
       "      <th>B age</th>\n",
       "      <th>1.0</th>\n",
       "      <th>2.0</th>\n",
       "      <th>3.0</th>\n",
       "      <th>4.0</th>\n",
       "      <th>5.0</th>\n",
       "      <th>6.0</th>\n",
       "      <th>7.0</th>\n",
       "      <th>8.0</th>\n",
       "      <th>9.0</th>\n",
       "      <th></th>\n",
       "      <th></th>\n",
       "      <th></th>\n",
       "    </tr>\n",
       "    <tr>\n",
       "      <th>Species</th>\n",
       "      <th></th>\n",
       "      <th></th>\n",
       "      <th></th>\n",
       "      <th></th>\n",
       "      <th></th>\n",
       "      <th></th>\n",
       "      <th></th>\n",
       "      <th></th>\n",
       "      <th></th>\n",
       "      <th></th>\n",
       "      <th></th>\n",
       "      <th></th>\n",
       "    </tr>\n",
       "  </thead>\n",
       "  <tbody>\n",
       "    <tr>\n",
       "      <th>False</th>\n",
       "      <td>0</td>\n",
       "      <td>0</td>\n",
       "      <td>0</td>\n",
       "      <td>0</td>\n",
       "      <td>0</td>\n",
       "      <td>0</td>\n",
       "      <td>0</td>\n",
       "      <td>0</td>\n",
       "      <td>0</td>\n",
       "      <td>325</td>\n",
       "      <td>0</td>\n",
       "      <td>0</td>\n",
       "    </tr>\n",
       "    <tr>\n",
       "      <th>True</th>\n",
       "      <td>9</td>\n",
       "      <td>12</td>\n",
       "      <td>25</td>\n",
       "      <td>27</td>\n",
       "      <td>21</td>\n",
       "      <td>12</td>\n",
       "      <td>10</td>\n",
       "      <td>5</td>\n",
       "      <td>2</td>\n",
       "      <td>24</td>\n",
       "      <td>1</td>\n",
       "      <td>1</td>\n",
       "    </tr>\n",
       "  </tbody>\n",
       "</table>\n",
       "</div>"
      ],
      "text/plain": [
       "B age    1.0  2.0  3.0  4.0  5.0  6.0  7.0  8.0  9.0       \\\n",
       "Species                                                     \n",
       "False      0    0    0    0    0    0    0    0    0  325   \n",
       "True       9   12   25   27   21   12   10    5    2   24   \n",
       "\n",
       "B age                                                                                                                                                                                                                                                                                               \\\n",
       "Species                                                                                                                                                                                                                                                                                              \n",
       "False                                                    0                                                                                                                                                                                                                                           \n",
       "True                                                     1                                                                                                                                                                                                                                           \n",
       "\n",
       "B age                                                                                                                                                                                                                                                                                                                                                                                                                                                                                                                                                                                                                                                                                                                                                                                                                                                                                                                                                                                                                                                                                                                                                                                                                                                                                                                                                                                  \n",
       "Species                                                                                                                                                                                                                                                                                                                                                                                                                                                                                                                                                                                                                                                                                                                                                                                                                                                                                                                                                                                                                                                                                                                                                                                                                                                                                                                                                                                \n",
       "False                                                    0                                                                                                                                                                                                                                                                                                                                                                                                                                                                                                                                                                                                                                                                                                                                                                                                                                                                                                                                                                                                                                                                                                                                                                                                                                                                                                                             \n",
       "True                                                     1                                                                                                                                                                                                                                                                                                                                                                                                                                                                                                                                                                                                                                                                                                                                                                                                                                                                                                                                                                                                                                                                                                                                                                                                                                                                                                                             "
      ]
     },
     "execution_count": 10,
     "metadata": {},
     "output_type": "execute_result"
    }
   ],
   "source": [
    "pd.crosstab(index=aging_data['Species']=='teres', columns=aging_data['B age'])"
   ]
  },
  {
   "cell_type": "markdown",
   "metadata": {},
   "source": [
    "##### L. teres\n",
    "#### Ager B: aged most mussels at 4 yrs old"
   ]
  },
  {
   "cell_type": "code",
   "execution_count": 11,
   "metadata": {},
   "outputs": [
    {
     "data": {
      "text/html": [
       "<div>\n",
       "<style scoped>\n",
       "    .dataframe tbody tr th:only-of-type {\n",
       "        vertical-align: middle;\n",
       "    }\n",
       "\n",
       "    .dataframe tbody tr th {\n",
       "        vertical-align: top;\n",
       "    }\n",
       "\n",
       "    .dataframe thead th {\n",
       "        text-align: right;\n",
       "    }\n",
       "</style>\n",
       "<table border=\"1\" class=\"dataframe\">\n",
       "  <thead>\n",
       "    <tr style=\"text-align: right;\">\n",
       "      <th>Site</th>\n",
       "      <th>Altair, TX</th>\n",
       "      <th>Bay City, TX</th>\n",
       "      <th>Bellville, TX</th>\n",
       "      <th>Gonzales, TX</th>\n",
       "      <th>Navasota, TX</th>\n",
       "      <th>Simonton, TX</th>\n",
       "      <th>Victoria, TX</th>\n",
       "    </tr>\n",
       "    <tr>\n",
       "      <th>Species</th>\n",
       "      <th></th>\n",
       "      <th></th>\n",
       "      <th></th>\n",
       "      <th></th>\n",
       "      <th></th>\n",
       "      <th></th>\n",
       "      <th></th>\n",
       "    </tr>\n",
       "  </thead>\n",
       "  <tbody>\n",
       "    <tr>\n",
       "      <th>False</th>\n",
       "      <td>100</td>\n",
       "      <td>0</td>\n",
       "      <td>5</td>\n",
       "      <td>101</td>\n",
       "      <td>19</td>\n",
       "      <td>0</td>\n",
       "      <td>100</td>\n",
       "    </tr>\n",
       "    <tr>\n",
       "      <th>True</th>\n",
       "      <td>13</td>\n",
       "      <td>67</td>\n",
       "      <td>19</td>\n",
       "      <td>0</td>\n",
       "      <td>0</td>\n",
       "      <td>50</td>\n",
       "      <td>0</td>\n",
       "    </tr>\n",
       "  </tbody>\n",
       "</table>\n",
       "</div>"
      ],
      "text/plain": [
       "Site     Altair, TX  Bay City, TX  Bellville, TX  Gonzales, TX  Navasota, TX  \\\n",
       "Species                                                                        \n",
       "False           100             0              5           101            19   \n",
       "True             13            67             19             0             0   \n",
       "\n",
       "Site     Simonton, TX  Victoria, TX  \n",
       "Species                              \n",
       "False               0           100  \n",
       "True               50             0  "
      ]
     },
     "execution_count": 11,
     "metadata": {},
     "output_type": "execute_result"
    }
   ],
   "source": [
    "pd.crosstab(index=aging_data['Species']=='teres', columns=aging_data['Site'])"
   ]
  },
  {
   "cell_type": "markdown",
   "metadata": {},
   "source": [
    "### Take a look at data (.head shows first 5 rows)"
   ]
  },
  {
   "cell_type": "code",
   "execution_count": 12,
   "metadata": {
    "scrolled": true
   },
   "outputs": [
    {
     "data": {
      "text/html": [
       "<div>\n",
       "<style scoped>\n",
       "    .dataframe tbody tr th:only-of-type {\n",
       "        vertical-align: middle;\n",
       "    }\n",
       "\n",
       "    .dataframe tbody tr th {\n",
       "        vertical-align: top;\n",
       "    }\n",
       "\n",
       "    .dataframe thead th {\n",
       "        text-align: right;\n",
       "    }\n",
       "</style>\n",
       "<table border=\"1\" class=\"dataframe\">\n",
       "  <thead>\n",
       "    <tr style=\"text-align: right;\">\n",
       "      <th></th>\n",
       "      <th>genus</th>\n",
       "      <th>species</th>\n",
       "      <th>id</th>\n",
       "      <th>code</th>\n",
       "      <th>site</th>\n",
       "      <th>river</th>\n",
       "      <th>basin</th>\n",
       "      <th>lat</th>\n",
       "      <th>long</th>\n",
       "      <th>date</th>\n",
       "      <th>...</th>\n",
       "      <th>status</th>\n",
       "      <th>Final Age</th>\n",
       "      <th>Age dif</th>\n",
       "      <th>Z age</th>\n",
       "      <th>L age</th>\n",
       "      <th>B age</th>\n",
       "      <th>K&amp;M Age</th>\n",
       "      <th>K age</th>\n",
       "      <th>M age</th>\n",
       "      <th>Notes</th>\n",
       "    </tr>\n",
       "  </thead>\n",
       "  <tbody>\n",
       "    <tr>\n",
       "      <th>0</th>\n",
       "      <td>Amblema</td>\n",
       "      <td>plicata</td>\n",
       "      <td>1</td>\n",
       "      <td>D</td>\n",
       "      <td>Gonzales, TX</td>\n",
       "      <td>Guadalupe</td>\n",
       "      <td>Guadalupe</td>\n",
       "      <td>29.493646°</td>\n",
       "      <td>-97.431293°</td>\n",
       "      <td>9/24/19</td>\n",
       "      <td>...</td>\n",
       "      <td>Alive</td>\n",
       "      <td>15</td>\n",
       "      <td></td>\n",
       "      <td></td>\n",
       "      <td></td>\n",
       "      <td></td>\n",
       "      <td>15</td>\n",
       "      <td>15</td>\n",
       "      <td>14</td>\n",
       "      <td></td>\n",
       "    </tr>\n",
       "    <tr>\n",
       "      <th>1</th>\n",
       "      <td>Amblema</td>\n",
       "      <td>plicata</td>\n",
       "      <td>2</td>\n",
       "      <td>D</td>\n",
       "      <td>Gonzales, TX</td>\n",
       "      <td>Guadalupe</td>\n",
       "      <td>Guadalupe</td>\n",
       "      <td>29.493646°</td>\n",
       "      <td>-97.431293°</td>\n",
       "      <td>9/24/19</td>\n",
       "      <td>...</td>\n",
       "      <td>Alive</td>\n",
       "      <td>16</td>\n",
       "      <td></td>\n",
       "      <td></td>\n",
       "      <td></td>\n",
       "      <td></td>\n",
       "      <td>16</td>\n",
       "      <td>16</td>\n",
       "      <td>12</td>\n",
       "      <td></td>\n",
       "    </tr>\n",
       "    <tr>\n",
       "      <th>2</th>\n",
       "      <td>Amblema</td>\n",
       "      <td>plicata</td>\n",
       "      <td>3</td>\n",
       "      <td>D</td>\n",
       "      <td>Gonzales, TX</td>\n",
       "      <td>Guadalupe</td>\n",
       "      <td>Guadalupe</td>\n",
       "      <td>29.493646°</td>\n",
       "      <td>-97.431293°</td>\n",
       "      <td>9/24/19</td>\n",
       "      <td>...</td>\n",
       "      <td>Alive</td>\n",
       "      <td>17</td>\n",
       "      <td></td>\n",
       "      <td></td>\n",
       "      <td></td>\n",
       "      <td></td>\n",
       "      <td>17</td>\n",
       "      <td>17</td>\n",
       "      <td>9</td>\n",
       "      <td></td>\n",
       "    </tr>\n",
       "    <tr>\n",
       "      <th>3</th>\n",
       "      <td>Amblema</td>\n",
       "      <td>plicata</td>\n",
       "      <td>4</td>\n",
       "      <td>D</td>\n",
       "      <td>Gonzales, TX</td>\n",
       "      <td>Guadalupe</td>\n",
       "      <td>Guadalupe</td>\n",
       "      <td>29.493646°</td>\n",
       "      <td>-97.431293°</td>\n",
       "      <td>9/24/19</td>\n",
       "      <td>...</td>\n",
       "      <td>Alive</td>\n",
       "      <td>15</td>\n",
       "      <td></td>\n",
       "      <td></td>\n",
       "      <td></td>\n",
       "      <td></td>\n",
       "      <td>15</td>\n",
       "      <td>13</td>\n",
       "      <td>12</td>\n",
       "      <td></td>\n",
       "    </tr>\n",
       "    <tr>\n",
       "      <th>4</th>\n",
       "      <td>Amblema</td>\n",
       "      <td>plicata</td>\n",
       "      <td>5</td>\n",
       "      <td>D</td>\n",
       "      <td>Gonzales, TX</td>\n",
       "      <td>Guadalupe</td>\n",
       "      <td>Guadalupe</td>\n",
       "      <td>29.493646°</td>\n",
       "      <td>-97.431293°</td>\n",
       "      <td>9/24/19</td>\n",
       "      <td>...</td>\n",
       "      <td>Alive</td>\n",
       "      <td>14</td>\n",
       "      <td></td>\n",
       "      <td></td>\n",
       "      <td></td>\n",
       "      <td></td>\n",
       "      <td>14</td>\n",
       "      <td>14</td>\n",
       "      <td>12</td>\n",
       "      <td></td>\n",
       "    </tr>\n",
       "  </tbody>\n",
       "</table>\n",
       "<p>5 rows × 21 columns</p>\n",
       "</div>"
      ],
      "text/plain": [
       "     genus  species  id code          site      river      basin         lat  \\\n",
       "0  Amblema  plicata   1    D  Gonzales, TX  Guadalupe  Guadalupe  29.493646°   \n",
       "1  Amblema  plicata   2    D  Gonzales, TX  Guadalupe  Guadalupe  29.493646°   \n",
       "2  Amblema  plicata   3    D  Gonzales, TX  Guadalupe  Guadalupe  29.493646°   \n",
       "3  Amblema  plicata   4    D  Gonzales, TX  Guadalupe  Guadalupe  29.493646°   \n",
       "4  Amblema  plicata   5    D  Gonzales, TX  Guadalupe  Guadalupe  29.493646°   \n",
       "\n",
       "          long     date  ...  status Final Age Age dif Z age L age B age  \\\n",
       "0  -97.431293°  9/24/19  ...   Alive        15                             \n",
       "1  -97.431293°  9/24/19  ...   Alive        16                             \n",
       "2  -97.431293°  9/24/19  ...   Alive        17                             \n",
       "3  -97.431293°  9/24/19  ...   Alive        15                             \n",
       "4  -97.431293°  9/24/19  ...   Alive        14                             \n",
       "\n",
       "  K&M Age K age M age Notes  \n",
       "0      15    15    14        \n",
       "1      16    16    12        \n",
       "2      17    17     9        \n",
       "3      15    13    12        \n",
       "4      14    14    12        \n",
       "\n",
       "[5 rows x 21 columns]"
      ]
     },
     "execution_count": 12,
     "metadata": {},
     "output_type": "execute_result"
    }
   ],
   "source": [
    "df_rename.head()"
   ]
  },
  {
   "cell_type": "markdown",
   "metadata": {},
   "source": [
    "## Clean data\n",
    "### Drop some columns"
   ]
  },
  {
   "cell_type": "code",
   "execution_count": 13,
   "metadata": {},
   "outputs": [
    {
     "data": {
      "text/html": [
       "<div>\n",
       "<style scoped>\n",
       "    .dataframe tbody tr th:only-of-type {\n",
       "        vertical-align: middle;\n",
       "    }\n",
       "\n",
       "    .dataframe tbody tr th {\n",
       "        vertical-align: top;\n",
       "    }\n",
       "\n",
       "    .dataframe thead th {\n",
       "        text-align: right;\n",
       "    }\n",
       "</style>\n",
       "<table border=\"1\" class=\"dataframe\">\n",
       "  <thead>\n",
       "    <tr style=\"text-align: right;\">\n",
       "      <th></th>\n",
       "      <th>genus</th>\n",
       "      <th>species</th>\n",
       "      <th>id</th>\n",
       "      <th>code</th>\n",
       "      <th>site</th>\n",
       "      <th>river</th>\n",
       "      <th>basin</th>\n",
       "      <th>lat</th>\n",
       "      <th>long</th>\n",
       "      <th>date</th>\n",
       "      <th>Length (mm)</th>\n",
       "      <th>status</th>\n",
       "      <th>Z age</th>\n",
       "      <th>L age</th>\n",
       "      <th>B age</th>\n",
       "    </tr>\n",
       "  </thead>\n",
       "  <tbody>\n",
       "    <tr>\n",
       "      <th>0</th>\n",
       "      <td>Amblema</td>\n",
       "      <td>plicata</td>\n",
       "      <td>1</td>\n",
       "      <td>D</td>\n",
       "      <td>Gonzales, TX</td>\n",
       "      <td>Guadalupe</td>\n",
       "      <td>Guadalupe</td>\n",
       "      <td>29.493646°</td>\n",
       "      <td>-97.431293°</td>\n",
       "      <td>9/24/19</td>\n",
       "      <td>74.0</td>\n",
       "      <td>Alive</td>\n",
       "      <td></td>\n",
       "      <td></td>\n",
       "      <td></td>\n",
       "    </tr>\n",
       "    <tr>\n",
       "      <th>1</th>\n",
       "      <td>Amblema</td>\n",
       "      <td>plicata</td>\n",
       "      <td>2</td>\n",
       "      <td>D</td>\n",
       "      <td>Gonzales, TX</td>\n",
       "      <td>Guadalupe</td>\n",
       "      <td>Guadalupe</td>\n",
       "      <td>29.493646°</td>\n",
       "      <td>-97.431293°</td>\n",
       "      <td>9/24/19</td>\n",
       "      <td>72.0</td>\n",
       "      <td>Alive</td>\n",
       "      <td></td>\n",
       "      <td></td>\n",
       "      <td></td>\n",
       "    </tr>\n",
       "    <tr>\n",
       "      <th>2</th>\n",
       "      <td>Amblema</td>\n",
       "      <td>plicata</td>\n",
       "      <td>3</td>\n",
       "      <td>D</td>\n",
       "      <td>Gonzales, TX</td>\n",
       "      <td>Guadalupe</td>\n",
       "      <td>Guadalupe</td>\n",
       "      <td>29.493646°</td>\n",
       "      <td>-97.431293°</td>\n",
       "      <td>9/24/19</td>\n",
       "      <td>76.0</td>\n",
       "      <td>Alive</td>\n",
       "      <td></td>\n",
       "      <td></td>\n",
       "      <td></td>\n",
       "    </tr>\n",
       "    <tr>\n",
       "      <th>3</th>\n",
       "      <td>Amblema</td>\n",
       "      <td>plicata</td>\n",
       "      <td>4</td>\n",
       "      <td>D</td>\n",
       "      <td>Gonzales, TX</td>\n",
       "      <td>Guadalupe</td>\n",
       "      <td>Guadalupe</td>\n",
       "      <td>29.493646°</td>\n",
       "      <td>-97.431293°</td>\n",
       "      <td>9/24/19</td>\n",
       "      <td>76.0</td>\n",
       "      <td>Alive</td>\n",
       "      <td></td>\n",
       "      <td></td>\n",
       "      <td></td>\n",
       "    </tr>\n",
       "    <tr>\n",
       "      <th>4</th>\n",
       "      <td>Amblema</td>\n",
       "      <td>plicata</td>\n",
       "      <td>5</td>\n",
       "      <td>D</td>\n",
       "      <td>Gonzales, TX</td>\n",
       "      <td>Guadalupe</td>\n",
       "      <td>Guadalupe</td>\n",
       "      <td>29.493646°</td>\n",
       "      <td>-97.431293°</td>\n",
       "      <td>9/24/19</td>\n",
       "      <td>77.0</td>\n",
       "      <td>Alive</td>\n",
       "      <td></td>\n",
       "      <td></td>\n",
       "      <td></td>\n",
       "    </tr>\n",
       "  </tbody>\n",
       "</table>\n",
       "</div>"
      ],
      "text/plain": [
       "     genus  species  id code          site      river      basin         lat  \\\n",
       "0  Amblema  plicata   1    D  Gonzales, TX  Guadalupe  Guadalupe  29.493646°   \n",
       "1  Amblema  plicata   2    D  Gonzales, TX  Guadalupe  Guadalupe  29.493646°   \n",
       "2  Amblema  plicata   3    D  Gonzales, TX  Guadalupe  Guadalupe  29.493646°   \n",
       "3  Amblema  plicata   4    D  Gonzales, TX  Guadalupe  Guadalupe  29.493646°   \n",
       "4  Amblema  plicata   5    D  Gonzales, TX  Guadalupe  Guadalupe  29.493646°   \n",
       "\n",
       "          long     date  Length (mm) status Z age L age B age  \n",
       "0  -97.431293°  9/24/19         74.0  Alive                    \n",
       "1  -97.431293°  9/24/19         72.0  Alive                    \n",
       "2  -97.431293°  9/24/19         76.0  Alive                    \n",
       "3  -97.431293°  9/24/19         76.0  Alive                    \n",
       "4  -97.431293°  9/24/19         77.0  Alive                    "
      ]
     },
     "execution_count": 13,
     "metadata": {},
     "output_type": "execute_result"
    }
   ],
   "source": [
    "drop_df=df_rename.drop(columns=['Final Age', 'Age dif', 'K&M Age', 'K age', 'M age', 'Notes'])\n",
    "drop_df.head()"
   ]
  },
  {
   "cell_type": "markdown",
   "metadata": {},
   "source": [
    "### Select teres data (b/c X, L and B have aged)"
   ]
  },
  {
   "cell_type": "code",
   "execution_count": 14,
   "metadata": {
    "scrolled": true
   },
   "outputs": [
    {
     "data": {
      "text/html": [
       "<div>\n",
       "<style scoped>\n",
       "    .dataframe tbody tr th:only-of-type {\n",
       "        vertical-align: middle;\n",
       "    }\n",
       "\n",
       "    .dataframe tbody tr th {\n",
       "        vertical-align: top;\n",
       "    }\n",
       "\n",
       "    .dataframe thead th {\n",
       "        text-align: right;\n",
       "    }\n",
       "</style>\n",
       "<table border=\"1\" class=\"dataframe\">\n",
       "  <thead>\n",
       "    <tr style=\"text-align: right;\">\n",
       "      <th></th>\n",
       "      <th>genus</th>\n",
       "      <th>species</th>\n",
       "      <th>id</th>\n",
       "      <th>code</th>\n",
       "      <th>site</th>\n",
       "      <th>river</th>\n",
       "      <th>basin</th>\n",
       "      <th>lat</th>\n",
       "      <th>long</th>\n",
       "      <th>date</th>\n",
       "      <th>Length (mm)</th>\n",
       "      <th>status</th>\n",
       "      <th>Z age</th>\n",
       "      <th>L age</th>\n",
       "      <th>B age</th>\n",
       "    </tr>\n",
       "  </thead>\n",
       "  <tbody>\n",
       "    <tr>\n",
       "      <th>295</th>\n",
       "      <td>Lampsilis</td>\n",
       "      <td>teres</td>\n",
       "      <td>297</td>\n",
       "      <td>E</td>\n",
       "      <td>Altair, TX</td>\n",
       "      <td>Colorado</td>\n",
       "      <td>Colorado</td>\n",
       "      <td>29.595299°</td>\n",
       "      <td>-96.453229°</td>\n",
       "      <td>10/3/19</td>\n",
       "      <td>128.0</td>\n",
       "      <td>Alive</td>\n",
       "      <td>6</td>\n",
       "      <td>6</td>\n",
       "      <td></td>\n",
       "    </tr>\n",
       "    <tr>\n",
       "      <th>296</th>\n",
       "      <td>Lampsilis</td>\n",
       "      <td>teres</td>\n",
       "      <td>298</td>\n",
       "      <td>E</td>\n",
       "      <td>Altair, TX</td>\n",
       "      <td>Colorado</td>\n",
       "      <td>Colorado</td>\n",
       "      <td>29.595299°</td>\n",
       "      <td>-96.453229°</td>\n",
       "      <td>10/3/19</td>\n",
       "      <td>95.0</td>\n",
       "      <td>Alive</td>\n",
       "      <td></td>\n",
       "      <td></td>\n",
       "      <td></td>\n",
       "    </tr>\n",
       "    <tr>\n",
       "      <th>297</th>\n",
       "      <td>Lampsilis</td>\n",
       "      <td>teres</td>\n",
       "      <td>299</td>\n",
       "      <td>E</td>\n",
       "      <td>Altair, TX</td>\n",
       "      <td>Colorado</td>\n",
       "      <td>Colorado</td>\n",
       "      <td>29.595299°</td>\n",
       "      <td>-96.453229°</td>\n",
       "      <td>10/3/19</td>\n",
       "      <td>81.0</td>\n",
       "      <td>Alive</td>\n",
       "      <td></td>\n",
       "      <td></td>\n",
       "      <td></td>\n",
       "    </tr>\n",
       "    <tr>\n",
       "      <th>298</th>\n",
       "      <td>Lampsilis</td>\n",
       "      <td>teres</td>\n",
       "      <td>300</td>\n",
       "      <td>E</td>\n",
       "      <td>Altair, TX</td>\n",
       "      <td>Colorado</td>\n",
       "      <td>Colorado</td>\n",
       "      <td>29.595299°</td>\n",
       "      <td>-96.453229°</td>\n",
       "      <td>10/3/19</td>\n",
       "      <td>125.0</td>\n",
       "      <td>Alive</td>\n",
       "      <td>5</td>\n",
       "      <td>5</td>\n",
       "      <td></td>\n",
       "    </tr>\n",
       "    <tr>\n",
       "      <th>299</th>\n",
       "      <td>Lampsilis</td>\n",
       "      <td>teres</td>\n",
       "      <td>301</td>\n",
       "      <td>E</td>\n",
       "      <td>Altair, TX</td>\n",
       "      <td>Colorado</td>\n",
       "      <td>Colorado</td>\n",
       "      <td>29.595299°</td>\n",
       "      <td>-96.453229°</td>\n",
       "      <td>10/3/19</td>\n",
       "      <td>115.0</td>\n",
       "      <td>Alive</td>\n",
       "      <td></td>\n",
       "      <td></td>\n",
       "      <td></td>\n",
       "    </tr>\n",
       "    <tr>\n",
       "      <th>...</th>\n",
       "      <td>...</td>\n",
       "      <td>...</td>\n",
       "      <td>...</td>\n",
       "      <td>...</td>\n",
       "      <td>...</td>\n",
       "      <td>...</td>\n",
       "      <td>...</td>\n",
       "      <td>...</td>\n",
       "      <td>...</td>\n",
       "      <td>...</td>\n",
       "      <td>...</td>\n",
       "      <td>...</td>\n",
       "      <td>...</td>\n",
       "      <td>...</td>\n",
       "      <td>...</td>\n",
       "    </tr>\n",
       "    <tr>\n",
       "      <th>469</th>\n",
       "      <td>Lampsilis</td>\n",
       "      <td>teres</td>\n",
       "      <td>471</td>\n",
       "      <td>E</td>\n",
       "      <td>Bellville, TX</td>\n",
       "      <td>Brazos</td>\n",
       "      <td>Brazos</td>\n",
       "      <td>29.939875°</td>\n",
       "      <td>-96.129332°</td>\n",
       "      <td>8/28/20</td>\n",
       "      <td>32.5</td>\n",
       "      <td>Alive</td>\n",
       "      <td>0.5</td>\n",
       "      <td>0.5</td>\n",
       "      <td>1</td>\n",
       "    </tr>\n",
       "    <tr>\n",
       "      <th>470</th>\n",
       "      <td>Lampsilis</td>\n",
       "      <td>teres</td>\n",
       "      <td>472</td>\n",
       "      <td>E</td>\n",
       "      <td>Bellville, TX</td>\n",
       "      <td>Brazos</td>\n",
       "      <td>Brazos</td>\n",
       "      <td>29.939875°</td>\n",
       "      <td>-96.129332°</td>\n",
       "      <td>8/28/20</td>\n",
       "      <td>35.5</td>\n",
       "      <td>Alive</td>\n",
       "      <td>0.5</td>\n",
       "      <td>0.5</td>\n",
       "      <td>1</td>\n",
       "    </tr>\n",
       "    <tr>\n",
       "      <th>471</th>\n",
       "      <td>Lampsilis</td>\n",
       "      <td>teres</td>\n",
       "      <td>473</td>\n",
       "      <td>E</td>\n",
       "      <td>Bellville, TX</td>\n",
       "      <td>Brazos</td>\n",
       "      <td>Brazos</td>\n",
       "      <td>29.939875°</td>\n",
       "      <td>-96.129332°</td>\n",
       "      <td>8/28/20</td>\n",
       "      <td>33.0</td>\n",
       "      <td>Alive</td>\n",
       "      <td>0.5</td>\n",
       "      <td>0.5</td>\n",
       "      <td>1</td>\n",
       "    </tr>\n",
       "    <tr>\n",
       "      <th>472</th>\n",
       "      <td>Lampsilis</td>\n",
       "      <td>teres</td>\n",
       "      <td>474</td>\n",
       "      <td>E</td>\n",
       "      <td>Bellville, TX</td>\n",
       "      <td>Brazos</td>\n",
       "      <td>Brazos</td>\n",
       "      <td>29.939875°</td>\n",
       "      <td>-96.129332°</td>\n",
       "      <td>8/28/20</td>\n",
       "      <td>19.0</td>\n",
       "      <td>Alive</td>\n",
       "      <td>0.5</td>\n",
       "      <td>0.5</td>\n",
       "      <td>1</td>\n",
       "    </tr>\n",
       "    <tr>\n",
       "      <th>473</th>\n",
       "      <td>Lampsilis</td>\n",
       "      <td>teres</td>\n",
       "      <td>475</td>\n",
       "      <td>E</td>\n",
       "      <td>Bay City, TX</td>\n",
       "      <td>Colorado</td>\n",
       "      <td>Colorado</td>\n",
       "      <td>29.126034°</td>\n",
       "      <td>-96.044864°</td>\n",
       "      <td>5/5/20</td>\n",
       "      <td>79.0</td>\n",
       "      <td>Alive</td>\n",
       "      <td>2</td>\n",
       "      <td>6</td>\n",
       "      <td>2</td>\n",
       "    </tr>\n",
       "  </tbody>\n",
       "</table>\n",
       "<p>149 rows × 15 columns</p>\n",
       "</div>"
      ],
      "text/plain": [
       "         genus species   id code           site     river     basin  \\\n",
       "295  Lampsilis   teres  297    E     Altair, TX  Colorado  Colorado   \n",
       "296  Lampsilis   teres  298    E     Altair, TX  Colorado  Colorado   \n",
       "297  Lampsilis   teres  299    E     Altair, TX  Colorado  Colorado   \n",
       "298  Lampsilis   teres  300    E     Altair, TX  Colorado  Colorado   \n",
       "299  Lampsilis   teres  301    E     Altair, TX  Colorado  Colorado   \n",
       "..         ...     ...  ...  ...            ...       ...       ...   \n",
       "469  Lampsilis   teres  471    E  Bellville, TX    Brazos    Brazos   \n",
       "470  Lampsilis   teres  472    E  Bellville, TX    Brazos    Brazos   \n",
       "471  Lampsilis   teres  473    E  Bellville, TX    Brazos    Brazos   \n",
       "472  Lampsilis   teres  474    E  Bellville, TX    Brazos    Brazos   \n",
       "473  Lampsilis   teres  475    E   Bay City, TX  Colorado  Colorado   \n",
       "\n",
       "            lat         long     date  Length (mm) status Z age L age B age  \n",
       "295  29.595299°  -96.453229°  10/3/19        128.0  Alive     6     6        \n",
       "296  29.595299°  -96.453229°  10/3/19         95.0  Alive                    \n",
       "297  29.595299°  -96.453229°  10/3/19         81.0  Alive                    \n",
       "298  29.595299°  -96.453229°  10/3/19        125.0  Alive     5     5        \n",
       "299  29.595299°  -96.453229°  10/3/19        115.0  Alive                    \n",
       "..          ...          ...      ...          ...    ...   ...   ...   ...  \n",
       "469  29.939875°  -96.129332°  8/28/20         32.5  Alive   0.5   0.5     1  \n",
       "470  29.939875°  -96.129332°  8/28/20         35.5  Alive   0.5   0.5     1  \n",
       "471  29.939875°  -96.129332°  8/28/20         33.0  Alive   0.5   0.5     1  \n",
       "472  29.939875°  -96.129332°  8/28/20         19.0  Alive   0.5   0.5     1  \n",
       "473  29.126034°  -96.044864°   5/5/20         79.0  Alive     2     6     2  \n",
       "\n",
       "[149 rows x 15 columns]"
      ]
     },
     "execution_count": 14,
     "metadata": {},
     "output_type": "execute_result"
    }
   ],
   "source": [
    "teres_df = drop_df.loc[drop_df[\"species\"] == \"teres\"]\n",
    "teres_df"
   ]
  },
  {
   "cell_type": "markdown",
   "metadata": {},
   "source": [
    "### Drop NaNs"
   ]
  },
  {
   "cell_type": "code",
   "execution_count": 15,
   "metadata": {},
   "outputs": [
    {
     "name": "stderr",
     "output_type": "stream",
     "text": [
      "/Users/biancahernandez/opt/anaconda2/envs/mussel_aging/lib/python3.8/site-packages/pandas/core/frame.py:4379: SettingWithCopyWarning:\n",
      "\n",
      "\n",
      "A value is trying to be set on a copy of a slice from a DataFrame\n",
      "\n",
      "See the caveats in the documentation: https://pandas.pydata.org/pandas-docs/stable/user_guide/indexing.html#returning-a-view-versus-a-copy\n",
      "\n"
     ]
    },
    {
     "data": {
      "text/html": [
       "<div>\n",
       "<style scoped>\n",
       "    .dataframe tbody tr th:only-of-type {\n",
       "        vertical-align: middle;\n",
       "    }\n",
       "\n",
       "    .dataframe tbody tr th {\n",
       "        vertical-align: top;\n",
       "    }\n",
       "\n",
       "    .dataframe thead th {\n",
       "        text-align: right;\n",
       "    }\n",
       "</style>\n",
       "<table border=\"1\" class=\"dataframe\">\n",
       "  <thead>\n",
       "    <tr style=\"text-align: right;\">\n",
       "      <th></th>\n",
       "      <th>genus</th>\n",
       "      <th>species</th>\n",
       "      <th>id</th>\n",
       "      <th>code</th>\n",
       "      <th>site</th>\n",
       "      <th>river</th>\n",
       "      <th>basin</th>\n",
       "      <th>lat</th>\n",
       "      <th>long</th>\n",
       "      <th>date</th>\n",
       "      <th>Length (mm)</th>\n",
       "      <th>status</th>\n",
       "      <th>Z age</th>\n",
       "      <th>L age</th>\n",
       "      <th>B age</th>\n",
       "    </tr>\n",
       "  </thead>\n",
       "  <tbody>\n",
       "    <tr>\n",
       "      <th>334</th>\n",
       "      <td>Lampsilis</td>\n",
       "      <td>teres</td>\n",
       "      <td>336</td>\n",
       "      <td>E</td>\n",
       "      <td>Bay City, TX</td>\n",
       "      <td>Colorado</td>\n",
       "      <td>Colorado</td>\n",
       "      <td>29.126034°</td>\n",
       "      <td>-96.044864°</td>\n",
       "      <td>5/5/20</td>\n",
       "      <td>139.0</td>\n",
       "      <td>Alive</td>\n",
       "      <td>5.0</td>\n",
       "      <td>5.0</td>\n",
       "      <td>5</td>\n",
       "    </tr>\n",
       "    <tr>\n",
       "      <th>335</th>\n",
       "      <td>Lampsilis</td>\n",
       "      <td>teres</td>\n",
       "      <td>337</td>\n",
       "      <td>E</td>\n",
       "      <td>Bay City, TX</td>\n",
       "      <td>Colorado</td>\n",
       "      <td>Colorado</td>\n",
       "      <td>29.126034°</td>\n",
       "      <td>-96.044864°</td>\n",
       "      <td>5/5/20</td>\n",
       "      <td>121.0</td>\n",
       "      <td>Alive</td>\n",
       "      <td>6.0</td>\n",
       "      <td>11.0</td>\n",
       "      <td>6</td>\n",
       "    </tr>\n",
       "    <tr>\n",
       "      <th>337</th>\n",
       "      <td>Lampsilis</td>\n",
       "      <td>teres</td>\n",
       "      <td>339</td>\n",
       "      <td>E</td>\n",
       "      <td>Bay City, TX</td>\n",
       "      <td>Colorado</td>\n",
       "      <td>Colorado</td>\n",
       "      <td>29.126034°</td>\n",
       "      <td>-96.044864°</td>\n",
       "      <td>5/5/20</td>\n",
       "      <td>107.0</td>\n",
       "      <td>Alive</td>\n",
       "      <td>4.0</td>\n",
       "      <td>5.0</td>\n",
       "      <td>4</td>\n",
       "    </tr>\n",
       "    <tr>\n",
       "      <th>339</th>\n",
       "      <td>Lampsilis</td>\n",
       "      <td>teres</td>\n",
       "      <td>341</td>\n",
       "      <td>E</td>\n",
       "      <td>Bay City, TX</td>\n",
       "      <td>Colorado</td>\n",
       "      <td>Colorado</td>\n",
       "      <td>29.126034°</td>\n",
       "      <td>-96.044864°</td>\n",
       "      <td>5/5/20</td>\n",
       "      <td>114.0</td>\n",
       "      <td>Alive</td>\n",
       "      <td>4.0</td>\n",
       "      <td>4.0</td>\n",
       "      <td>5</td>\n",
       "    </tr>\n",
       "    <tr>\n",
       "      <th>340</th>\n",
       "      <td>Lampsilis</td>\n",
       "      <td>teres</td>\n",
       "      <td>342</td>\n",
       "      <td>E</td>\n",
       "      <td>Bay City, TX</td>\n",
       "      <td>Colorado</td>\n",
       "      <td>Colorado</td>\n",
       "      <td>29.126034°</td>\n",
       "      <td>-96.044864°</td>\n",
       "      <td>5/5/20</td>\n",
       "      <td>74.0</td>\n",
       "      <td>Alive</td>\n",
       "      <td>1.0</td>\n",
       "      <td>2.0</td>\n",
       "      <td>2</td>\n",
       "    </tr>\n",
       "    <tr>\n",
       "      <th>...</th>\n",
       "      <td>...</td>\n",
       "      <td>...</td>\n",
       "      <td>...</td>\n",
       "      <td>...</td>\n",
       "      <td>...</td>\n",
       "      <td>...</td>\n",
       "      <td>...</td>\n",
       "      <td>...</td>\n",
       "      <td>...</td>\n",
       "      <td>...</td>\n",
       "      <td>...</td>\n",
       "      <td>...</td>\n",
       "      <td>...</td>\n",
       "      <td>...</td>\n",
       "      <td>...</td>\n",
       "    </tr>\n",
       "    <tr>\n",
       "      <th>469</th>\n",
       "      <td>Lampsilis</td>\n",
       "      <td>teres</td>\n",
       "      <td>471</td>\n",
       "      <td>E</td>\n",
       "      <td>Bellville, TX</td>\n",
       "      <td>Brazos</td>\n",
       "      <td>Brazos</td>\n",
       "      <td>29.939875°</td>\n",
       "      <td>-96.129332°</td>\n",
       "      <td>8/28/20</td>\n",
       "      <td>32.5</td>\n",
       "      <td>Alive</td>\n",
       "      <td>0.5</td>\n",
       "      <td>0.5</td>\n",
       "      <td>1</td>\n",
       "    </tr>\n",
       "    <tr>\n",
       "      <th>470</th>\n",
       "      <td>Lampsilis</td>\n",
       "      <td>teres</td>\n",
       "      <td>472</td>\n",
       "      <td>E</td>\n",
       "      <td>Bellville, TX</td>\n",
       "      <td>Brazos</td>\n",
       "      <td>Brazos</td>\n",
       "      <td>29.939875°</td>\n",
       "      <td>-96.129332°</td>\n",
       "      <td>8/28/20</td>\n",
       "      <td>35.5</td>\n",
       "      <td>Alive</td>\n",
       "      <td>0.5</td>\n",
       "      <td>0.5</td>\n",
       "      <td>1</td>\n",
       "    </tr>\n",
       "    <tr>\n",
       "      <th>471</th>\n",
       "      <td>Lampsilis</td>\n",
       "      <td>teres</td>\n",
       "      <td>473</td>\n",
       "      <td>E</td>\n",
       "      <td>Bellville, TX</td>\n",
       "      <td>Brazos</td>\n",
       "      <td>Brazos</td>\n",
       "      <td>29.939875°</td>\n",
       "      <td>-96.129332°</td>\n",
       "      <td>8/28/20</td>\n",
       "      <td>33.0</td>\n",
       "      <td>Alive</td>\n",
       "      <td>0.5</td>\n",
       "      <td>0.5</td>\n",
       "      <td>1</td>\n",
       "    </tr>\n",
       "    <tr>\n",
       "      <th>472</th>\n",
       "      <td>Lampsilis</td>\n",
       "      <td>teres</td>\n",
       "      <td>474</td>\n",
       "      <td>E</td>\n",
       "      <td>Bellville, TX</td>\n",
       "      <td>Brazos</td>\n",
       "      <td>Brazos</td>\n",
       "      <td>29.939875°</td>\n",
       "      <td>-96.129332°</td>\n",
       "      <td>8/28/20</td>\n",
       "      <td>19.0</td>\n",
       "      <td>Alive</td>\n",
       "      <td>0.5</td>\n",
       "      <td>0.5</td>\n",
       "      <td>1</td>\n",
       "    </tr>\n",
       "    <tr>\n",
       "      <th>473</th>\n",
       "      <td>Lampsilis</td>\n",
       "      <td>teres</td>\n",
       "      <td>475</td>\n",
       "      <td>E</td>\n",
       "      <td>Bay City, TX</td>\n",
       "      <td>Colorado</td>\n",
       "      <td>Colorado</td>\n",
       "      <td>29.126034°</td>\n",
       "      <td>-96.044864°</td>\n",
       "      <td>5/5/20</td>\n",
       "      <td>79.0</td>\n",
       "      <td>Alive</td>\n",
       "      <td>2.0</td>\n",
       "      <td>6.0</td>\n",
       "      <td>2</td>\n",
       "    </tr>\n",
       "  </tbody>\n",
       "</table>\n",
       "<p>125 rows × 15 columns</p>\n",
       "</div>"
      ],
      "text/plain": [
       "         genus species   id code           site     river     basin  \\\n",
       "334  Lampsilis   teres  336    E   Bay City, TX  Colorado  Colorado   \n",
       "335  Lampsilis   teres  337    E   Bay City, TX  Colorado  Colorado   \n",
       "337  Lampsilis   teres  339    E   Bay City, TX  Colorado  Colorado   \n",
       "339  Lampsilis   teres  341    E   Bay City, TX  Colorado  Colorado   \n",
       "340  Lampsilis   teres  342    E   Bay City, TX  Colorado  Colorado   \n",
       "..         ...     ...  ...  ...            ...       ...       ...   \n",
       "469  Lampsilis   teres  471    E  Bellville, TX    Brazos    Brazos   \n",
       "470  Lampsilis   teres  472    E  Bellville, TX    Brazos    Brazos   \n",
       "471  Lampsilis   teres  473    E  Bellville, TX    Brazos    Brazos   \n",
       "472  Lampsilis   teres  474    E  Bellville, TX    Brazos    Brazos   \n",
       "473  Lampsilis   teres  475    E   Bay City, TX  Colorado  Colorado   \n",
       "\n",
       "            lat         long     date  Length (mm) status  Z age  L age B age  \n",
       "334  29.126034°  -96.044864°   5/5/20        139.0  Alive    5.0    5.0     5  \n",
       "335  29.126034°  -96.044864°   5/5/20        121.0  Alive    6.0   11.0     6  \n",
       "337  29.126034°  -96.044864°   5/5/20        107.0  Alive    4.0    5.0     4  \n",
       "339  29.126034°  -96.044864°   5/5/20        114.0  Alive    4.0    4.0     5  \n",
       "340  29.126034°  -96.044864°   5/5/20         74.0  Alive    1.0    2.0     2  \n",
       "..          ...          ...      ...          ...    ...    ...    ...   ...  \n",
       "469  29.939875°  -96.129332°  8/28/20         32.5  Alive    0.5    0.5     1  \n",
       "470  29.939875°  -96.129332°  8/28/20         35.5  Alive    0.5    0.5     1  \n",
       "471  29.939875°  -96.129332°  8/28/20         33.0  Alive    0.5    0.5     1  \n",
       "472  29.939875°  -96.129332°  8/28/20         19.0  Alive    0.5    0.5     1  \n",
       "473  29.126034°  -96.044864°   5/5/20         79.0  Alive    2.0    6.0     2  \n",
       "\n",
       "[125 rows x 15 columns]"
      ]
     },
     "execution_count": 15,
     "metadata": {},
     "output_type": "execute_result"
    }
   ],
   "source": [
    "nan_value=float(\"NaN\")\n",
    "teres_df.replace(\"\", nan_value, inplace=True)\n",
    "clean_teres=teres_df.dropna()\n",
    "clean_teres"
   ]
  },
  {
   "cell_type": "code",
   "execution_count": 16,
   "metadata": {},
   "outputs": [
    {
     "data": {
      "text/plain": [
       "Bay City, TX     57\n",
       "Simonton, TX     49\n",
       "Bellville, TX    19\n",
       "Name: site, dtype: int64"
      ]
     },
     "execution_count": 16,
     "metadata": {},
     "output_type": "execute_result"
    }
   ],
   "source": [
    "clean_teres['site'].value_counts()"
   ]
  },
  {
   "cell_type": "code",
   "execution_count": 17,
   "metadata": {},
   "outputs": [
    {
     "data": {
      "text/plain": [
       "teres    125\n",
       "Name: species, dtype: int64"
      ]
     },
     "execution_count": 17,
     "metadata": {},
     "output_type": "execute_result"
    }
   ],
   "source": [
    "clean_teres['species'].value_counts()"
   ]
  },
  {
   "cell_type": "markdown",
   "metadata": {},
   "source": [
    "### Download dependencies for figures"
   ]
  },
  {
   "cell_type": "code",
   "execution_count": 18,
   "metadata": {},
   "outputs": [],
   "source": [
    "import plotly.graph_objects as go\n",
    "import plotly.express as px\n",
    "import seaborn as sns\n",
    "import matplotlib.pyplot as plt\n",
    "import plotly.figure_factory as ff"
   ]
  },
  {
   "cell_type": "code",
   "execution_count": 55,
   "metadata": {
    "scrolled": true
   },
   "outputs": [
    {
     "data": {
      "application/vnd.plotly.v1+json": {
       "config": {
        "plotlyServerURL": "https://plot.ly"
       },
       "data": [
        {
         "name": "Z",
         "opacity": 0.75,
         "type": "histogram",
         "x": [
          5,
          6,
          4,
          4,
          1,
          5,
          8,
          8,
          3,
          5,
          5,
          3,
          9,
          4,
          3,
          7,
          5,
          5,
          6,
          7,
          5,
          3,
          5,
          8,
          5,
          4,
          8,
          9,
          3,
          6,
          2,
          3,
          8,
          6,
          7,
          3,
          1,
          1,
          1,
          0.5,
          7,
          3,
          5,
          3,
          4,
          2,
          5,
          7,
          3,
          1,
          8,
          5,
          6,
          8,
          6,
          5,
          4,
          3,
          2,
          3,
          3,
          3,
          4,
          3,
          3,
          1,
          3,
          3,
          4,
          7,
          2,
          3,
          6,
          4,
          2,
          7,
          7,
          4,
          4,
          2,
          2,
          3,
          6,
          5,
          3,
          6,
          6,
          3,
          5,
          4,
          2,
          4,
          4,
          5,
          3,
          3,
          2,
          3,
          2,
          3,
          4,
          4,
          2,
          3,
          3,
          4,
          3,
          3,
          4,
          4,
          7,
          4,
          3,
          3,
          5,
          6,
          4,
          6,
          0.5,
          0.5,
          0.5,
          0.5,
          0.5,
          0.5,
          2
         ]
        },
        {
         "name": "L",
         "opacity": 0.75,
         "type": "histogram",
         "x": [
          5,
          11,
          5,
          4,
          2,
          5,
          8,
          8,
          8,
          5,
          6,
          3,
          9,
          5,
          6,
          7,
          5,
          5,
          5,
          8,
          5,
          5,
          4,
          7,
          5,
          4,
          5,
          5,
          5,
          10,
          3,
          5,
          8,
          7,
          10,
          4,
          3,
          3,
          2,
          0.5,
          4,
          5,
          4,
          4,
          6,
          3,
          6,
          6,
          4,
          2,
          5,
          5,
          5,
          8,
          7,
          4,
          5,
          5,
          3,
          3,
          3,
          4,
          6,
          3,
          5,
          2,
          5,
          8,
          8,
          7,
          3,
          3,
          6,
          7,
          4,
          7,
          8,
          4,
          5,
          4,
          3,
          4,
          5,
          5,
          6,
          6,
          8,
          3,
          4,
          4,
          2,
          3,
          4,
          6,
          3,
          6,
          2,
          5,
          3,
          4,
          6,
          4,
          3,
          5,
          3,
          4,
          5,
          3,
          5,
          6,
          7,
          4,
          5,
          4,
          5,
          6,
          4,
          4,
          0.5,
          0.5,
          0.5,
          0.5,
          0.5,
          0.5,
          6
         ]
        },
        {
         "name": "B",
         "opacity": 0.75,
         "type": "histogram",
         "x": [
          5,
          6,
          4,
          5,
          2,
          5,
          8,
          8,
          4,
          5,
          5,
          3,
          9,
          4,
          5,
          6,
          4,
          5,
          4,
          7,
          6,
          2,
          5,
          8,
          5,
          4,
          7,
          9,
          3,
          8,
          2,
          2,
          7,
          5,
          7,
          3,
          1,
          2,
          1,
          1,
          4,
          3,
          5,
          3,
          4,
          3,
          6,
          6,
          3,
          2,
          7,
          5,
          5,
          8,
          7,
          4,
          4,
          3,
          3,
          3,
          3,
          3,
          5,
          3,
          5,
          2,
          5,
          4,
          7,
          6,
          4,
          3,
          6,
          3,
          2,
          7,
          7,
          4,
          4,
          2,
          3,
          3,
          6,
          5,
          4,
          6,
          6,
          3,
          5,
          4,
          2,
          5,
          "                                                                                                                                                                                                                                                                                                                                                                                                                                                                                                                                                                                                                                                                                                                                                                                                                                                                                                                                                                                                                                                                                                                                                                                                                                                                                                                                                                            ",
          5,
          3,
          5,
          2,
          4,
          3,
          "                                                                                                                                                                                                                                                                                         ",
          4,
          3,
          3,
          4,
          3,
          4,
          4,
          3,
          4,
          3,
          7,
          4,
          4,
          4,
          4,
          6,
          4,
          6,
          1,
          1,
          1,
          1,
          1,
          1,
          2
         ]
        }
       ],
       "layout": {
        "bargap": 0,
        "bargroupgap": 0,
        "barmode": "group",
        "height": 500,
        "template": {
         "data": {
          "bar": [
           {
            "error_x": {
             "color": "rgb(36,36,36)"
            },
            "error_y": {
             "color": "rgb(36,36,36)"
            },
            "marker": {
             "line": {
              "color": "white",
              "width": 0.5
             }
            },
            "type": "bar"
           }
          ],
          "barpolar": [
           {
            "marker": {
             "line": {
              "color": "white",
              "width": 0.5
             }
            },
            "type": "barpolar"
           }
          ],
          "carpet": [
           {
            "aaxis": {
             "endlinecolor": "rgb(36,36,36)",
             "gridcolor": "white",
             "linecolor": "white",
             "minorgridcolor": "white",
             "startlinecolor": "rgb(36,36,36)"
            },
            "baxis": {
             "endlinecolor": "rgb(36,36,36)",
             "gridcolor": "white",
             "linecolor": "white",
             "minorgridcolor": "white",
             "startlinecolor": "rgb(36,36,36)"
            },
            "type": "carpet"
           }
          ],
          "choropleth": [
           {
            "colorbar": {
             "outlinewidth": 1,
             "tickcolor": "rgb(36,36,36)",
             "ticks": "outside"
            },
            "type": "choropleth"
           }
          ],
          "contour": [
           {
            "colorbar": {
             "outlinewidth": 1,
             "tickcolor": "rgb(36,36,36)",
             "ticks": "outside"
            },
            "colorscale": [
             [
              0,
              "#440154"
             ],
             [
              0.1111111111111111,
              "#482878"
             ],
             [
              0.2222222222222222,
              "#3e4989"
             ],
             [
              0.3333333333333333,
              "#31688e"
             ],
             [
              0.4444444444444444,
              "#26828e"
             ],
             [
              0.5555555555555556,
              "#1f9e89"
             ],
             [
              0.6666666666666666,
              "#35b779"
             ],
             [
              0.7777777777777778,
              "#6ece58"
             ],
             [
              0.8888888888888888,
              "#b5de2b"
             ],
             [
              1,
              "#fde725"
             ]
            ],
            "type": "contour"
           }
          ],
          "contourcarpet": [
           {
            "colorbar": {
             "outlinewidth": 1,
             "tickcolor": "rgb(36,36,36)",
             "ticks": "outside"
            },
            "type": "contourcarpet"
           }
          ],
          "heatmap": [
           {
            "colorbar": {
             "outlinewidth": 1,
             "tickcolor": "rgb(36,36,36)",
             "ticks": "outside"
            },
            "colorscale": [
             [
              0,
              "#440154"
             ],
             [
              0.1111111111111111,
              "#482878"
             ],
             [
              0.2222222222222222,
              "#3e4989"
             ],
             [
              0.3333333333333333,
              "#31688e"
             ],
             [
              0.4444444444444444,
              "#26828e"
             ],
             [
              0.5555555555555556,
              "#1f9e89"
             ],
             [
              0.6666666666666666,
              "#35b779"
             ],
             [
              0.7777777777777778,
              "#6ece58"
             ],
             [
              0.8888888888888888,
              "#b5de2b"
             ],
             [
              1,
              "#fde725"
             ]
            ],
            "type": "heatmap"
           }
          ],
          "heatmapgl": [
           {
            "colorbar": {
             "outlinewidth": 1,
             "tickcolor": "rgb(36,36,36)",
             "ticks": "outside"
            },
            "colorscale": [
             [
              0,
              "#440154"
             ],
             [
              0.1111111111111111,
              "#482878"
             ],
             [
              0.2222222222222222,
              "#3e4989"
             ],
             [
              0.3333333333333333,
              "#31688e"
             ],
             [
              0.4444444444444444,
              "#26828e"
             ],
             [
              0.5555555555555556,
              "#1f9e89"
             ],
             [
              0.6666666666666666,
              "#35b779"
             ],
             [
              0.7777777777777778,
              "#6ece58"
             ],
             [
              0.8888888888888888,
              "#b5de2b"
             ],
             [
              1,
              "#fde725"
             ]
            ],
            "type": "heatmapgl"
           }
          ],
          "histogram": [
           {
            "marker": {
             "line": {
              "color": "white",
              "width": 0.6
             }
            },
            "type": "histogram"
           }
          ],
          "histogram2d": [
           {
            "colorbar": {
             "outlinewidth": 1,
             "tickcolor": "rgb(36,36,36)",
             "ticks": "outside"
            },
            "colorscale": [
             [
              0,
              "#440154"
             ],
             [
              0.1111111111111111,
              "#482878"
             ],
             [
              0.2222222222222222,
              "#3e4989"
             ],
             [
              0.3333333333333333,
              "#31688e"
             ],
             [
              0.4444444444444444,
              "#26828e"
             ],
             [
              0.5555555555555556,
              "#1f9e89"
             ],
             [
              0.6666666666666666,
              "#35b779"
             ],
             [
              0.7777777777777778,
              "#6ece58"
             ],
             [
              0.8888888888888888,
              "#b5de2b"
             ],
             [
              1,
              "#fde725"
             ]
            ],
            "type": "histogram2d"
           }
          ],
          "histogram2dcontour": [
           {
            "colorbar": {
             "outlinewidth": 1,
             "tickcolor": "rgb(36,36,36)",
             "ticks": "outside"
            },
            "colorscale": [
             [
              0,
              "#440154"
             ],
             [
              0.1111111111111111,
              "#482878"
             ],
             [
              0.2222222222222222,
              "#3e4989"
             ],
             [
              0.3333333333333333,
              "#31688e"
             ],
             [
              0.4444444444444444,
              "#26828e"
             ],
             [
              0.5555555555555556,
              "#1f9e89"
             ],
             [
              0.6666666666666666,
              "#35b779"
             ],
             [
              0.7777777777777778,
              "#6ece58"
             ],
             [
              0.8888888888888888,
              "#b5de2b"
             ],
             [
              1,
              "#fde725"
             ]
            ],
            "type": "histogram2dcontour"
           }
          ],
          "mesh3d": [
           {
            "colorbar": {
             "outlinewidth": 1,
             "tickcolor": "rgb(36,36,36)",
             "ticks": "outside"
            },
            "type": "mesh3d"
           }
          ],
          "parcoords": [
           {
            "line": {
             "colorbar": {
              "outlinewidth": 1,
              "tickcolor": "rgb(36,36,36)",
              "ticks": "outside"
             }
            },
            "type": "parcoords"
           }
          ],
          "pie": [
           {
            "automargin": true,
            "type": "pie"
           }
          ],
          "scatter": [
           {
            "marker": {
             "colorbar": {
              "outlinewidth": 1,
              "tickcolor": "rgb(36,36,36)",
              "ticks": "outside"
             }
            },
            "type": "scatter"
           }
          ],
          "scatter3d": [
           {
            "line": {
             "colorbar": {
              "outlinewidth": 1,
              "tickcolor": "rgb(36,36,36)",
              "ticks": "outside"
             }
            },
            "marker": {
             "colorbar": {
              "outlinewidth": 1,
              "tickcolor": "rgb(36,36,36)",
              "ticks": "outside"
             }
            },
            "type": "scatter3d"
           }
          ],
          "scattercarpet": [
           {
            "marker": {
             "colorbar": {
              "outlinewidth": 1,
              "tickcolor": "rgb(36,36,36)",
              "ticks": "outside"
             }
            },
            "type": "scattercarpet"
           }
          ],
          "scattergeo": [
           {
            "marker": {
             "colorbar": {
              "outlinewidth": 1,
              "tickcolor": "rgb(36,36,36)",
              "ticks": "outside"
             }
            },
            "type": "scattergeo"
           }
          ],
          "scattergl": [
           {
            "marker": {
             "colorbar": {
              "outlinewidth": 1,
              "tickcolor": "rgb(36,36,36)",
              "ticks": "outside"
             }
            },
            "type": "scattergl"
           }
          ],
          "scattermapbox": [
           {
            "marker": {
             "colorbar": {
              "outlinewidth": 1,
              "tickcolor": "rgb(36,36,36)",
              "ticks": "outside"
             }
            },
            "type": "scattermapbox"
           }
          ],
          "scatterpolar": [
           {
            "marker": {
             "colorbar": {
              "outlinewidth": 1,
              "tickcolor": "rgb(36,36,36)",
              "ticks": "outside"
             }
            },
            "type": "scatterpolar"
           }
          ],
          "scatterpolargl": [
           {
            "marker": {
             "colorbar": {
              "outlinewidth": 1,
              "tickcolor": "rgb(36,36,36)",
              "ticks": "outside"
             }
            },
            "type": "scatterpolargl"
           }
          ],
          "scatterternary": [
           {
            "marker": {
             "colorbar": {
              "outlinewidth": 1,
              "tickcolor": "rgb(36,36,36)",
              "ticks": "outside"
             }
            },
            "type": "scatterternary"
           }
          ],
          "surface": [
           {
            "colorbar": {
             "outlinewidth": 1,
             "tickcolor": "rgb(36,36,36)",
             "ticks": "outside"
            },
            "colorscale": [
             [
              0,
              "#440154"
             ],
             [
              0.1111111111111111,
              "#482878"
             ],
             [
              0.2222222222222222,
              "#3e4989"
             ],
             [
              0.3333333333333333,
              "#31688e"
             ],
             [
              0.4444444444444444,
              "#26828e"
             ],
             [
              0.5555555555555556,
              "#1f9e89"
             ],
             [
              0.6666666666666666,
              "#35b779"
             ],
             [
              0.7777777777777778,
              "#6ece58"
             ],
             [
              0.8888888888888888,
              "#b5de2b"
             ],
             [
              1,
              "#fde725"
             ]
            ],
            "type": "surface"
           }
          ],
          "table": [
           {
            "cells": {
             "fill": {
              "color": "rgb(237,237,237)"
             },
             "line": {
              "color": "white"
             }
            },
            "header": {
             "fill": {
              "color": "rgb(217,217,217)"
             },
             "line": {
              "color": "white"
             }
            },
            "type": "table"
           }
          ]
         },
         "layout": {
          "annotationdefaults": {
           "arrowhead": 0,
           "arrowwidth": 1
          },
          "coloraxis": {
           "colorbar": {
            "outlinewidth": 1,
            "tickcolor": "rgb(36,36,36)",
            "ticks": "outside"
           }
          },
          "colorscale": {
           "diverging": [
            [
             0,
             "rgb(103,0,31)"
            ],
            [
             0.1,
             "rgb(178,24,43)"
            ],
            [
             0.2,
             "rgb(214,96,77)"
            ],
            [
             0.3,
             "rgb(244,165,130)"
            ],
            [
             0.4,
             "rgb(253,219,199)"
            ],
            [
             0.5,
             "rgb(247,247,247)"
            ],
            [
             0.6,
             "rgb(209,229,240)"
            ],
            [
             0.7,
             "rgb(146,197,222)"
            ],
            [
             0.8,
             "rgb(67,147,195)"
            ],
            [
             0.9,
             "rgb(33,102,172)"
            ],
            [
             1,
             "rgb(5,48,97)"
            ]
           ],
           "sequential": [
            [
             0,
             "#440154"
            ],
            [
             0.1111111111111111,
             "#482878"
            ],
            [
             0.2222222222222222,
             "#3e4989"
            ],
            [
             0.3333333333333333,
             "#31688e"
            ],
            [
             0.4444444444444444,
             "#26828e"
            ],
            [
             0.5555555555555556,
             "#1f9e89"
            ],
            [
             0.6666666666666666,
             "#35b779"
            ],
            [
             0.7777777777777778,
             "#6ece58"
            ],
            [
             0.8888888888888888,
             "#b5de2b"
            ],
            [
             1,
             "#fde725"
            ]
           ],
           "sequentialminus": [
            [
             0,
             "#440154"
            ],
            [
             0.1111111111111111,
             "#482878"
            ],
            [
             0.2222222222222222,
             "#3e4989"
            ],
            [
             0.3333333333333333,
             "#31688e"
            ],
            [
             0.4444444444444444,
             "#26828e"
            ],
            [
             0.5555555555555556,
             "#1f9e89"
            ],
            [
             0.6666666666666666,
             "#35b779"
            ],
            [
             0.7777777777777778,
             "#6ece58"
            ],
            [
             0.8888888888888888,
             "#b5de2b"
            ],
            [
             1,
             "#fde725"
            ]
           ]
          },
          "colorway": [
           "#1F77B4",
           "#FF7F0E",
           "#2CA02C",
           "#D62728",
           "#9467BD",
           "#8C564B",
           "#E377C2",
           "#7F7F7F",
           "#BCBD22",
           "#17BECF"
          ],
          "font": {
           "color": "rgb(36,36,36)"
          },
          "geo": {
           "bgcolor": "white",
           "lakecolor": "white",
           "landcolor": "white",
           "showlakes": true,
           "showland": true,
           "subunitcolor": "white"
          },
          "hoverlabel": {
           "align": "left"
          },
          "hovermode": "closest",
          "mapbox": {
           "style": "light"
          },
          "paper_bgcolor": "white",
          "plot_bgcolor": "white",
          "polar": {
           "angularaxis": {
            "gridcolor": "rgb(232,232,232)",
            "linecolor": "rgb(36,36,36)",
            "showgrid": false,
            "showline": true,
            "ticks": "outside"
           },
           "bgcolor": "white",
           "radialaxis": {
            "gridcolor": "rgb(232,232,232)",
            "linecolor": "rgb(36,36,36)",
            "showgrid": false,
            "showline": true,
            "ticks": "outside"
           }
          },
          "scene": {
           "xaxis": {
            "backgroundcolor": "white",
            "gridcolor": "rgb(232,232,232)",
            "gridwidth": 2,
            "linecolor": "rgb(36,36,36)",
            "showbackground": true,
            "showgrid": false,
            "showline": true,
            "ticks": "outside",
            "zeroline": false,
            "zerolinecolor": "rgb(36,36,36)"
           },
           "yaxis": {
            "backgroundcolor": "white",
            "gridcolor": "rgb(232,232,232)",
            "gridwidth": 2,
            "linecolor": "rgb(36,36,36)",
            "showbackground": true,
            "showgrid": false,
            "showline": true,
            "ticks": "outside",
            "zeroline": false,
            "zerolinecolor": "rgb(36,36,36)"
           },
           "zaxis": {
            "backgroundcolor": "white",
            "gridcolor": "rgb(232,232,232)",
            "gridwidth": 2,
            "linecolor": "rgb(36,36,36)",
            "showbackground": true,
            "showgrid": false,
            "showline": true,
            "ticks": "outside",
            "zeroline": false,
            "zerolinecolor": "rgb(36,36,36)"
           }
          },
          "shapedefaults": {
           "fillcolor": "black",
           "line": {
            "width": 0
           },
           "opacity": 0.3
          },
          "ternary": {
           "aaxis": {
            "gridcolor": "rgb(232,232,232)",
            "linecolor": "rgb(36,36,36)",
            "showgrid": false,
            "showline": true,
            "ticks": "outside"
           },
           "baxis": {
            "gridcolor": "rgb(232,232,232)",
            "linecolor": "rgb(36,36,36)",
            "showgrid": false,
            "showline": true,
            "ticks": "outside"
           },
           "bgcolor": "white",
           "caxis": {
            "gridcolor": "rgb(232,232,232)",
            "linecolor": "rgb(36,36,36)",
            "showgrid": false,
            "showline": true,
            "ticks": "outside"
           }
          },
          "title": {
           "x": 0.05
          },
          "xaxis": {
           "automargin": true,
           "gridcolor": "rgb(232,232,232)",
           "linecolor": "rgb(36,36,36)",
           "showgrid": false,
           "showline": true,
           "ticks": "outside",
           "title": {
            "standoff": 15
           },
           "zeroline": false,
           "zerolinecolor": "rgb(36,36,36)"
          },
          "yaxis": {
           "automargin": true,
           "gridcolor": "rgb(232,232,232)",
           "linecolor": "rgb(36,36,36)",
           "showgrid": false,
           "showline": true,
           "ticks": "outside",
           "title": {
            "standoff": 15
           },
           "zeroline": false,
           "zerolinecolor": "rgb(36,36,36)"
          }
         }
        },
        "title": {
         "font": {
          "color": "#000000",
          "size": 16
         },
         "text": "L. teres age counts (Z, L & B)",
         "x": 0.5,
         "xanchor": "center",
         "y": 0.95,
         "yanchor": "top"
        },
        "width": 900,
        "xaxis": {
         "showgrid": false,
         "title": {
          "text": "age"
         },
         "zeroline": false
        },
        "yaxis": {
         "showgrid": false,
         "title": {
          "text": "count"
         },
         "zeroline": false
        }
       }
      },
      "text/html": [
       "<div>                            <div id=\"c85ba4b9-cfe3-451e-b311-03be9972e163\" class=\"plotly-graph-div\" style=\"height:500px; width:900px;\"></div>            <script type=\"text/javascript\">                require([\"plotly\"], function(Plotly) {                    window.PLOTLYENV=window.PLOTLYENV || {};                                    if (document.getElementById(\"c85ba4b9-cfe3-451e-b311-03be9972e163\")) {                    Plotly.newPlot(                        \"c85ba4b9-cfe3-451e-b311-03be9972e163\",                        [{\"name\": \"Z\", \"opacity\": 0.75, \"type\": \"histogram\", \"x\": [5.0, 6.0, 4.0, 4.0, 1.0, 5.0, 8.0, 8.0, 3.0, 5.0, 5.0, 3.0, 9.0, 4.0, 3.0, 7.0, 5.0, 5.0, 6.0, 7.0, 5.0, 3.0, 5.0, 8.0, 5.0, 4.0, 8.0, 9.0, 3.0, 6.0, 2.0, 3.0, 8.0, 6.0, 7.0, 3.0, 1.0, 1.0, 1.0, 0.5, 7.0, 3.0, 5.0, 3.0, 4.0, 2.0, 5.0, 7.0, 3.0, 1.0, 8.0, 5.0, 6.0, 8.0, 6.0, 5.0, 4.0, 3.0, 2.0, 3.0, 3.0, 3.0, 4.0, 3.0, 3.0, 1.0, 3.0, 3.0, 4.0, 7.0, 2.0, 3.0, 6.0, 4.0, 2.0, 7.0, 7.0, 4.0, 4.0, 2.0, 2.0, 3.0, 6.0, 5.0, 3.0, 6.0, 6.0, 3.0, 5.0, 4.0, 2.0, 4.0, 4.0, 5.0, 3.0, 3.0, 2.0, 3.0, 2.0, 3.0, 4.0, 4.0, 2.0, 3.0, 3.0, 4.0, 3.0, 3.0, 4.0, 4.0, 7.0, 4.0, 3.0, 3.0, 5.0, 6.0, 4.0, 6.0, 0.5, 0.5, 0.5, 0.5, 0.5, 0.5, 2.0]}, {\"name\": \"L\", \"opacity\": 0.75, \"type\": \"histogram\", \"x\": [5.0, 11.0, 5.0, 4.0, 2.0, 5.0, 8.0, 8.0, 8.0, 5.0, 6.0, 3.0, 9.0, 5.0, 6.0, 7.0, 5.0, 5.0, 5.0, 8.0, 5.0, 5.0, 4.0, 7.0, 5.0, 4.0, 5.0, 5.0, 5.0, 10.0, 3.0, 5.0, 8.0, 7.0, 10.0, 4.0, 3.0, 3.0, 2.0, 0.5, 4.0, 5.0, 4.0, 4.0, 6.0, 3.0, 6.0, 6.0, 4.0, 2.0, 5.0, 5.0, 5.0, 8.0, 7.0, 4.0, 5.0, 5.0, 3.0, 3.0, 3.0, 4.0, 6.0, 3.0, 5.0, 2.0, 5.0, 8.0, 8.0, 7.0, 3.0, 3.0, 6.0, 7.0, 4.0, 7.0, 8.0, 4.0, 5.0, 4.0, 3.0, 4.0, 5.0, 5.0, 6.0, 6.0, 8.0, 3.0, 4.0, 4.0, 2.0, 3.0, 4.0, 6.0, 3.0, 6.0, 2.0, 5.0, 3.0, 4.0, 6.0, 4.0, 3.0, 5.0, 3.0, 4.0, 5.0, 3.0, 5.0, 6.0, 7.0, 4.0, 5.0, 4.0, 5.0, 6.0, 4.0, 4.0, 0.5, 0.5, 0.5, 0.5, 0.5, 0.5, 6.0]}, {\"name\": \"B\", \"opacity\": 0.75, \"type\": \"histogram\", \"x\": [5.0, 6.0, 4.0, 5.0, 2.0, 5.0, 8.0, 8.0, 4.0, 5.0, 5.0, 3.0, 9.0, 4.0, 5.0, 6.0, 4.0, 5.0, 4.0, 7.0, 6.0, 2.0, 5.0, 8.0, 5.0, 4.0, 7.0, 9.0, 3.0, 8.0, 2.0, 2.0, 7.0, 5.0, 7.0, 3.0, 1.0, 2.0, 1.0, 1.0, 4.0, 3.0, 5.0, 3.0, 4.0, 3.0, 6.0, 6.0, 3.0, 2.0, 7.0, 5.0, 5.0, 8.0, 7.0, 4.0, 4.0, 3.0, 3.0, 3.0, 3.0, 3.0, 5.0, 3.0, 5.0, 2.0, 5.0, 4.0, 7.0, 6.0, 4.0, 3.0, 6.0, 3.0, 2.0, 7.0, 7.0, 4.0, 4.0, 2.0, 3.0, 3.0, 6.0, 5.0, 4.0, 6.0, 6.0, 3.0, 5.0, 4.0, 2.0, 5.0, \"                                                                                                                                                                                                                                                                                                                                                                                                                                                                                                                                                                                                                                                                                                                                                                                                                                                                                                                                                                                                                                                                                                                                                                                                                                                                                                                                                                            \", 5.0, 3.0, 5.0, 2.0, 4.0, 3.0, \"                                                                                                                                                                                                                                                                                         \", 4.0, 3.0, 3.0, 4.0, 3.0, 4.0, 4.0, 3.0, 4.0, 3.0, 7.0, 4.0, 4.0, 4.0, 4.0, 6.0, 4.0, 6.0, 1.0, 1.0, 1.0, 1.0, 1.0, 1.0, 2.0]}],                        {\"bargap\": 0, \"bargroupgap\": 0, \"barmode\": \"group\", \"height\": 500, \"template\": {\"data\": {\"bar\": [{\"error_x\": {\"color\": \"rgb(36,36,36)\"}, \"error_y\": {\"color\": \"rgb(36,36,36)\"}, \"marker\": {\"line\": {\"color\": \"white\", \"width\": 0.5}}, \"type\": \"bar\"}], \"barpolar\": [{\"marker\": {\"line\": {\"color\": \"white\", \"width\": 0.5}}, \"type\": \"barpolar\"}], \"carpet\": [{\"aaxis\": {\"endlinecolor\": \"rgb(36,36,36)\", \"gridcolor\": \"white\", \"linecolor\": \"white\", \"minorgridcolor\": \"white\", \"startlinecolor\": \"rgb(36,36,36)\"}, \"baxis\": {\"endlinecolor\": \"rgb(36,36,36)\", \"gridcolor\": \"white\", \"linecolor\": \"white\", \"minorgridcolor\": \"white\", \"startlinecolor\": \"rgb(36,36,36)\"}, \"type\": \"carpet\"}], \"choropleth\": [{\"colorbar\": {\"outlinewidth\": 1, \"tickcolor\": \"rgb(36,36,36)\", \"ticks\": \"outside\"}, \"type\": \"choropleth\"}], \"contour\": [{\"colorbar\": {\"outlinewidth\": 1, \"tickcolor\": \"rgb(36,36,36)\", \"ticks\": \"outside\"}, \"colorscale\": [[0.0, \"#440154\"], [0.1111111111111111, \"#482878\"], [0.2222222222222222, \"#3e4989\"], [0.3333333333333333, \"#31688e\"], [0.4444444444444444, \"#26828e\"], [0.5555555555555556, \"#1f9e89\"], [0.6666666666666666, \"#35b779\"], [0.7777777777777778, \"#6ece58\"], [0.8888888888888888, \"#b5de2b\"], [1.0, \"#fde725\"]], \"type\": \"contour\"}], \"contourcarpet\": [{\"colorbar\": {\"outlinewidth\": 1, \"tickcolor\": \"rgb(36,36,36)\", \"ticks\": \"outside\"}, \"type\": \"contourcarpet\"}], \"heatmap\": [{\"colorbar\": {\"outlinewidth\": 1, \"tickcolor\": \"rgb(36,36,36)\", \"ticks\": \"outside\"}, \"colorscale\": [[0.0, \"#440154\"], [0.1111111111111111, \"#482878\"], [0.2222222222222222, \"#3e4989\"], [0.3333333333333333, \"#31688e\"], [0.4444444444444444, \"#26828e\"], [0.5555555555555556, \"#1f9e89\"], [0.6666666666666666, \"#35b779\"], [0.7777777777777778, \"#6ece58\"], [0.8888888888888888, \"#b5de2b\"], [1.0, \"#fde725\"]], \"type\": \"heatmap\"}], \"heatmapgl\": [{\"colorbar\": {\"outlinewidth\": 1, \"tickcolor\": \"rgb(36,36,36)\", \"ticks\": \"outside\"}, \"colorscale\": [[0.0, \"#440154\"], [0.1111111111111111, \"#482878\"], [0.2222222222222222, \"#3e4989\"], [0.3333333333333333, \"#31688e\"], [0.4444444444444444, \"#26828e\"], [0.5555555555555556, \"#1f9e89\"], [0.6666666666666666, \"#35b779\"], [0.7777777777777778, \"#6ece58\"], [0.8888888888888888, \"#b5de2b\"], [1.0, \"#fde725\"]], \"type\": \"heatmapgl\"}], \"histogram\": [{\"marker\": {\"line\": {\"color\": \"white\", \"width\": 0.6}}, \"type\": \"histogram\"}], \"histogram2d\": [{\"colorbar\": {\"outlinewidth\": 1, \"tickcolor\": \"rgb(36,36,36)\", \"ticks\": \"outside\"}, \"colorscale\": [[0.0, \"#440154\"], [0.1111111111111111, \"#482878\"], [0.2222222222222222, \"#3e4989\"], [0.3333333333333333, \"#31688e\"], [0.4444444444444444, \"#26828e\"], [0.5555555555555556, \"#1f9e89\"], [0.6666666666666666, \"#35b779\"], [0.7777777777777778, \"#6ece58\"], [0.8888888888888888, \"#b5de2b\"], [1.0, \"#fde725\"]], \"type\": \"histogram2d\"}], \"histogram2dcontour\": [{\"colorbar\": {\"outlinewidth\": 1, \"tickcolor\": \"rgb(36,36,36)\", \"ticks\": \"outside\"}, \"colorscale\": [[0.0, \"#440154\"], [0.1111111111111111, \"#482878\"], [0.2222222222222222, \"#3e4989\"], [0.3333333333333333, \"#31688e\"], [0.4444444444444444, \"#26828e\"], [0.5555555555555556, \"#1f9e89\"], [0.6666666666666666, \"#35b779\"], [0.7777777777777778, \"#6ece58\"], [0.8888888888888888, \"#b5de2b\"], [1.0, \"#fde725\"]], \"type\": \"histogram2dcontour\"}], \"mesh3d\": [{\"colorbar\": {\"outlinewidth\": 1, \"tickcolor\": \"rgb(36,36,36)\", \"ticks\": \"outside\"}, \"type\": \"mesh3d\"}], \"parcoords\": [{\"line\": {\"colorbar\": {\"outlinewidth\": 1, \"tickcolor\": \"rgb(36,36,36)\", \"ticks\": \"outside\"}}, \"type\": \"parcoords\"}], \"pie\": [{\"automargin\": true, \"type\": \"pie\"}], \"scatter\": [{\"marker\": {\"colorbar\": {\"outlinewidth\": 1, \"tickcolor\": \"rgb(36,36,36)\", \"ticks\": \"outside\"}}, \"type\": \"scatter\"}], \"scatter3d\": [{\"line\": {\"colorbar\": {\"outlinewidth\": 1, \"tickcolor\": \"rgb(36,36,36)\", \"ticks\": \"outside\"}}, \"marker\": {\"colorbar\": {\"outlinewidth\": 1, \"tickcolor\": \"rgb(36,36,36)\", \"ticks\": \"outside\"}}, \"type\": \"scatter3d\"}], \"scattercarpet\": [{\"marker\": {\"colorbar\": {\"outlinewidth\": 1, \"tickcolor\": \"rgb(36,36,36)\", \"ticks\": \"outside\"}}, \"type\": \"scattercarpet\"}], \"scattergeo\": [{\"marker\": {\"colorbar\": {\"outlinewidth\": 1, \"tickcolor\": \"rgb(36,36,36)\", \"ticks\": \"outside\"}}, \"type\": \"scattergeo\"}], \"scattergl\": [{\"marker\": {\"colorbar\": {\"outlinewidth\": 1, \"tickcolor\": \"rgb(36,36,36)\", \"ticks\": \"outside\"}}, \"type\": \"scattergl\"}], \"scattermapbox\": [{\"marker\": {\"colorbar\": {\"outlinewidth\": 1, \"tickcolor\": \"rgb(36,36,36)\", \"ticks\": \"outside\"}}, \"type\": \"scattermapbox\"}], \"scatterpolar\": [{\"marker\": {\"colorbar\": {\"outlinewidth\": 1, \"tickcolor\": \"rgb(36,36,36)\", \"ticks\": \"outside\"}}, \"type\": \"scatterpolar\"}], \"scatterpolargl\": [{\"marker\": {\"colorbar\": {\"outlinewidth\": 1, \"tickcolor\": \"rgb(36,36,36)\", \"ticks\": \"outside\"}}, \"type\": \"scatterpolargl\"}], \"scatterternary\": [{\"marker\": {\"colorbar\": {\"outlinewidth\": 1, \"tickcolor\": \"rgb(36,36,36)\", \"ticks\": \"outside\"}}, \"type\": \"scatterternary\"}], \"surface\": [{\"colorbar\": {\"outlinewidth\": 1, \"tickcolor\": \"rgb(36,36,36)\", \"ticks\": \"outside\"}, \"colorscale\": [[0.0, \"#440154\"], [0.1111111111111111, \"#482878\"], [0.2222222222222222, \"#3e4989\"], [0.3333333333333333, \"#31688e\"], [0.4444444444444444, \"#26828e\"], [0.5555555555555556, \"#1f9e89\"], [0.6666666666666666, \"#35b779\"], [0.7777777777777778, \"#6ece58\"], [0.8888888888888888, \"#b5de2b\"], [1.0, \"#fde725\"]], \"type\": \"surface\"}], \"table\": [{\"cells\": {\"fill\": {\"color\": \"rgb(237,237,237)\"}, \"line\": {\"color\": \"white\"}}, \"header\": {\"fill\": {\"color\": \"rgb(217,217,217)\"}, \"line\": {\"color\": \"white\"}}, \"type\": \"table\"}]}, \"layout\": {\"annotationdefaults\": {\"arrowhead\": 0, \"arrowwidth\": 1}, \"coloraxis\": {\"colorbar\": {\"outlinewidth\": 1, \"tickcolor\": \"rgb(36,36,36)\", \"ticks\": \"outside\"}}, \"colorscale\": {\"diverging\": [[0.0, \"rgb(103,0,31)\"], [0.1, \"rgb(178,24,43)\"], [0.2, \"rgb(214,96,77)\"], [0.3, \"rgb(244,165,130)\"], [0.4, \"rgb(253,219,199)\"], [0.5, \"rgb(247,247,247)\"], [0.6, \"rgb(209,229,240)\"], [0.7, \"rgb(146,197,222)\"], [0.8, \"rgb(67,147,195)\"], [0.9, \"rgb(33,102,172)\"], [1.0, \"rgb(5,48,97)\"]], \"sequential\": [[0.0, \"#440154\"], [0.1111111111111111, \"#482878\"], [0.2222222222222222, \"#3e4989\"], [0.3333333333333333, \"#31688e\"], [0.4444444444444444, \"#26828e\"], [0.5555555555555556, \"#1f9e89\"], [0.6666666666666666, \"#35b779\"], [0.7777777777777778, \"#6ece58\"], [0.8888888888888888, \"#b5de2b\"], [1.0, \"#fde725\"]], \"sequentialminus\": [[0.0, \"#440154\"], [0.1111111111111111, \"#482878\"], [0.2222222222222222, \"#3e4989\"], [0.3333333333333333, \"#31688e\"], [0.4444444444444444, \"#26828e\"], [0.5555555555555556, \"#1f9e89\"], [0.6666666666666666, \"#35b779\"], [0.7777777777777778, \"#6ece58\"], [0.8888888888888888, \"#b5de2b\"], [1.0, \"#fde725\"]]}, \"colorway\": [\"#1F77B4\", \"#FF7F0E\", \"#2CA02C\", \"#D62728\", \"#9467BD\", \"#8C564B\", \"#E377C2\", \"#7F7F7F\", \"#BCBD22\", \"#17BECF\"], \"font\": {\"color\": \"rgb(36,36,36)\"}, \"geo\": {\"bgcolor\": \"white\", \"lakecolor\": \"white\", \"landcolor\": \"white\", \"showlakes\": true, \"showland\": true, \"subunitcolor\": \"white\"}, \"hoverlabel\": {\"align\": \"left\"}, \"hovermode\": \"closest\", \"mapbox\": {\"style\": \"light\"}, \"paper_bgcolor\": \"white\", \"plot_bgcolor\": \"white\", \"polar\": {\"angularaxis\": {\"gridcolor\": \"rgb(232,232,232)\", \"linecolor\": \"rgb(36,36,36)\", \"showgrid\": false, \"showline\": true, \"ticks\": \"outside\"}, \"bgcolor\": \"white\", \"radialaxis\": {\"gridcolor\": \"rgb(232,232,232)\", \"linecolor\": \"rgb(36,36,36)\", \"showgrid\": false, \"showline\": true, \"ticks\": \"outside\"}}, \"scene\": {\"xaxis\": {\"backgroundcolor\": \"white\", \"gridcolor\": \"rgb(232,232,232)\", \"gridwidth\": 2, \"linecolor\": \"rgb(36,36,36)\", \"showbackground\": true, \"showgrid\": false, \"showline\": true, \"ticks\": \"outside\", \"zeroline\": false, \"zerolinecolor\": \"rgb(36,36,36)\"}, \"yaxis\": {\"backgroundcolor\": \"white\", \"gridcolor\": \"rgb(232,232,232)\", \"gridwidth\": 2, \"linecolor\": \"rgb(36,36,36)\", \"showbackground\": true, \"showgrid\": false, \"showline\": true, \"ticks\": \"outside\", \"zeroline\": false, \"zerolinecolor\": \"rgb(36,36,36)\"}, \"zaxis\": {\"backgroundcolor\": \"white\", \"gridcolor\": \"rgb(232,232,232)\", \"gridwidth\": 2, \"linecolor\": \"rgb(36,36,36)\", \"showbackground\": true, \"showgrid\": false, \"showline\": true, \"ticks\": \"outside\", \"zeroline\": false, \"zerolinecolor\": \"rgb(36,36,36)\"}}, \"shapedefaults\": {\"fillcolor\": \"black\", \"line\": {\"width\": 0}, \"opacity\": 0.3}, \"ternary\": {\"aaxis\": {\"gridcolor\": \"rgb(232,232,232)\", \"linecolor\": \"rgb(36,36,36)\", \"showgrid\": false, \"showline\": true, \"ticks\": \"outside\"}, \"baxis\": {\"gridcolor\": \"rgb(232,232,232)\", \"linecolor\": \"rgb(36,36,36)\", \"showgrid\": false, \"showline\": true, \"ticks\": \"outside\"}, \"bgcolor\": \"white\", \"caxis\": {\"gridcolor\": \"rgb(232,232,232)\", \"linecolor\": \"rgb(36,36,36)\", \"showgrid\": false, \"showline\": true, \"ticks\": \"outside\"}}, \"title\": {\"x\": 0.05}, \"xaxis\": {\"automargin\": true, \"gridcolor\": \"rgb(232,232,232)\", \"linecolor\": \"rgb(36,36,36)\", \"showgrid\": false, \"showline\": true, \"ticks\": \"outside\", \"title\": {\"standoff\": 15}, \"zeroline\": false, \"zerolinecolor\": \"rgb(36,36,36)\"}, \"yaxis\": {\"automargin\": true, \"gridcolor\": \"rgb(232,232,232)\", \"linecolor\": \"rgb(36,36,36)\", \"showgrid\": false, \"showline\": true, \"ticks\": \"outside\", \"title\": {\"standoff\": 15}, \"zeroline\": false, \"zerolinecolor\": \"rgb(36,36,36)\"}}}, \"title\": {\"font\": {\"color\": \"#000000\", \"size\": 16}, \"text\": \"L. teres age counts (Z, L & B)\", \"x\": 0.5, \"xanchor\": \"center\", \"y\": 0.95, \"yanchor\": \"top\"}, \"width\": 900, \"xaxis\": {\"showgrid\": false, \"title\": {\"text\": \"age\"}, \"zeroline\": false}, \"yaxis\": {\"showgrid\": false, \"title\": {\"text\": \"count\"}, \"zeroline\": false}},                        {\"responsive\": true}                    ).then(function(){\n",
       "                            \n",
       "var gd = document.getElementById('c85ba4b9-cfe3-451e-b311-03be9972e163');\n",
       "var x = new MutationObserver(function (mutations, observer) {{\n",
       "        var display = window.getComputedStyle(gd).display;\n",
       "        if (!display || display === 'none') {{\n",
       "            console.log([gd, 'removed!']);\n",
       "            Plotly.purge(gd);\n",
       "            observer.disconnect();\n",
       "        }}\n",
       "}});\n",
       "\n",
       "// Listen for the removal of the full notebook cells\n",
       "var notebookContainer = gd.closest('#notebook-container');\n",
       "if (notebookContainer) {{\n",
       "    x.observe(notebookContainer, {childList: true});\n",
       "}}\n",
       "\n",
       "// Listen for the clearing of the current output cell\n",
       "var outputEl = gd.closest('.output');\n",
       "if (outputEl) {{\n",
       "    x.observe(outputEl, {childList: true});\n",
       "}}\n",
       "\n",
       "                        })                };                });            </script>        </div>"
      ]
     },
     "metadata": {},
     "output_type": "display_data"
    }
   ],
   "source": [
    "fig = go.Figure()\n",
    "fig.add_trace(go.Histogram(x=clean_teres[\"Z age\"], name='Z'))\n",
    "fig.add_trace(go.Histogram(x=clean_teres[\"L age\"], name='L'))\n",
    "fig.add_trace(go.Histogram(x=clean_teres[\"B age\"], name='B'))\n",
    "\n",
    "\n",
    "# Overlay both histograms\n",
    "fig.update_layout(\n",
    "    \n",
    "    title=dict(\n",
    "        text='L. teres age counts (Z, L & B)',\n",
    "        x=0.5,\n",
    "        y=0.95,\n",
    "        xanchor='center',\n",
    "        yanchor= 'top',\n",
    "        font=dict(\n",
    "            size=16,\n",
    "            color='#000000'\n",
    "                )),\n",
    "    barmode='group',\n",
    "    bargap=0,\n",
    "    template='simple_white',\n",
    "#     paper_bgcolor='#FFFFFF',\n",
    "#     plot_bgcolor='#FFFFFF',\n",
    "    width=900, \n",
    "    height=500,\n",
    "    bargroupgap=0\n",
    "    )\n",
    "# Reduce opacity to see both histograms\n",
    "fig.update_traces(opacity=0.75)\n",
    "fig.update_xaxes(\n",
    "        showgrid=False, \n",
    "        zeroline=False,\n",
    "        title_text = \"age\"\n",
    "        )\n",
    "fig.update_yaxes(\n",
    "        showgrid=False, \n",
    "        zeroline=False,\n",
    "        title_text = \"count\",\n",
    "        )\n",
    "\n",
    "fig.show()"
   ]
  },
  {
   "cell_type": "code",
   "execution_count": 20,
   "metadata": {},
   "outputs": [
    {
     "name": "stdout",
     "output_type": "stream",
     "text": [
      "Requirement already satisfied: jupyterlab_dash in /Users/biancahernandez/opt/anaconda2/envs/mussel_aging/lib/python3.8/site-packages (0.1.0a2)\n",
      "Requirement already satisfied: dash in /Users/biancahernandez/opt/anaconda2/envs/mussel_aging/lib/python3.8/site-packages (from jupyterlab_dash) (1.16.3)\n",
      "Requirement already satisfied: jupyter-server-proxy in /Users/biancahernandez/opt/anaconda2/envs/mussel_aging/lib/python3.8/site-packages (from jupyterlab_dash) (1.6.0)\n",
      "Requirement already satisfied: Flask>=1.0.2 in /Users/biancahernandez/opt/anaconda2/envs/mussel_aging/lib/python3.8/site-packages (from dash->jupyterlab_dash) (1.1.2)\n",
      "Requirement already satisfied: dash-html-components==1.1.1 in /Users/biancahernandez/opt/anaconda2/envs/mussel_aging/lib/python3.8/site-packages (from dash->jupyterlab_dash) (1.1.1)\n",
      "Requirement already satisfied: flask-compress in /Users/biancahernandez/opt/anaconda2/envs/mussel_aging/lib/python3.8/site-packages (from dash->jupyterlab_dash) (1.7.0)\n",
      "Requirement already satisfied: future in /Users/biancahernandez/opt/anaconda2/envs/mussel_aging/lib/python3.8/site-packages (from dash->jupyterlab_dash) (0.18.2)\n",
      "Requirement already satisfied: dash-table==4.10.1 in /Users/biancahernandez/opt/anaconda2/envs/mussel_aging/lib/python3.8/site-packages (from dash->jupyterlab_dash) (4.10.1)\n",
      "Requirement already satisfied: plotly in /Users/biancahernandez/opt/anaconda2/envs/mussel_aging/lib/python3.8/site-packages (from dash->jupyterlab_dash) (4.11.0)\n",
      "Requirement already satisfied: dash-core-components==1.12.1 in /Users/biancahernandez/opt/anaconda2/envs/mussel_aging/lib/python3.8/site-packages (from dash->jupyterlab_dash) (1.12.1)\n",
      "Requirement already satisfied: dash-renderer==1.8.2 in /Users/biancahernandez/opt/anaconda2/envs/mussel_aging/lib/python3.8/site-packages (from dash->jupyterlab_dash) (1.8.2)\n",
      "Requirement already satisfied: aiohttp in /Users/biancahernandez/opt/anaconda2/envs/mussel_aging/lib/python3.8/site-packages (from jupyter-server-proxy->jupyterlab_dash) (3.7.3)\n",
      "Requirement already satisfied: notebook in /Users/biancahernandez/opt/anaconda2/envs/mussel_aging/lib/python3.8/site-packages (from jupyter-server-proxy->jupyterlab_dash) (6.1.5)\n",
      "Requirement already satisfied: simpervisor>=0.4 in /Users/biancahernandez/opt/anaconda2/envs/mussel_aging/lib/python3.8/site-packages (from jupyter-server-proxy->jupyterlab_dash) (0.4)\n",
      "Requirement already satisfied: Jinja2>=2.10.1 in /Users/biancahernandez/opt/anaconda2/envs/mussel_aging/lib/python3.8/site-packages (from Flask>=1.0.2->dash->jupyterlab_dash) (2.11.2)\n",
      "Requirement already satisfied: itsdangerous>=0.24 in /Users/biancahernandez/opt/anaconda2/envs/mussel_aging/lib/python3.8/site-packages (from Flask>=1.0.2->dash->jupyterlab_dash) (1.1.0)\n",
      "Requirement already satisfied: Werkzeug>=0.15 in /Users/biancahernandez/opt/anaconda2/envs/mussel_aging/lib/python3.8/site-packages (from Flask>=1.0.2->dash->jupyterlab_dash) (1.0.1)\n",
      "Requirement already satisfied: click>=5.1 in /Users/biancahernandez/opt/anaconda2/envs/mussel_aging/lib/python3.8/site-packages (from Flask>=1.0.2->dash->jupyterlab_dash) (7.1.2)\n",
      "Requirement already satisfied: brotli in /Users/biancahernandez/opt/anaconda2/envs/mussel_aging/lib/python3.8/site-packages (from flask-compress->dash->jupyterlab_dash) (1.0.9)\n",
      "Requirement already satisfied: retrying>=1.3.3 in /Users/biancahernandez/opt/anaconda2/envs/mussel_aging/lib/python3.8/site-packages (from plotly->dash->jupyterlab_dash) (1.3.3)\n",
      "Requirement already satisfied: six in /Users/biancahernandez/opt/anaconda2/envs/mussel_aging/lib/python3.8/site-packages (from plotly->dash->jupyterlab_dash) (1.15.0)\n",
      "Requirement already satisfied: typing-extensions>=3.6.5 in /Users/biancahernandez/opt/anaconda2/envs/mussel_aging/lib/python3.8/site-packages (from aiohttp->jupyter-server-proxy->jupyterlab_dash) (3.7.4.3)\n",
      "Requirement already satisfied: chardet<4.0,>=2.0 in /Users/biancahernandez/opt/anaconda2/envs/mussel_aging/lib/python3.8/site-packages (from aiohttp->jupyter-server-proxy->jupyterlab_dash) (3.0.4)\n",
      "Requirement already satisfied: yarl<2.0,>=1.0 in /Users/biancahernandez/opt/anaconda2/envs/mussel_aging/lib/python3.8/site-packages (from aiohttp->jupyter-server-proxy->jupyterlab_dash) (1.6.3)\n",
      "Requirement already satisfied: multidict<7.0,>=4.5 in /Users/biancahernandez/opt/anaconda2/envs/mussel_aging/lib/python3.8/site-packages (from aiohttp->jupyter-server-proxy->jupyterlab_dash) (5.1.0)\n",
      "Requirement already satisfied: attrs>=17.3.0 in /Users/biancahernandez/opt/anaconda2/envs/mussel_aging/lib/python3.8/site-packages (from aiohttp->jupyter-server-proxy->jupyterlab_dash) (20.3.0)\n",
      "Requirement already satisfied: async-timeout<4.0,>=3.0 in /Users/biancahernandez/opt/anaconda2/envs/mussel_aging/lib/python3.8/site-packages (from aiohttp->jupyter-server-proxy->jupyterlab_dash) (3.0.1)\n",
      "Requirement already satisfied: pyzmq>=17 in /Users/biancahernandez/opt/anaconda2/envs/mussel_aging/lib/python3.8/site-packages (from notebook->jupyter-server-proxy->jupyterlab_dash) (20.0.0)\n",
      "Requirement already satisfied: argon2-cffi in /Users/biancahernandez/opt/anaconda2/envs/mussel_aging/lib/python3.8/site-packages (from notebook->jupyter-server-proxy->jupyterlab_dash) (20.1.0)\n",
      "Requirement already satisfied: ipython-genutils in /Users/biancahernandez/opt/anaconda2/envs/mussel_aging/lib/python3.8/site-packages (from notebook->jupyter-server-proxy->jupyterlab_dash) (0.2.0)\n",
      "Requirement already satisfied: traitlets>=4.2.1 in /Users/biancahernandez/opt/anaconda2/envs/mussel_aging/lib/python3.8/site-packages (from notebook->jupyter-server-proxy->jupyterlab_dash) (5.0.5)\n",
      "Requirement already satisfied: Send2Trash in /Users/biancahernandez/opt/anaconda2/envs/mussel_aging/lib/python3.8/site-packages (from notebook->jupyter-server-proxy->jupyterlab_dash) (1.5.0)\n",
      "Requirement already satisfied: ipykernel in /Users/biancahernandez/opt/anaconda2/envs/mussel_aging/lib/python3.8/site-packages (from notebook->jupyter-server-proxy->jupyterlab_dash) (5.3.4)\n",
      "Requirement already satisfied: jupyter-client>=5.3.4 in /Users/biancahernandez/opt/anaconda2/envs/mussel_aging/lib/python3.8/site-packages (from notebook->jupyter-server-proxy->jupyterlab_dash) (6.1.7)\n",
      "Requirement already satisfied: prometheus-client in /Users/biancahernandez/opt/anaconda2/envs/mussel_aging/lib/python3.8/site-packages (from notebook->jupyter-server-proxy->jupyterlab_dash) (0.9.0)\n",
      "Requirement already satisfied: nbconvert in /Users/biancahernandez/opt/anaconda2/envs/mussel_aging/lib/python3.8/site-packages (from notebook->jupyter-server-proxy->jupyterlab_dash) (6.0.7)\n",
      "Requirement already satisfied: terminado>=0.8.3 in /Users/biancahernandez/opt/anaconda2/envs/mussel_aging/lib/python3.8/site-packages (from notebook->jupyter-server-proxy->jupyterlab_dash) (0.9.1)\n",
      "Requirement already satisfied: tornado>=5.0 in /Users/biancahernandez/opt/anaconda2/envs/mussel_aging/lib/python3.8/site-packages (from notebook->jupyter-server-proxy->jupyterlab_dash) (6.1)\n",
      "Requirement already satisfied: jupyter-core>=4.6.1 in /Users/biancahernandez/opt/anaconda2/envs/mussel_aging/lib/python3.8/site-packages (from notebook->jupyter-server-proxy->jupyterlab_dash) (4.7.0)\n",
      "Requirement already satisfied: nbformat in /Users/biancahernandez/opt/anaconda2/envs/mussel_aging/lib/python3.8/site-packages (from notebook->jupyter-server-proxy->jupyterlab_dash) (5.0.8)\n",
      "Requirement already satisfied: MarkupSafe>=0.23 in /Users/biancahernandez/opt/anaconda2/envs/mussel_aging/lib/python3.8/site-packages (from Jinja2>=2.10.1->Flask>=1.0.2->dash->jupyterlab_dash) (1.1.1)\n",
      "Requirement already satisfied: idna>=2.0 in /Users/biancahernandez/opt/anaconda2/envs/mussel_aging/lib/python3.8/site-packages (from yarl<2.0,>=1.0->aiohttp->jupyter-server-proxy->jupyterlab_dash) (2.10)\n",
      "Requirement already satisfied: cffi>=1.0.0 in /Users/biancahernandez/opt/anaconda2/envs/mussel_aging/lib/python3.8/site-packages (from argon2-cffi->notebook->jupyter-server-proxy->jupyterlab_dash) (1.14.4)\n",
      "Requirement already satisfied: ipython>=5.0.0 in /Users/biancahernandez/opt/anaconda2/envs/mussel_aging/lib/python3.8/site-packages (from ipykernel->notebook->jupyter-server-proxy->jupyterlab_dash) (7.19.0)\n",
      "Requirement already satisfied: appnope; platform_system == \"Darwin\" in /Users/biancahernandez/opt/anaconda2/envs/mussel_aging/lib/python3.8/site-packages (from ipykernel->notebook->jupyter-server-proxy->jupyterlab_dash) (0.1.1)\n",
      "Requirement already satisfied: python-dateutil>=2.1 in /Users/biancahernandez/opt/anaconda2/envs/mussel_aging/lib/python3.8/site-packages (from jupyter-client>=5.3.4->notebook->jupyter-server-proxy->jupyterlab_dash) (2.8.1)\n",
      "Requirement already satisfied: mistune<2,>=0.8.1 in /Users/biancahernandez/opt/anaconda2/envs/mussel_aging/lib/python3.8/site-packages (from nbconvert->notebook->jupyter-server-proxy->jupyterlab_dash) (0.8.4)\n",
      "Requirement already satisfied: entrypoints>=0.2.2 in /Users/biancahernandez/opt/anaconda2/envs/mussel_aging/lib/python3.8/site-packages (from nbconvert->notebook->jupyter-server-proxy->jupyterlab_dash) (0.3)\n",
      "Requirement already satisfied: testpath in /Users/biancahernandez/opt/anaconda2/envs/mussel_aging/lib/python3.8/site-packages (from nbconvert->notebook->jupyter-server-proxy->jupyterlab_dash) (0.4.4)\n",
      "Requirement already satisfied: jupyterlab-pygments in /Users/biancahernandez/opt/anaconda2/envs/mussel_aging/lib/python3.8/site-packages (from nbconvert->notebook->jupyter-server-proxy->jupyterlab_dash) (0.1.2)\n"
     ]
    },
    {
     "name": "stdout",
     "output_type": "stream",
     "text": [
      "Requirement already satisfied: nbclient<0.6.0,>=0.5.0 in /Users/biancahernandez/opt/anaconda2/envs/mussel_aging/lib/python3.8/site-packages (from nbconvert->notebook->jupyter-server-proxy->jupyterlab_dash) (0.5.1)\n",
      "Requirement already satisfied: bleach in /Users/biancahernandez/opt/anaconda2/envs/mussel_aging/lib/python3.8/site-packages (from nbconvert->notebook->jupyter-server-proxy->jupyterlab_dash) (3.2.1)\n",
      "Requirement already satisfied: pygments>=2.4.1 in /Users/biancahernandez/opt/anaconda2/envs/mussel_aging/lib/python3.8/site-packages (from nbconvert->notebook->jupyter-server-proxy->jupyterlab_dash) (2.7.2)\n",
      "Requirement already satisfied: defusedxml in /Users/biancahernandez/opt/anaconda2/envs/mussel_aging/lib/python3.8/site-packages (from nbconvert->notebook->jupyter-server-proxy->jupyterlab_dash) (0.6.0)\n",
      "Requirement already satisfied: pandocfilters>=1.4.1 in /Users/biancahernandez/opt/anaconda2/envs/mussel_aging/lib/python3.8/site-packages (from nbconvert->notebook->jupyter-server-proxy->jupyterlab_dash) (1.4.3)\n",
      "Requirement already satisfied: ptyprocess; os_name != \"nt\" in /Users/biancahernandez/opt/anaconda2/envs/mussel_aging/lib/python3.8/site-packages (from terminado>=0.8.3->notebook->jupyter-server-proxy->jupyterlab_dash) (0.6.0)\n",
      "Requirement already satisfied: jsonschema!=2.5.0,>=2.4 in /Users/biancahernandez/opt/anaconda2/envs/mussel_aging/lib/python3.8/site-packages (from nbformat->notebook->jupyter-server-proxy->jupyterlab_dash) (3.2.0)\n",
      "Requirement already satisfied: pycparser in /Users/biancahernandez/opt/anaconda2/envs/mussel_aging/lib/python3.8/site-packages (from cffi>=1.0.0->argon2-cffi->notebook->jupyter-server-proxy->jupyterlab_dash) (2.20)\n",
      "Requirement already satisfied: pickleshare in /Users/biancahernandez/opt/anaconda2/envs/mussel_aging/lib/python3.8/site-packages (from ipython>=5.0.0->ipykernel->notebook->jupyter-server-proxy->jupyterlab_dash) (0.7.5)\n",
      "Requirement already satisfied: decorator in /Users/biancahernandez/opt/anaconda2/envs/mussel_aging/lib/python3.8/site-packages (from ipython>=5.0.0->ipykernel->notebook->jupyter-server-proxy->jupyterlab_dash) (4.4.2)\n",
      "Requirement already satisfied: setuptools>=18.5 in /Users/biancahernandez/opt/anaconda2/envs/mussel_aging/lib/python3.8/site-packages (from ipython>=5.0.0->ipykernel->notebook->jupyter-server-proxy->jupyterlab_dash) (50.3.0.post20201006)\n",
      "Requirement already satisfied: backcall in /Users/biancahernandez/opt/anaconda2/envs/mussel_aging/lib/python3.8/site-packages (from ipython>=5.0.0->ipykernel->notebook->jupyter-server-proxy->jupyterlab_dash) (0.2.0)\n",
      "Requirement already satisfied: pexpect>4.3; sys_platform != \"win32\" in /Users/biancahernandez/opt/anaconda2/envs/mussel_aging/lib/python3.8/site-packages (from ipython>=5.0.0->ipykernel->notebook->jupyter-server-proxy->jupyterlab_dash) (4.8.0)\n",
      "Requirement already satisfied: jedi>=0.10 in /Users/biancahernandez/opt/anaconda2/envs/mussel_aging/lib/python3.8/site-packages (from ipython>=5.0.0->ipykernel->notebook->jupyter-server-proxy->jupyterlab_dash) (0.17.2)\n",
      "Requirement already satisfied: prompt-toolkit!=3.0.0,!=3.0.1,<3.1.0,>=2.0.0 in /Users/biancahernandez/opt/anaconda2/envs/mussel_aging/lib/python3.8/site-packages (from ipython>=5.0.0->ipykernel->notebook->jupyter-server-proxy->jupyterlab_dash) (3.0.8)\n",
      "Requirement already satisfied: nest-asyncio in /Users/biancahernandez/opt/anaconda2/envs/mussel_aging/lib/python3.8/site-packages (from nbclient<0.6.0,>=0.5.0->nbconvert->notebook->jupyter-server-proxy->jupyterlab_dash) (1.4.3)\n",
      "Requirement already satisfied: async-generator in /Users/biancahernandez/opt/anaconda2/envs/mussel_aging/lib/python3.8/site-packages (from nbclient<0.6.0,>=0.5.0->nbconvert->notebook->jupyter-server-proxy->jupyterlab_dash) (1.10)\n",
      "Requirement already satisfied: webencodings in /Users/biancahernandez/opt/anaconda2/envs/mussel_aging/lib/python3.8/site-packages (from bleach->nbconvert->notebook->jupyter-server-proxy->jupyterlab_dash) (0.5.1)\n",
      "Requirement already satisfied: packaging in /Users/biancahernandez/opt/anaconda2/envs/mussel_aging/lib/python3.8/site-packages (from bleach->nbconvert->notebook->jupyter-server-proxy->jupyterlab_dash) (20.7)\n",
      "Requirement already satisfied: pyrsistent>=0.14.0 in /Users/biancahernandez/opt/anaconda2/envs/mussel_aging/lib/python3.8/site-packages (from jsonschema!=2.5.0,>=2.4->nbformat->notebook->jupyter-server-proxy->jupyterlab_dash) (0.17.3)\n",
      "Requirement already satisfied: parso<0.8.0,>=0.7.0 in /Users/biancahernandez/opt/anaconda2/envs/mussel_aging/lib/python3.8/site-packages (from jedi>=0.10->ipython>=5.0.0->ipykernel->notebook->jupyter-server-proxy->jupyterlab_dash) (0.7.1)\n",
      "Requirement already satisfied: wcwidth in /Users/biancahernandez/opt/anaconda2/envs/mussel_aging/lib/python3.8/site-packages (from prompt-toolkit!=3.0.0,!=3.0.1,<3.1.0,>=2.0.0->ipython>=5.0.0->ipykernel->notebook->jupyter-server-proxy->jupyterlab_dash) (0.2.5)\n",
      "Requirement already satisfied: pyparsing>=2.0.2 in /Users/biancahernandez/opt/anaconda2/envs/mussel_aging/lib/python3.8/site-packages (from packaging->bleach->nbconvert->notebook->jupyter-server-proxy->jupyterlab_dash) (2.4.7)\n",
      "Building jupyterlab assets\n",
      "Building jupyterlab assets\n"
     ]
    }
   ],
   "source": [
    "!pip install jupyterlab_dash\n",
    "!jupyter labextension install jupyterlab-dash@0.1.0-alpha.3\n",
    "!jupyter labextension install jupyterlab-dash"
   ]
  },
  {
   "cell_type": "code",
   "execution_count": 40,
   "metadata": {},
   "outputs": [],
   "source": [
    "import plotly.express as px\n",
    "from jupyter_dash import JupyterDash\n",
    "import dash_core_components as dcc\n",
    "import dash_html_components as html\n",
    "import dash_bootstrap_components as dbc\n",
    "from dash.dependencies import Input, Output"
   ]
  },
  {
   "cell_type": "code",
   "execution_count": 54,
   "metadata": {},
   "outputs": [
    {
     "name": "stdout",
     "output_type": "stream",
     "text": [
      "Dash app running on http://127.0.0.1:8050/\n"
     ]
    }
   ],
   "source": [
    "def teres_fig():\n",
    "    fig = go.Figure()\n",
    "    fig.add_trace(go.Histogram(x=clean_teres[\"Z age\"], name='Z'))\n",
    "    fig.add_trace(go.Histogram(x=clean_teres[\"L age\"], name='L'))\n",
    "    fig.add_trace(go.Histogram(x=clean_teres[\"B age\"], name='B'))\n",
    "\n",
    "\n",
    "    # Overlay both histograms\n",
    "    fig.update_layout(\n",
    "    \n",
    "        title=dict(\n",
    "            text='L. teres age counts (Z, L & B)',\n",
    "            x=0.5,\n",
    "            y=0.95,\n",
    "            xanchor='center',\n",
    "            yanchor= 'top',\n",
    "            font=dict(\n",
    "                size=16,\n",
    "                color='#000000'\n",
    "                )),\n",
    "        barmode='group',\n",
    "        bargap=0,\n",
    "        template='simple_white',\n",
    "        # paper_bgcolor='#FFFFFF',\n",
    "        # plot_bgcolor='#FFFFFF',\n",
    "        width=900, \n",
    "        height=500,\n",
    "        bargroupgap=0\n",
    "        )\n",
    "    # Reduce opacity to see both histograms\n",
    "    fig.update_traces(opacity=0.75)\n",
    "    fig.update_xaxes(\n",
    "        showgrid=False, \n",
    "        zeroline=False,\n",
    "        title_text = \"age\"\n",
    "        )\n",
    "    fig.update_yaxes(\n",
    "        showgrid=False, \n",
    "        zeroline=False,\n",
    "        title_text = \"count\",\n",
    "        )\n",
    "\n",
    "    return fig\n",
    "\n",
    "#Build App\n",
    "app = JupyterDash(__name__, external_stylesheets=[dbc.themes.FLATLY])\n",
    "app.layout = dbc.Jumbotron([\n",
    "    dbc.Container([\n",
    "    html.Br(),\n",
    "    html.H1(\"Mussel aging project\"),\n",
    "    html.Br(),\n",
    "    dbc.Row([dcc.Graph(id='teres',\n",
    "              figure=teres_fig())\n",
    "             \n",
    "        \n",
    "            ], style={\"justify\":\"center\"}),\n",
    "    ],fluid=True, style={'textAlign': 'left'}),\n",
    "    \n",
    "    \n",
    "])\n",
    "# Run app and display result inline in the notebook\n",
    "app.run_server(mode='external')   "
   ]
  },
  {
   "cell_type": "code",
   "execution_count": null,
   "metadata": {},
   "outputs": [],
   "source": []
  }
 ],
 "metadata": {
  "kernelspec": {
   "display_name": "Python 3",
   "language": "python",
   "name": "python3"
  },
  "language_info": {
   "codemirror_mode": {
    "name": "ipython",
    "version": 3
   },
   "file_extension": ".py",
   "mimetype": "text/x-python",
   "name": "python",
   "nbconvert_exporter": "python",
   "pygments_lexer": "ipython3",
   "version": "3.8.5"
  }
 },
 "nbformat": 4,
 "nbformat_minor": 4
}
